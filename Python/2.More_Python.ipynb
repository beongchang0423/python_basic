{
 "cells": [
  {
   "cell_type": "markdown",
   "id": "89e0fb62-8bb9-46b1-9c8f-b51b355eda13",
   "metadata": {
    "tags": []
   },
   "source": [
    "### 변수 여럿에 동시 할당하기 = unpacking\n",
    "좌변과 우변의 개수가 같을때 한번에 할당하는 방식.\n",
    "아래와 같은 입력은 튜플의 입력방식 중 하나로 튜플을 unpacking해서 값이 할당해주는 방식이다."
   ]
  },
  {
   "cell_type": "code",
   "execution_count": 7,
   "id": "7ca77902-6565-42fc-bf90-42bdd9a06039",
   "metadata": {},
   "outputs": [
    {
     "name": "stdout",
     "output_type": "stream",
     "text": [
      "text1 text2\n"
     ]
    }
   ],
   "source": [
    "s1,s2 = \"text1\",\"text2\"\n",
    "print(s1,s2)"
   ]
  },
  {
   "cell_type": "code",
   "execution_count": null,
   "id": "11359c52-969d-4d72-a7b9-d5f63e0be2c6",
   "metadata": {},
   "outputs": [],
   "source": [
    "튜플 외에 다른 시퀀스 자료형도 unpacking이 가능하다"
   ]
  },
  {
   "cell_type": "code",
   "execution_count": null,
   "id": "1af4fe58-1114-4a75-9ec7-e36d96a12471",
   "metadata": {},
   "outputs": [],
   "source": [
    "s3,s4,s5 =[\"이렇게\",\"리스트도\",\"가능하다\"]\n",
    "print(s3,s4,s5)"
   ]
  },
  {
   "cell_type": "markdown",
   "id": "80407fe5-5de9-4589-8d41-5c69d7a1794f",
   "metadata": {},
   "source": [
    "### map() 내장 함수 이용하기  \n",
    "iterable한 객체에서 요소 하나하나 꺼내어 특정 함수를 각각 적용하고 싶을 때 사용\n",
    "반환은 map 클래스로 반환하는 iterable한 객체이다.\n",
    "이를 활용하기 위해 list()함수나 tuple()함수를 활용하여 map 클래스는 list나 tuple로 변경 가능하다."
   ]
  },
  {
   "cell_type": "code",
   "execution_count": 33,
   "id": "2daf7a36-060d-4e7e-8a71-2800669a0066",
   "metadata": {},
   "outputs": [
    {
     "name": "stdout",
     "output_type": "stream",
     "text": [
      "[1.2, 3.4, 5.6, 7.8, 26.5, 32.0]\n"
     ]
    }
   ],
   "source": [
    "lst = [1.2,3.4,5.6,7.8,26.5,32]\n",
    "lst = list(map(float,lst))\n",
    "print(lst)"
   ]
  },
  {
   "cell_type": "markdown",
   "id": "0579a629-c9c3-4b01-a6b3-dfddc54133b5",
   "metadata": {},
   "source": [
    "### 출력 값과 값을 구분하는 단위 변경하기 seperate(sep)"
   ]
  },
  {
   "cell_type": "code",
   "execution_count": 40,
   "id": "1c82f6f8-3c74-4cbb-955b-9d916c0a405d",
   "metadata": {},
   "outputs": [
    {
     "name": "stdout",
     "output_type": "stream",
     "text": [
      "value 1 2 3 text\n",
      "value\t1\t2\t3\ttext\n",
      "123\n"
     ]
    }
   ],
   "source": [
    "print(\"value\",1,2,3,\"text\")\n",
    "print(\"value\",1,2,3,\"text\",sep=\"\\t\")"
   ]
  },
  {
   "cell_type": "markdown",
   "id": "59272666-1853-434d-b002-cda2d90a17a2",
   "metadata": {},
   "source": [
    "### print 기본설정인 종료시 줄바꿈을 변경하는 방법 = end"
   ]
  },
  {
   "cell_type": "code",
   "execution_count": 44,
   "id": "4cea2921-61bb-43c7-bc72-102d9fa23b81",
   "metadata": {},
   "outputs": [
    {
     "name": "stdout",
     "output_type": "stream",
     "text": [
      "줄이 바뀌지 않습니다.이해가\n",
      "됩니다?"
     ]
    }
   ],
   "source": [
    "print(\"줄이 바뀌지 않습니다.\",end=\"\")\n",
    "print(\"이해가\",\"됩니다\",sep=\"\\n\",end=\"?\")"
   ]
  },
  {
   "cell_type": "markdown",
   "id": "7544f7bb-c816-4430-b8ef-5b42c6b52652",
   "metadata": {},
   "source": [
    "### 입력 값을 여러 개의 변수에 저장하기"
   ]
  },
  {
   "cell_type": "code",
   "execution_count": 22,
   "id": "db0ce1b0-001e-434c-8a74-b7ad656ff849",
   "metadata": {},
   "outputs": [
    {
     "name": "stdout",
     "output_type": "stream",
     "text": [
      "<class 'list'>\n",
      "['1', '2', '3']\n"
     ]
    }
   ],
   "source": [
    "result = '1,2,3'.split(\",\")\n",
    "print(type(result))\n",
    "print(result)"
   ]
  },
  {
   "cell_type": "markdown",
   "id": "1ee7ef92-6aac-46ec-84c2-de2ad6f2e387",
   "metadata": {},
   "source": [
    "### 출력 편하게 하기\n",
    "print(f'{1}부터 {2}까지의 합은 {3}입니다.')  \n",
    "1,2,3위치에 변수를 넣어 처리도 가능함."
   ]
  },
  {
   "cell_type": "code",
   "execution_count": 1,
   "id": "8bbb08ee-2d34-4e24-a072-d1827018d8a7",
   "metadata": {},
   "outputs": [
    {
     "name": "stdin",
     "output_type": "stream",
     "text": [
      "시작하는 정수 입력 :  1\n",
      "끝나는 정수 입력 :  10\n"
     ]
    },
    {
     "name": "stdout",
     "output_type": "stream",
     "text": [
      "1부터 10사이의 짝수 제곱의 합은 220입니다.\n",
      "1부터 10사이의 짝수 제곱의 합은 220입니다.\n"
     ]
    }
   ],
   "source": [
    "start = int(input(\"시작하는 정수 입력 : \"))\n",
    "end = int(input(\"끝나는 정수 입력 : \"))\n",
    "\n",
    "sum=0\n",
    "for i in range(start,end+1):\n",
    "    if i %2 ==0:\n",
    "        sum += i**2\n",
    "print(\"{}부터 {}사이의 짝수 제곱의 합은 {}입니다.\".format(start,end,sum))\n",
    "\n",
    "sum=0\n",
    "i=start\n",
    "while i<=end:\n",
    "    if i%2 == 0:\n",
    "        sum += i**2\n",
    "    i+=1\n",
    "print(f\"{start}부터 {end}사이의 짝수 제곱의 합은 {sum}입니다.\")\n",
    "sum=0"
   ]
  },
  {
   "cell_type": "markdown",
   "id": "5c8c88b2-d344-459f-8259-33dcfda41899",
   "metadata": {},
   "source": [
    "### 변수 사용에서 주의할점\n",
    "더할때 저장하는 변수명을 sum으로 두었는데, 파이썬에서는 sum()이 내장함수기 때문에 변수명으로는 적합하지 않다.  \n",
    "자바에서 사용하던 습관으로 변수명으로 사용했으나 jupyter lab에서 초록색으로 뜨는 변수(문자)들은 약속된 언어임을 알게되었음"
   ]
  },
  {
   "cell_type": "markdown",
   "id": "52a15272-6166-450f-9556-63117852f68f",
   "metadata": {},
   "source": [
    "- 문자열 join() 메서드 = 리스트 내 요소인 문자열과 문자열 사이에 채울 문자값.join와 같이 사용"
   ]
  },
  {
   "cell_type": "code",
   "execution_count": 1,
   "id": "2f405f9c-c78e-4085-8b98-7ecd7f9f5726",
   "metadata": {},
   "outputs": [
    {
     "name": "stdout",
     "output_type": "stream",
     "text": [
      "['a', 'b', 'c', 'd', 'e', 'f', 'g', 'h', 'i']\n",
      "a*b*c*d*e*f*g*h*i\n"
     ]
    }
   ],
   "source": [
    "list_strs = [_ for _ in \"abcdefghi\"]\n",
    "print(list_strs)\n",
    "while_str = \"*\".join(list_strs)\n",
    "print(while_str)"
   ]
  },
  {
   "cell_type": "code",
   "execution_count": 17,
   "id": "1eaeff29-bbaa-4337-9e56-86a3661ca1ac",
   "metadata": {},
   "outputs": [
    {
     "name": "stdout",
     "output_type": "stream",
     "text": [
      "정답을 미리 출력합니다:  16\n"
     ]
    },
    {
     "name": "stdin",
     "output_type": "stream",
     "text": [
      "1~100사이 숫자를 입력해주세요: 16\n"
     ]
    },
    {
     "name": "stdout",
     "output_type": "stream",
     "text": [
      "맞췄습니다!\n",
      "입력한 숫자는 다음과 같습니다. 16\n"
     ]
    }
   ],
   "source": [
    "import random\n",
    "\n",
    "ran_num = str(random.randint(1,100))\n",
    "print(\"정답을 미리 출력합니다: \",ran_num)\n",
    "cnt =0\n",
    "input_numbers = []\n",
    "while True:\n",
    "    input_num = input(\"1~100사이 숫자를 입력해주세요:\")\n",
    "    cnt+=1\n",
    "    input_numbers.append(input_num)\n",
    "    if input_num == ran_num :\n",
    "        print(\"맞췄습니다!\")\n",
    "        break\n",
    "    elif input_num > ran_num:\n",
    "        print(\"그보다 작습니다.\")\n",
    "    else :print(\"그보다 큽니다.\")\n",
    "print(\"입력한 숫자는 다음과 같습니다.\",\" \".join(input_numbers))\n",
    "    \n",
    "    "
   ]
  },
  {
   "cell_type": "markdown",
   "id": "faeec105-b72d-4fed-abfa-043ee599c3dc",
   "metadata": {},
   "source": [
    "### 객체를 담는 변수의 특징.\n",
    "- 변수는 메모리 주소값을 가지고 있다.\n",
    "- 메모리 효율성을 위해 파이썬 리스트는 메모리에 주소값만 저장하고, 직접 찾아가는 방식을 채택한다.  \n",
    "- 그렇기에 prac_result4의 주소값을 4번 가져간 prac_result5의 값도 전부 바뀐다.\n",
    "- id() 함수 = 메모리 주소를 조회 할 수 있는 내장함수이다.\n",
    "- enumerate() 함수 = index값과 value 값을 unpacking하여 꺼내올 수 있는 함수.\n",
    "### 기존 리스트의 슬라이싱 된 값은 새로운 객체이다.(리스트를 복사하는 방식이다)\n",
    "- 슬라이싱하여 가져오는 값은 (result6) 새롭게 객체를 만드는 방식임을 알 수 있다."
   ]
  },
  {
   "cell_type": "code",
   "execution_count": 64,
   "id": "69ed162a-398a-46af-910c-edd3cce44ae9",
   "metadata": {},
   "outputs": [
    {
     "name": "stdout",
     "output_type": "stream",
     "text": [
      "result4의 주소값: 2072504833984\n",
      "0 번째 주소값:  2072504833984\n",
      "1 번째 주소값:  2072504833984\n",
      "2 번째 주소값:  2072504833984\n",
      "3 번째 주소값:  2072504833984\n",
      "result5의 주소값 2072505166208\n",
      "0 번째 주소값:  2072505340032\n",
      "1 번째 주소값:  2072503944256\n",
      "2 번째 주소값:  2072502996736\n",
      "3 번째 주소값:  2072504045184\n",
      "result6의 주소값 2072510121920\n"
     ]
    }
   ],
   "source": [
    "print(\"result4의 주소값:\", id(prac_result4))\n",
    "for i,v in enumerate(prac_result5):\n",
    "    print(i,\"번째 주소값: \",id(v))\n",
    "print(\"result5의 주소값\",id(prac_result5))\n",
    "\n",
    "prac_result6 = [prac_result4[:]for i in range(4)] # 슬라이싱은 주소값이 다르게 된다.\n",
    "for i,v in enumerate(prac_result6):\n",
    "    print(i,\"번째 주소값: \",id(v))\n",
    "print(\"result6의 주소값\",id(prac_reult6))"
   ]
  },
  {
   "cell_type": "markdown",
   "id": "213053d3-ff3b-4d5a-9b86-30183fb07b63",
   "metadata": {},
   "source": [
    "- 불변인 값들은 슬라이싱하여 복사해도 id가 같은 것을 볼 수 있다.\n",
    "- 불변이기 때문에 요소가 동일하다면 deep copy해와도(재사용해도) 지장없기에 복사해오는 로직인듯. 튜플도 동일함."
   ]
  },
  {
   "cell_type": "code",
   "execution_count": 115,
   "id": "41deac46-abbe-4b5f-b6dd-473d231b8b8a",
   "metadata": {},
   "outputs": [],
   "source": [
    "x = \"123123123\"\n",
    "y = x[:]\n",
    "print(x is y)\n",
    "print(x == y)\n",
    "print(id(x),id(y))\n",
    "#불변이 아닌 값들은 슬라이싱하여 복사할 경우 id가 다른 것을 볼 수 있다.\n",
    "x = [range(10)]\n",
    "y = [range(10)]\n",
    "print(x is y)\n",
    "print(x == y)\n",
    "print(id(x),id(y),end=\"\\n\\n\")"
   ]
  },
  {
   "cell_type": "markdown",
   "id": "a227a6b4-0c87-465f-bc5f-2c0c2dcc0c11",
   "metadata": {},
   "source": [
    "- 숫자의 경우는 낮은 숫자정도는 파이썬 내장으로 선언되어 있지 않을까 추측된다.\n",
    "- 변수를 선언할때 일반적으로 숫자는 만들어서 할당해주지만 낮은 숫자는 이미 내장되어 만들어져 있고, 그 주소를 받아오는\n",
    "- 방식이 더 빠르기 떄문이지 않을까 라는 추측이 생긴다. (저장되어 있는 범위는 0~256인듯 하다)"
   ]
  },
  {
   "cell_type": "code",
   "execution_count": 115,
   "id": "65f8adb3-8e8d-4ded-b5dc-d56985200321",
   "metadata": {},
   "outputs": [
    {
     "name": "stdout",
     "output_type": "stream",
     "text": [
      "True\n",
      "True\n",
      "2072505356080 2072505356080\n",
      "False\n",
      "True\n",
      "2072503532992 2072501404672\n",
      "\n",
      "False\n",
      "True\n",
      "2072506068144 2072506068368\n",
      "False\n",
      "True\n",
      "2072506067792 2072506068336\n"
     ]
    }
   ],
   "source": [
    "x = 256\n",
    "y = 256\n",
    "print(x is y)\n",
    "print(x == y)\n",
    "print(id(x),id(y))\n",
    "x = 1004\n",
    "y = 1004\n",
    "print(x is y)\n",
    "print(x == y)\n",
    "print(id(x),id(y))"
   ]
  },
  {
   "cell_type": "markdown",
   "id": "9505885d-2466-494b-95d7-116eee7b2cc7",
   "metadata": {},
   "source": [
    "### time()함수를 사용한 성능비교 방식\n",
    "```python\n",
    "import time\n",
    "curr = time.time()\n",
    "#여기서 반복문을 통해 연산을 하고~\n",
    "last = time.time()\n",
    "print(last-curr)\n",
    "```  \n",
    "로 시간확인이 가능하다 "
   ]
  },
  {
   "cell_type": "code",
   "execution_count": 7,
   "id": "2726f9a9-6795-49fd-a36c-7009709df48c",
   "metadata": {},
   "outputs": [
    {
     "name": "stdin",
     "output_type": "stream",
     "text": [
      "순환할 숫자를 입력하세요: 16\n"
     ]
    },
    {
     "name": "stdout",
     "output_type": "stream",
     "text": [
      "1 2 3 4 5 6 7 8 9 10 11 12 13 14 15 16 \n",
      "2 3 4 5 6 7 8 9 10 11 12 13 14 15 16 1 \n",
      "3 4 5 6 7 8 9 10 11 12 13 14 15 16 1 2 \n",
      "4 5 6 7 8 9 10 11 12 13 14 15 16 1 2 3 \n",
      "5 6 7 8 9 10 11 12 13 14 15 16 1 2 3 4 \n",
      "6 7 8 9 10 11 12 13 14 15 16 1 2 3 4 5 \n",
      "7 8 9 10 11 12 13 14 15 16 1 2 3 4 5 6 \n",
      "8 9 10 11 12 13 14 15 16 1 2 3 4 5 6 7 \n",
      "9 10 11 12 13 14 15 16 1 2 3 4 5 6 7 8 \n",
      "10 11 12 13 14 15 16 1 2 3 4 5 6 7 8 9 \n",
      "11 12 13 14 15 16 1 2 3 4 5 6 7 8 9 10 \n",
      "12 13 14 15 16 1 2 3 4 5 6 7 8 9 10 11 \n",
      "13 14 15 16 1 2 3 4 5 6 7 8 9 10 11 12 \n",
      "14 15 16 1 2 3 4 5 6 7 8 9 10 11 12 13 \n",
      "15 16 1 2 3 4 5 6 7 8 9 10 11 12 13 14 \n",
      "16 1 2 3 4 5 6 7 8 9 10 11 12 13 14 15 \n"
     ]
    }
   ],
   "source": [
    "N = int(input(\"순환할 숫자를 입력하세요:\"))\n",
    "\n",
    "for i in range(1,N+1):\n",
    "    for j in range(0,N):\n",
    "        if (j+i)//(N+1) >=1:\n",
    "            print((j+i)%(N+1)+1,end=\" \")\n",
    "        else:\n",
    "            print((j+i)%(N+1),end=\" \")\n",
    "    print()"
   ]
  },
  {
   "cell_type": "markdown",
   "id": "439f2591-247f-4e1e-93f1-9b9b29e4c007",
   "metadata": {},
   "source": [
    "### 리스트 복사 방식의 차이\n",
    "1. shallow copy\n",
    "- 새로운 복합 객체를 만들고,(가능한 범위까지( 원본 객체를 가리키는 참조를 새로운 복합 객체에 삽입합니다.\n",
    "- 리스트 뒤에 copy() 함수 사용 - 주소값이 다르게 복사함(다른 객체로 새로 만들어 할당해줌)\n",
    "- 값은 같지만 주소값은 다르다~\n",
    "- 슬라이싱으로 하는 복사도 여기에 속한다."
   ]
  },
  {
   "cell_type": "code",
   "execution_count": 23,
   "id": "33315d6a-889e-4f5d-a857-885bac74b3c6",
   "metadata": {},
   "outputs": [],
   "source": [
    "list_one = list(range(10))\n",
    "list_second = list_one.copy()\n",
    "print(list_one,list_second)\n",
    "print(id(list_one),id(list_second))\n",
    "\n",
    "list_i = [[0]]*3\n",
    "print(list_i)\n",
    " \n",
    "list_i[0][0] = 999 # 모든 값이 999로 바뀌는 것을 볼 수 있음\n",
    "print(list_i)"
   ]
  },
  {
   "cell_type": "markdown",
   "id": "229097f0-7c3a-4e9a-b1c2-efd4dfc6b97f",
   "metadata": {},
   "source": [
    "### 슬라이싱은 shallow copy 라며?  \n",
    "- 바깥 리스트는 다른 주소를 가짐. 하지만 안쪽 리스트는 주소값을 그대로 가져와 같음  \n",
    "- copy() 함수를 써도 똑같이 적용됨.\n",
    "- 원래 바깥만 복사하는것을 shallow copy라고 함."
   ]
  },
  {
   "cell_type": "code",
   "execution_count": 23,
   "id": "f09598b6-8435-42a1-af25-cdfd5506712b",
   "metadata": {},
   "outputs": [
    {
     "name": "stdout",
     "output_type": "stream",
     "text": [
      "[0, 1, 2, 3, 4, 5, 6, 7, 8, 9] [0, 1, 2, 3, 4, 5, 6, 7, 8, 9]\n",
      "2038419765568 2038430657216\n",
      "[[0], [0], [0]]\n",
      "[[999], [999], [999]]\n",
      "True\n",
      "[[999, 2], [3, 4]] [[999, 2], [3, 4]]\n"
     ]
    }
   ],
   "source": [
    "list_j = [[1,2],[3,4]]\n",
    "list_k = list_j[:]\n",
    "print(list_k[0] is list_j[0])\n",
    "list_j[0][0] = 999\n",
    "print(list_j,list_k)"
   ]
  },
  {
   "cell_type": "markdown",
   "id": "07e4a718-859b-4d43-b280-33b2a56644a5",
   "metadata": {},
   "source": [
    "2. deep copy\n",
    "- import copy 를 통해 라이브러리를 가져와야한다.\n",
    "- 새로운 복합 객체를 만들고, 재귀적으로 원본 객체의 사본을  새로 만들어 복합 객체에 삽입하는 방식을 말함.- "
   ]
  },
  {
   "cell_type": "code",
   "execution_count": 27,
   "id": "c802ceb7-4c9a-46ca-aa45-db7afdccdabd",
   "metadata": {},
   "outputs": [
    {
     "name": "stdout",
     "output_type": "stream",
     "text": [
      "False\n",
      "[[100, 10], [11, 12]] [[9, 10], [11, 12]]\n"
     ]
    }
   ],
   "source": [
    "import copy\n",
    "list_n = [[9,10],[11,12]]\n",
    "list_o = copy.deepcopy(list_n)\n",
    "print(list_n[0] is list_o[0]) # 안쪽까지 복사되었음을 알 수 있다.\n",
    "list_n[0][0] = 100\n",
    "print(list_n,list_o)"
   ]
  },
  {
   "cell_type": "markdown",
   "id": "75ac35e3-f29d-4b82-8278-abee37399ea5",
   "metadata": {},
   "source": [
    "### list comprehension 추가\n",
    "- list_variable = [expression for 변수 in iterable if 조건식]\n",
    "- for 횟수만큼 반복하되, 조건식이 참일 때만 expression을 실행하는 방식.\n",
    "  "
   ]
  },
  {
   "cell_type": "code",
   "execution_count": 32,
   "id": "1726d5b3-dd2f-4191-9b50-7b11fbcb4911",
   "metadata": {},
   "outputs": [],
   "source": [
    "a = ['alpha','bravo','charlie','delta','echo','foxtrot','golf','hotel','india']\n",
    "b = [i for i in a if len(i)==5]\n",
    "print(b)"
   ]
  },
  {
   "cell_type": "markdown",
   "id": "62bfbdaf-5a8a-4183-9f83-e66b32cdd578",
   "metadata": {},
   "source": [
    "- 중첩된 list comprehension for 문\n",
    "- [expression for 변수 in iterable for  변수 in iterable]\n",
    "- 가독성을 위해 들여쓰기를 해주는 것이 좋다."
   ]
  },
  {
   "cell_type": "code",
   "execution_count": 32,
   "id": "de4e1257-628a-480b-97d7-90d880e59670",
   "metadata": {},
   "outputs": [
    {
     "name": "stdout",
     "output_type": "stream",
     "text": [
      "[[0, 0, 0], [0, 0, 1], [0, 0, 2], [0, 0, 3], [0, 1, 0], [0, 1, 1], [0, 1, 2], [0, 1, 3], [0, 2, 0], [0, 2, 1], [0, 2, 2], [0, 2, 3], [0, 3, 0], [0, 3, 1], [0, 3, 2], [0, 3, 3], [1, 0, 0], [1, 0, 1], [1, 0, 2], [1, 0, 3], [1, 1, 0], [1, 1, 1], [1, 1, 2], [1, 1, 3], [1, 2, 0], [1, 2, 1], [1, 2, 2], [1, 2, 3], [1, 3, 0], [1, 3, 1], [1, 3, 2], [1, 3, 3], [2, 0, 0], [2, 0, 1], [2, 0, 2], [2, 0, 3], [2, 1, 0], [2, 1, 1], [2, 1, 2], [2, 1, 3], [2, 2, 0], [2, 2, 1], [2, 2, 2], [2, 2, 3], [2, 3, 0], [2, 3, 1], [2, 3, 2], [2, 3, 3], [3, 0, 0], [3, 0, 1], [3, 0, 2], [3, 0, 3], [3, 1, 0], [3, 1, 1], [3, 1, 2], [3, 1, 3], [3, 2, 0], [3, 2, 1], [3, 2, 2], [3, 2, 3], [3, 3, 0], [3, 3, 1], [3, 3, 2], [3, 3, 3]]\n"
     ]
    }
   ],
   "source": [
    "lst = [[i,j,k]  for i in range(4)\n",
    "            for j in range(4)\n",
    "            for k in range(4)]\n",
    "print(lst)"
   ]
  }
 ],
 "metadata": {
  "kernelspec": {
   "display_name": "Python 3 (ipykernel)",
   "language": "python",
   "name": "python3"
  },
  "language_info": {
   "codemirror_mode": {
    "name": "ipython",
    "version": 3
   },
   "file_extension": ".py",
   "mimetype": "text/x-python",
   "name": "python",
   "nbconvert_exporter": "python",
   "pygments_lexer": "ipython3",
   "version": "3.9.13"
  }
 },
 "nbformat": 4,
 "nbformat_minor": 5
}
