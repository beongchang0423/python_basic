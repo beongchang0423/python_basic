{
 "cells": [
  {
   "cell_type": "markdown",
   "id": "f0e9bdcc-66ac-406b-88b9-cdc5dc7b186b",
   "metadata": {},
   "source": [
    "- 문자열 join() 메서드 = 리스트 내 요소인 문자열과 문자열 사이에 채울 문자값.join와 같이 사용"
   ]
  },
  {
   "cell_type": "code",
   "execution_count": 1,
   "id": "7259d3ba-ef30-4fab-8bff-307d9b5ffa93",
   "metadata": {},
   "outputs": [
    {
     "name": "stdout",
     "output_type": "stream",
     "text": [
      "['a', 'b', 'c', 'd', 'e', 'f', 'g', 'h', 'i']\n",
      "a*b*c*d*e*f*g*h*i\n"
     ]
    }
   ],
   "source": [
    "list_strs = [_ for _ in \"abcdefghi\"]\n",
    "print(list_strs)\n",
    "while_str = \"*\".join(list_strs)\n",
    "print(while_str)"
   ]
  },
  {
   "cell_type": "code",
   "execution_count": 17,
   "id": "2e81907a-e0c8-4f01-a3d0-24f22de62465",
   "metadata": {},
   "outputs": [
    {
     "name": "stdout",
     "output_type": "stream",
     "text": [
      "정답을 미리 출력합니다:  16\n"
     ]
    },
    {
     "name": "stdin",
     "output_type": "stream",
     "text": [
      "1~100사이 숫자를 입력해주세요: 16\n"
     ]
    },
    {
     "name": "stdout",
     "output_type": "stream",
     "text": [
      "맞췄습니다!\n",
      "입력한 숫자는 다음과 같습니다. 16\n"
     ]
    }
   ],
   "source": [
    "import random\n",
    "\n",
    "ran_num = str(random.randint(1,100))\n",
    "print(\"정답을 미리 출력합니다: \",ran_num)\n",
    "cnt =0\n",
    "input_numbers = []\n",
    "while True:\n",
    "    input_num = input(\"1~100사이 숫자를 입력해주세요:\")\n",
    "    cnt+=1\n",
    "    input_numbers.append(input_num)\n",
    "    if input_num == ran_num :\n",
    "        print(\"맞췄습니다!\")\n",
    "        break\n",
    "    elif input_num > ran_num:\n",
    "        print(\"그보다 작습니다.\")\n",
    "    else :print(\"그보다 큽니다.\")\n",
    "print(\"입력한 숫자는 다음과 같습니다.\",\" \".join(input_numbers))\n",
    "    \n",
    "    "
   ]
  },
  {
   "cell_type": "code",
   "execution_count": 19,
   "id": "3e0e5803-c05d-407d-9b42-9580ecadef3d",
   "metadata": {},
   "outputs": [
    {
     "data": {
      "text/plain": [
       "21.11111111111111"
      ]
     },
     "execution_count": 19,
     "metadata": {},
     "output_type": "execute_result"
    }
   ],
   "source": [
    "def to_celsius(fahrenheit):\n",
    "    '''\n",
    "    화씨온도를 받으면 섭씨온도로 반환해줍니다\n",
    "    '''\n",
    "    return (fahrenheit-32)*5/9\n",
    "to_celsius(70)"
   ]
  },
  {
   "cell_type": "code",
   "execution_count": 28,
   "id": "7c99a78f-a005-4ecd-8593-ca7039001528",
   "metadata": {},
   "outputs": [
    {
     "name": "stdout",
     "output_type": "stream",
     "text": [
      "number가 짝수면 \"짝수\",홀수면 \"홀수\" 반환\n",
      "None\n",
      "홀수\n",
      "None\n"
     ]
    }
   ],
   "source": [
    "def odd_even(n):\n",
    "    '''number가 짝수면 \"짝수\",홀수면 \"홀수\" 반환'''\n",
    "    if type(n) == type(10) and n>0:\n",
    "        return \"짝수\" * (number%2 == 0) or \"홀수\"\n",
    "    else: \n",
    "        return None\n",
    "\n",
    "print(odd_even.__doc__)\n",
    "print(odd_even(-1))\n",
    "print(odd_even(9))\n",
    "print(odd_even(\"가\"))"
   ]
  },
  {
   "cell_type": "code",
   "execution_count": 32,
   "id": "0f63fa7f-e535-40be-8760-148a76fabe8f",
   "metadata": {},
   "outputs": [
    {
     "name": "stdout",
     "output_type": "stream",
     "text": [
      "윤년\n",
      "윤년\n",
      "평년\n"
     ]
    }
   ],
   "source": [
    "def check_leap_year(year):\n",
    "    #return \"평년\" * (year %100 == 0 and year%400 != 0) or \"윤년\" * (year%4==0) or \"평년\"\n",
    "    if year % 4 == 0 and (year %100 != 0 or y % 400 == 0):\n",
    "        return \"윤년\"\n",
    "    else:\n",
    "        return \"평년\"\n",
    "    \n",
    "print(check_leap_year(2004))\n",
    "print(check_leap_year(2000))\n",
    "print(check_leap_year(1900))"
   ]
  },
  {
   "cell_type": "code",
   "execution_count": 39,
   "id": "d091b342-33f5-4fe9-9749-57cf3a8fc521",
   "metadata": {},
   "outputs": [
    {
     "name": "stdout",
     "output_type": "stream",
     "text": [
      "30\n",
      "31\n",
      "28\n",
      "29\n"
     ]
    }
   ],
   "source": [
    "def days(year,month):\n",
    "    \n",
    "    if month in [1,3,5,7,8,10,12]:\n",
    "        return 31\n",
    "    elif month in [4,6,9,11]:\n",
    "        return 30\n",
    "    else:\n",
    "        if year % 4 == 0 and (year %100 != 0 or year % 400 == 0):\n",
    "            return 29\n",
    "        else:\n",
    "            return 28\n",
    "\n",
    "\n",
    "print(days(1900,11))\n",
    "print(days(2004,10))\n",
    "print(days(1900,2))\n",
    "print(days(2000,2))"
   ]
  },
  {
   "cell_type": "code",
   "execution_count": 41,
   "id": "5a376557-7e98-4b37-8029-f87e572faa7f",
   "metadata": {},
   "outputs": [
    {
     "name": "stdout",
     "output_type": "stream",
     "text": [
      "목:3, 나머지: 1\n"
     ]
    }
   ],
   "source": [
    "x = 10\n",
    "y = 3\n",
    "def get_quotient_remainder(x,y):\n",
    "    return x//y , x%y\n",
    "\n",
    "quitient,remainder = get_quotient_remainder(x,y)\n",
    "print(f'목: {quitient}, 나머지: {remainder}')"
   ]
  },
  {
   "cell_type": "markdown",
   "id": "7e4912af-6509-4683-9a9c-4c7f3cab2acc",
   "metadata": {},
   "source": [
    "### 변수의 범위(Scope)\n",
    "1. 전역변수 = 가장 바깥 영역에서 선언한 변수(스크립트 전체에서 접근 가능하다.)\n",
    "- 지역범위 내에서 global 범위에 접근(단순조회x)(변경)하고 싶을때 global 키워드로 접근이 가능하다.\n",
    "2. 지역변수 = 함수 바디와 같이 지역내에서 선언된 변수(해당 지역 내에서만 접근이 가능하다.)\n",
    "- 안쪽 함수에서 바깥쪽 함수에 선언된 변수에 접근 하고 싶을때 nonlocal 키워드로 접근이 가능하다.\n",
    "- nonlocal은 제일 가까운 바깥 변수를 매칭한다.\n",
    "- 그렇기에 함수마다 다른 이름의 변수를 사용하는게 좋다(겹친다고 nonlocal로 다 가져올 수 있는게 아니기 때문)\n",
    "### 함수에서 변수를 호출하면!\n",
    "- 지역 영역 -> 전역 영역 -> 내장 영역 순으로 해당하는 변수를 확인한다. (내장영역 = 파이썬 자체에서 정의한 이름공간)"
   ]
  },
  {
   "cell_type": "code",
   "execution_count": 43,
   "id": "c95246e8-dab7-4502-8b30-9c36b64a5bc8",
   "metadata": {},
   "outputs": [
    {
     "name": "stdout",
     "output_type": "stream",
     "text": [
      "Thsi is level 2.\n"
     ]
    }
   ],
   "source": [
    "def level1():\n",
    "    message = \"This is level 1.\"\n",
    "    def level2():\n",
    "        nonlocal message\n",
    "        message = \"Thsi is level 2.\"\n",
    "    level2()\n",
    "    print(message)\n",
    "level1() # level 2가 출력되는 것을 보아 nonlocal의 사용방식을 알 수 있다."
   ]
  },
  {
   "cell_type": "markdown",
   "id": "b115d82c-307f-45b3-96a1-d10ef344c719",
   "metadata": {},
   "source": [
    "### 람다 Lambda\n",
    "- 호출될 때 값이 구해지는 하나의 표현식이다. (이름이 없는 인라인 함수이다)\n",
    "- 사용법 = lambda parameters : expression\n",
    "- 변수에 람다식을 저장(할당)할 수 있다.\n",
    "- 변수 없이 식 한 줄로 표현 가능(두줄로 쓰거나 ;로 줄을 늘리는게 불가능하다 = 새 변수를 만들 수 없다.)  \n",
    "  그렇기에 (lambda x: y=10 ; x+y)(1)은 오류가 난다-> 변수가 필요한 경우는 def를 써라\n",
    "  \n",
    "### 조건 표현식과 람다\n",
    "- True일떄 값 if 조건식 else False일떄 값\n",
    "- if 와 else가 반드시 둘다 와야하며 중첩 가능하다.\n",
    "- 조건 표현식은 1줄이기 때문에 람다와 궁합이 좋다.\n",
    "- map또한 함수를 여러 인수들에게 적용해주므로 람다와 궁합이 좋다."
   ]
  },
  {
   "cell_type": "code",
   "execution_count": 53,
   "id": "a3397c63-497a-4e7a-ab39-a0828bbb7166",
   "metadata": {},
   "outputs": [
    {
     "name": "stdout",
     "output_type": "stream",
     "text": [
      "4\n",
      "11\n"
     ]
    }
   ],
   "source": [
    "# 람다 예제\n",
    "x = lambda a,b : a+b\n",
    "print(x(1,3))\n",
    "print((lambda a,b : a+b)(5,6))"
   ]
  },
  {
   "cell_type": "code",
   "execution_count": 55,
   "id": "8d5053ba-3ff1-45bc-a810-276017b174fd",
   "metadata": {},
   "outputs": [
    {
     "data": {
      "text/plain": [
       "'B'"
      ]
     },
     "execution_count": 55,
     "metadata": {},
     "output_type": "execute_result"
    }
   ],
   "source": [
    "#조건 표현식 예제 (조건 표현식 2번 사용한 예제)\n",
    "\n",
    "score = 90\n",
    "\"A\" if 90<score<=100 else \"B\" if 80<score else \"C\""
   ]
  },
  {
   "cell_type": "code",
   "execution_count": 57,
   "id": "5fc24a36-547a-4027-a75e-e7ff876089b3",
   "metadata": {},
   "outputs": [
    {
     "name": "stdout",
     "output_type": "stream",
     "text": [
      "[2, 8, 18, 32, 50]\n"
     ]
    }
   ],
   "source": [
    "# 람다와 map의 조합\n",
    "a = [_ for _ in range(1,6)]\n",
    "b = [_ for _ in range(2,11,2)]\n",
    "print(list(map(lambda x,y : x*y, a, b))) #a의 5개 값과 b의 5개 값을 map으로묶어 lambda함수를 한번에 적용했다."
   ]
  },
  {
   "cell_type": "markdown",
   "id": "8899a971-4a47-4297-b1d8-3f9dbfe9882b",
   "metadata": {},
   "source": [
    "### 람다 filter()\n",
    "- 람다와 filter() 함수를 같이 쓸 때 사용\n",
    "- 함수의 반환 값이 True 일때만 해당 요소르 ㄹ가져온다. list comprehension으로도 표현이 가능한 방식이다. \n",
    "- 사실 list comprehension이 더 보기 좋다."
   ]
  },
  {
   "cell_type": "code",
   "execution_count": null,
   "id": "6748bb6b-9f32-4093-aef7-fe5a2665e098",
   "metadata": {},
   "outputs": [
    {
     "data": {
      "text/plain": [
       "[3, 9, 9]"
      ]
     },
     "execution_count": 59,
     "metadata": {},
     "output_type": "execute_result"
    }
   ],
   "source": [
    "a = [3,2,8,22,10,7,0,11,9,9]\n",
    "list(filter(lambda x: x%3 ==0 and 0<x<10,a))"
   ]
  },
  {
   "cell_type": "markdown",
   "id": "f6a61138-1bd1-4f96-8119-391205d44d1e",
   "metadata": {},
   "source": [
    "### 객체지향 프로그래밍\n",
    "- 객체지향 프로그래밍은 복잡한 문제를 잘게 나누어 객체로 만들고, 객체를 조합해서 문제를 해결한다.\n",
    "- 현실 세계의 복잡한 문제를 처리하는데 유용하며 기능을 개선하고 발전시킬 때도 해당 클래스만 수정하면 되므로 \n",
    "  큰 프로젝트의 유지복수에도 매우 효율적입니다.\n",
    "- 객체가 가진 데이터를 클래스의 속성(Attribute)이라 부르고 객체가 갖는 기능을 메서드(Method)라고 부릅니다.\n",
    "\n",
    "### 클래스\n",
    "- 클래스 명은 주로 PascalCase를 사용한다.\n",
    "- 클래스는 사용자 정의 객체를 만들기 위한 주형이라고 생각하면 된다.\n",
    "- 클래스 정의는 보통 클래스의 인스턴스를 대상으로 연산하는 메서드 정의를 포함하고 있습니다.\n",
    "- 클래스도 doc_string을 적어줄 수 있다.\n",
    "- int,list,dict 등도 클래스입니다.\n",
    "\n",
    "### 객체와 인스턴스\n",
    "- 객체와 인스턴스는 같은 말이라고 할 수 있는데, 객체는 단지 객체 라고 표현하지만 \n",
    "  인스턴스는 특정 클래스의~인스턴스다~라고 표기한다는 차이점이 있다.\n",
    "  \n",
    "### 메서드 Method\n",
    "- 클래스 바디 안에서 정의되는 함수이다.\n",
    "- 해당 클래스의 객체들이 각각 가질 수 있는 함수이다.\n",
    "- 메서드는 첫 번째 인자로 인스턴스 객체(self)를 받는다.\n",
    "- 첫 번째 인자를 설정 안 하면 에러가 발생한다.\n",
    "- 클래스 속성을 만들때 __init__메서드 안에 self.속성에 값을 할당하면 된다. \n",
    "  - init함수에 self를 인자로 넣지 않으면 오류가 발생한다.\n",
    "  - __=double under score = dunder (파이썬의 여러 기능들을 사용할 때 던더 메서드를 구현하여 사용한다. )\n"
   ]
  },
  {
   "cell_type": "code",
   "execution_count": 64,
   "id": "6d799c5f-824f-4f0c-a612-870846c03358",
   "metadata": {},
   "outputs": [
    {
     "name": "stdout",
     "output_type": "stream",
     "text": [
      "<class '__main__.ClassName'>\n"
     ]
    }
   ],
   "source": [
    "class ClassName():\n",
    "    def method_name(self):\n",
    "        pass # method_body\n",
    "    pass # class_body\n",
    "instance_variable = ClassName()\n",
    "print(type(instance_variable))"
   ]
  },
  {
   "cell_type": "code",
   "execution_count": 81,
   "id": "54859536-2988-43f3-9608-3b496d140662",
   "metadata": {},
   "outputs": [],
   "source": [
    "class Student():\n",
    "    def __init__(self):\n",
    "        self.hello = \"안녕하세요\"\n",
    "    def greeting(self):\n",
    "        print(self.hello)"
   ]
  },
  {
   "cell_type": "markdown",
   "id": "7e13aa16-f9ce-47e3-9492-94c788099f6f",
   "metadata": {},
   "source": [
    "- self는 인스턴스 자기 자신을 의미한다.\n",
    "- self.hello 처럼 객체마다 자기 자신에 속성을 추가하여 사용할 수 있다.\n",
    "- __init__의 매개변수 self에 들어가는 값은 Student() 의 인스턴스라고 할 수 있다.\n",
    "- self 가 완성된 후에는 변수인 james에 할당되었다.\n",
    "- 이후 메서드를 호출하면 현재 인스턴스가 자동으로 매개변수 self에 들어옵니다. 그래서 "
   ]
  },
  {
   "cell_type": "code",
   "execution_count": 82,
   "id": "54b545f2-6e96-4ad0-bc08-25050b132556",
   "metadata": {},
   "outputs": [
    {
     "name": "stdout",
     "output_type": "stream",
     "text": [
      "안녕하세요\n",
      "안녕하세요\n"
     ]
    }
   ],
   "source": [
    "chang = Student() # 독립적인 값을 보장하는 instance로 생성됩니다.\n",
    "print(chang.hello)\n",
    "chang.greeting()"
   ]
  },
  {
   "cell_type": "code",
   "execution_count": null,
   "id": "70779007-8c59-4c8c-9270-17f6af92706a",
   "metadata": {},
   "outputs": [],
   "source": []
  },
  {
   "cell_type": "code",
   "execution_count": 79,
   "id": "ef3e1ea2-cefe-45b6-9af7-d7075be2c9db",
   "metadata": {},
   "outputs": [
    {
     "name": "stdout",
     "output_type": "stream",
     "text": [
      "안녕하세요\n"
     ]
    }
   ],
   "source": [
    "bebe = Student()\n",
    "print(bebe.hello)"
   ]
  }
 ],
 "metadata": {
  "kernelspec": {
   "display_name": "Python 3 (ipykernel)",
   "language": "python",
   "name": "python3"
  },
  "language_info": {
   "codemirror_mode": {
    "name": "ipython",
    "version": 3
   },
   "file_extension": ".py",
   "mimetype": "text/x-python",
   "name": "python",
   "nbconvert_exporter": "python",
   "pygments_lexer": "ipython3",
   "version": "3.9.13"
  }
 },
 "nbformat": 4,
 "nbformat_minor": 5
}
