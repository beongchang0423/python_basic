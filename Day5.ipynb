{
 "cells": [
  {
   "cell_type": "code",
   "execution_count": 14,
   "id": "be041eb4-97f0-4e55-ad1f-8c85f977ffc1",
   "metadata": {},
   "outputs": [
    {
     "name": "stdin",
     "output_type": "stream",
     "text": [
      "실기점수를 입력하세요. 70 50 85 98 82\n"
     ]
    },
    {
     "name": "stdout",
     "output_type": "stream",
     "text": [
      "이 학생의 평균 점수는 79.0 입니다.\n"
     ]
    }
   ],
   "source": [
    "# 최대, 최소 값 제외한 나머지 점수의 평균 구하기1\n",
    "scores = list(map(int,input(\"실기점수를 입력하세요.\").split()))\n",
    "maximum = 0\n",
    "minimum = 100\n",
    "total=0\n",
    "for i in scores:\n",
    "    if i > maximum :\n",
    "        maximum = i\n",
    "    elif i < minimum:\n",
    "        minimum =i\n",
    "    total += i\n",
    "print(\"이 학생의 평균 점수는\",(total-maximum-minimum)/(len(scores)-2),\"입니다.\")"
   ]
  },
  {
   "cell_type": "code",
   "execution_count": null,
   "id": "5aa8d8c6-d262-4e86-8d27-337e76d659e0",
   "metadata": {},
   "outputs": [],
   "source": [
    "# 최대, 최소 값 제외한 나머지 점수의 평균 구하기2\n",
    "scores = list(map(int,input(\"실기점수를 입력하세요.\").split()))\n",
    "maximum = 0\n",
    "minimum = 100\n",
    "for i in scores:\n",
    "    if i > maximum :\n",
    "        maximum = i\n",
    "    elif i < minimum:\n",
    "        minimum =i\n",
    "scores.remove(maximum)\n",
    "scores.remove(minimum)\n",
    "        \n",
    "print(\"이 학생의 평균 점수는\",sum(scores)/len(scores),\"입니다.\")"
   ]
  },
  {
   "cell_type": "code",
   "execution_count": 20,
   "id": "9222a80b-42fb-46b8-b547-3401e1e8eb64",
   "metadata": {},
   "outputs": [
    {
     "name": "stdout",
     "output_type": "stream",
     "text": [
      "[2, 1, 1, 1, 0]\n"
     ]
    }
   ],
   "source": [
    "# 학점 구분 문제\n",
    "grade_counter = [0,0,0,0,0]\n",
    "scores = [86,72,98,60,45]\n",
    "\n",
    "for i in scores:\n",
    "    if i >=85 : grade_counter[0]+=1\n",
    "    elif i>=70: grade_counter[1]+=1\n",
    "    elif i >=55 : grade_counter[2]+=1\n",
    "    elif i>=40 :grade_counter[3]+=1\n",
    "    elif i >=0 : grade_counter[4]+=1\n",
    "    else : print(\"잘못된 입력임\")\n",
    "print(grade_counter)"
   ]
  },
  {
   "cell_type": "code",
   "execution_count": 34,
   "id": "a890e467-84b1-4ce7-ba5f-6a6ef4ae83b0",
   "metadata": {},
   "outputs": [
    {
     "name": "stdout",
     "output_type": "stream",
     "text": [
      "1\t2\tFizz\t4\tBuzz\tFizz\t7\t8\tFizz\tBuzz\t11\tFizz\t13\t14\tFizzBuzz\t16\t17\tFizz\t19\tBuzz\tFizz\t22\t23\tFizz\tBuzz\t26\tFizz\t28\t29\tFizzBuzz\t31\t32\tFizz\t34\tBuzz\tFizz\t37\t38\tFizz\tBuzz\t41\tFizz\t43\t44\tFizzBuzz\t46\t47\tFizz\t49\tBuzz\tFizz\t52\t53\tFizz\tBuzz\t56\tFizz\t58\t59\tFizzBuzz\t61\t62\tFizz\t64\tBuzz\tFizz\t67\t68\tFizz\tBuzz\t71\tFizz\t73\t74\tFizzBuzz\t76\t77\tFizz\t79\tBuzz\tFizz\t82\t83\tFizz\tBuzz\t86\tFizz\t88\t89\tFizzBuzz\t91\t92\tFizz\t94\tBuzz\tFizz\t97\t98\tFizz\tBuzz\t1\t2\tFizz\t4\tBuzz\tFizz\t7\t8\tFizz\tBuzz\t11\tFizz\t13\t14\tFizzBuzz\t16\t17\tFizz\t19\tBuzz\tFizz\t22\t23\tFizz\tBuzz\t26\tFizz\t28\t29\tFizzBuzz\t31\t32\tFizz\t34\tBuzz\tFizz\t37\t38\tFizz\tBuzz\t41\tFizz\t43\t44\tFizzBuzz\t46\t47\tFizz\t49\tBuzz\tFizz\t52\t53\tFizz\tBuzz\t56\tFizz\t58\t59\tFizzBuzz\t61\t62\tFizz\t64\tBuzz\tFizz\t67\t68\tFizz\tBuzz\t71\tFizz\t73\t74\tFizzBuzz\t76\t77\tFizz\t79\tBuzz\tFizz\t82\t83\tFizz\tBuzz\t86\tFizz\t88\t89\tFizzBuzz\t91\t92\tFizz\t94\tBuzz\tFizz\t97\t98\tFizz\tBuzz\t"
     ]
    }
   ],
   "source": [
    "### FizzBuzz문제\n",
    "for i in range(1,101):\n",
    "    if i%3 ==0:print(\"Fizz\",end=\"\")\n",
    "    if i%5 ==0:print(\"Buzz\",end=\"\")\n",
    "    if i%3 !=0 and i%5 !=0 :print(i,end=\"\")\n",
    "    print(\"\",end=\"\\t\")\n",
    "# 다른 풀이방법\n",
    "# 빈 문자열은 Flase취급되며, True or True 이면 앞에값만 출력함\n",
    "# Flas or True 이면 뒤에값만 출력함\n",
    "for i in range(1,101):\n",
    "    print(\"Fizz\"*(i%3==0) + \"Buzz\"*(i%5==0) or i,end=\"\\t\")"
   ]
  },
  {
   "cell_type": "code",
   "execution_count": 37,
   "id": "4c93195d-ee96-4719-828c-d769b288d2fc",
   "metadata": {},
   "outputs": [
    {
     "name": "stdout",
     "output_type": "stream",
     "text": [
      "m 또는 h가 이름에 포함된 사람은 3 명 입니다.\n"
     ]
    }
   ],
   "source": [
    "# m 또는 h가 이름에 포함되어 있는 사람의 수를 구하는 문제\n",
    "\n",
    "name_list = [\"matthew\",\"mark\",\"luke\",\"john\",\"paul\",\"peter\"]\n",
    "mh_count =0\n",
    "for i in name_list:\n",
    "    for j in i :\n",
    "        if j == \"h\" or j == \"H\" or j == \"m\" or j == \"M\":\n",
    "            mh_count+=1\n",
    "            break\n",
    "print(\"m 또는 h가 이름에 포함된 사람은\",mh_count,\"명 입니다.\")\n",
    "        "
   ]
  },
  {
   "cell_type": "code",
   "execution_count": 1,
   "id": "4bec6b03-2158-44f2-a2d8-71718d4a298f",
   "metadata": {},
   "outputs": [
    {
     "name": "stdout",
     "output_type": "stream",
     "text": [
      "m 또는 h가 이름에 포함된 사람은 3 명 입니다.\n"
     ]
    }
   ],
   "source": [
    "# m,h 포함이름 풀이2\n",
    "name_list = [\"matthew\",\"mark\",\"luke\",\"john\",\"paul\",\"peter\"]\n",
    "mh_count =0\n",
    "for i in name_list:\n",
    "    if 'm' in i or \"h\" in i:\n",
    "        mh_count+=1\n",
    "print(\"m 또는 h가 이름에 포함된 사람은\",mh_count,\"명 입니다.\")\n",
    "        "
   ]
  },
  {
   "cell_type": "code",
   "execution_count": 9,
   "id": "a841c16f-316f-4834-b860-d2907cbb9c23",
   "metadata": {},
   "outputs": [
    {
     "name": "stdout",
     "output_type": "stream",
     "text": [
      "1번 학생 축하합니다. 합격입니다.\n",
      "3번 학생 축하합니다. 합격입니다.\n",
      "5번 학생 축하합니다. 합격입니다.\n"
     ]
    }
   ],
   "source": [
    "marks = [90,25,67,45,80]\n",
    "for i in range(len(marks)):\n",
    "    if marks[i] <=60 :\n",
    "        continue\n",
    "    print(\"{}번 학생 축하합니다. 합격입니다.\".format(i+1))\n",
    "\n",
    "        "
   ]
  },
  {
   "cell_type": "code",
   "execution_count": 8,
   "id": "c6d11891-d653-45fe-a7da-de9bfe66b49b",
   "metadata": {},
   "outputs": [
    {
     "name": "stdout",
     "output_type": "stream",
     "text": [
      "1번 학생 축하합니다. 합격입니다.\n",
      "3번 학생 축하합니다. 합격입니다.\n",
      "5번 학생 축하합니다. 합격입니다.\n"
     ]
    }
   ],
   "source": [
    "i =0\n",
    "while i<5:\n",
    "    if marks[i] >60 :\n",
    "        print(\"{}번 학생 축하합니다. 합격입니다.\".format(i+1))\n",
    "    i+=1\n",
    "    "
   ]
  },
  {
   "cell_type": "code",
   "execution_count": 2,
   "id": "8a62f102-bfae-42ad-8818-8c833c7bee44",
   "metadata": {},
   "outputs": [],
   "source": [
    "arr = [1,4,2,3,10]\n",
    "left,right = 0,len(arr)-1\n",
    "while right > left:\n",
    "    arr[left],arr[right] = arr[right],arr[left]\n",
    "    left+=1\n",
    "    right-=1\n",
    "print(\"변환된 arr은\",arr,\"입니다\")"
   ]
  },
  {
   "cell_type": "code",
   "execution_count": 3,
   "id": "2294f87c-e37a-4ca5-b6de-21258d8b4d32",
   "metadata": {},
   "outputs": [
    {
     "name": "stdout",
     "output_type": "stream",
     "text": [
      "2X1=2\t3X1=3\t4X1=4\t5X1=5\t6X1=6\t7X1=7\t8X1=8\t9X1=9\t\n",
      "2X2=4\t3X2=6\t4X2=8\t5X2=10\t6X2=12\t7X2=14\t8X2=16\t9X2=18\t\n",
      "2X3=6\t3X3=9\t4X3=12\t5X3=15\t6X3=18\t7X3=21\t8X3=24\t9X3=27\t\n",
      "2X4=8\t3X4=12\t4X4=16\t5X4=20\t6X4=24\t7X4=28\t8X4=32\t9X4=36\t\n",
      "2X5=10\t3X5=15\t4X5=20\t5X5=25\t6X5=30\t7X5=35\t8X5=40\t9X5=45\t\n",
      "2X6=12\t3X6=18\t4X6=24\t5X6=30\t6X6=36\t7X6=42\t8X6=48\t9X6=54\t\n",
      "2X7=14\t3X7=21\t4X7=28\t5X7=35\t6X7=42\t7X7=49\t8X7=56\t9X7=63\t\n",
      "2X8=16\t3X8=24\t4X8=32\t5X8=40\t6X8=48\t7X8=56\t8X8=64\t9X8=72\t\n",
      "2X9=18\t3X9=27\t4X9=36\t5X9=45\t6X9=54\t7X9=63\t8X9=72\t9X9=81\t\n"
     ]
    }
   ],
   "source": [
    "#구구단 문제1\n",
    "for i in range(1,10):\n",
    "    for j in range(2,10):\n",
    "        print(\"{}X{}={}\".format(j,i,i*j),end=\"\\t\")\n",
    "    print(\"\")"
   ]
  },
  {
   "cell_type": "code",
   "execution_count": 6,
   "id": "78468ef7-435c-4c4a-9689-2ff23ca28461",
   "metadata": {},
   "outputs": [
    {
     "name": "stdout",
     "output_type": "stream",
     "text": [
      "2X1=2\t3X1=3\t4X1=4\t5X1=5\t6X1=6\t7X1=7\t8X1=8\t9X1=9\t\n",
      "2X2=4\t3X2=6\t4X2=8\t5X2=10\t6X2=12\t7X2=14\t8X2=16\t9X2=18\t\n",
      "2X3=6\t3X3=9\t4X3=12\t5X3=15\t6X3=18\t7X3=21\t8X3=24\t9X3=27\t\n",
      "2X4=8\t3X4=12\t4X4=16\t5X4=20\t6X4=24\t7X4=28\t8X4=32\t9X4=36\t\n",
      "2X5=10\t3X5=15\t4X5=20\t5X5=25\t6X5=30\t7X5=35\t8X5=40\t9X5=45\t\n",
      "2X6=12\t3X6=18\t4X6=24\t5X6=30\t6X6=36\t7X6=42\t8X6=48\t9X6=54\t\n",
      "2X7=14\t3X7=21\t4X7=28\t5X7=35\t6X7=42\t7X7=49\t8X7=56\t9X7=63\t\n",
      "2X8=16\t3X8=24\t4X8=32\t5X8=40\t6X8=48\t7X8=56\t8X8=64\t9X8=72\t\n",
      "2X9=18\t3X9=27\t4X9=36\t5X9=45\t6X9=54\t7X9=63\t8X9=72\t9X9=81\t\n"
     ]
    }
   ],
   "source": [
    "#구구단 문제2\n",
    "i,j=1,2\n",
    "while i<10:\n",
    "    while j < 10:\n",
    "        print(\"{}X{}={}\".format(j,i,i*j),end=\"\\t\")\n",
    "        j+=1\n",
    "    j=2\n",
    "    i+=1\n",
    "    print(\"\")"
   ]
  },
  {
   "cell_type": "markdown",
   "id": "41d71e9e-cd99-46ef-bb99-67e0f68824da",
   "metadata": {},
   "source": [
    "### 딕셔너리 자료형\n",
    "- 비 시퀀스 자료형이다.(index를 갖지 않는다.)\n",
    "- 대신 이 자료형은 고유한 key값을 갖는다.\n",
    "- 이 key값은 1대1 매칭되는 value를 갖고, 이를 key-value pair라고 한다.\n",
    "- {}를 사용해 선언한다.\n",
    "- 딕셔너리 자료형에서 key는 중복해서 존재하지 않기 떄문에 중복해서 넣게 되면 가장 최근에 넣은 key-pair만 남는다\n",
    "- key로는 문자열,정수,실수,불,튜플을 사용가능.(자료형을 섞어서도 가능하다)\n",
    "- 단 key에 리스트, 딕셔너리.집합은 사용할 수 없다.\n",
    "- 그래도 value에는 모든 자료형이 가능하다."
   ]
  },
  {
   "cell_type": "code",
   "execution_count": 14,
   "id": "f8b91cca-9569-472f-acbc-a73250a7348d",
   "metadata": {},
   "outputs": [
    {
     "name": "stdout",
     "output_type": "stream",
     "text": [
      "<class 'dict'>\n",
      "{'key': 'value'}\n",
      "value\n",
      "last_value\n"
     ]
    }
   ],
   "source": [
    "dic_var = {\"key\" :  \"value\"}\n",
    "print(type(dic_var))\n",
    "print(dic_var)\n",
    "print(dic_var[\"key\"])\n",
    "\n",
    "dic_var[\"key\"] = \"last_value\"# 아전값인 value는 사라진다.\n",
    "print(dic_var[\"key\"])"
   ]
  },
  {
   "cell_type": "markdown",
   "id": "6415f6ee-200f-40bd-82f2-7e68f3833558",
   "metadata": {},
   "source": [
    "### dictionary 함수\n",
    "- dict() = dictinary자료형 만들때 많이 사용한다.\n",
    "- zip() = key만 가지고 있는, value만 가지고 있는 부분으로 나누어 할당가능.\n",
    "- zip함수는 개수가 맞지 않는 경우 더 작은 쪽으로 맞춰 만들게 된다.(남는부분은 삭제)\n",
    "- del 키워드를 통해 key-value pair를 삭제할 수 있다. (dict와 잘 어울리는 삭제명령어라고 하심)\n",
    "- len() 동일하게 함수를 통해 길이를 구할 수 있다."
   ]
  },
  {
   "cell_type": "code",
   "execution_count": 30,
   "id": "c70128df-4a61-4bb3-9673-30774780b245",
   "metadata": {},
   "outputs": [
    {
     "name": "stdout",
     "output_type": "stream",
     "text": [
      "{}\n",
      "{'key': 1, 'key2': 2, 'key3': 3}\n",
      "{1: 'first', 2: 'second'}\n",
      "{1: 'first', 2: 'second', 3: 'third'}\n",
      "{1: 'first', 2: 'second', 3: 'last_third'}\n",
      "{1: 'first', 2: 'second', 3: 'last_third', 4: 'new four'}\n",
      "True\n",
      "4\n"
     ]
    }
   ],
   "source": [
    "#dictionary 생성방식.\n",
    "empty_dict = {} #또는\n",
    "empty_dict = dict()# dict()함수로 비어있는 딕셔너리 만들 수 있음.\n",
    "print(empty_dict)\n",
    "dict_a = dict(key = 1, key2=2, key3=3) # 이렇게 만들면 key는 문자열로 들어간다.\n",
    "print(dict_a)\n",
    "dict_b = dict([(1,\"first\"),(2,\"second\")]) # 이렇게 만들수도 있다.\n",
    "print(dict_b)\n",
    "\n",
    "dict_c = dict(zip([1,2,3,4,5],[\"first\",\"second\",\"third\"])) #5까지 썼지만 3까지만 만들어짐.\n",
    "print(dict_c)\n",
    "dict_c[3] = \"last_third\" #key로 접근하여 값 변경이 가능하다.\n",
    "print(dict_c)\n",
    "\n",
    "dict_c[4] = \"new four\"#새로운 값 추가하기\n",
    "print(dict_c)\n",
    "print(1 in dict_c) # key값이 존재하는지는 찾을 수 있다. value는 이걸로 안됨.\n",
    "print(len(dict_c))"
   ]
  },
  {
   "cell_type": "code",
   "execution_count": 32,
   "id": "3521be91-3caf-462f-a245-a67b517d49c8",
   "metadata": {},
   "outputs": [
    {
     "name": "stdin",
     "output_type": "stream",
     "text": [
      "과일 이름을 입력하세요.  사과\n"
     ]
    },
    {
     "name": "stdout",
     "output_type": "stream",
     "text": [
      "사과의 가격은 1000원입니다.\n"
     ]
    }
   ],
   "source": [
    "#dictionary 연습1\n",
    "fruit = input(\"과일 이름을 입력하세요. \")\n",
    "fruit_dict = dict(사과 = 1000, 바나나 = 700 , 오렌지 = 1500 , 파인애플 = 2000)\n",
    "if fruit in fruit_dict:\n",
    "    print(\"{}의 가격은 {}원입니다.\".format(fruit,fruit_dict[fruit]))"
   ]
  },
  {
   "cell_type": "code",
   "execution_count": 35,
   "id": "1b1725ea-52ae-4e86-9a86-d2b9bfec716b",
   "metadata": {},
   "outputs": [],
   "source": [
    "# dictionary 연습2\n",
    "names = list(input(\"이름을 기입해주세요.\").split())\n",
    "weights = list(map(float,input(\"몸무게를 입력해주세요.\").split()))\n",
    "\n",
    "dict_k = dict(zip(names,weights))\n",
    "print(dict_k)"
   ]
  },
  {
   "cell_type": "markdown",
   "id": "0d2ec3a3-e2a4-41b9-8442-3f6852fa8142",
   "metadata": {},
   "source": [
    "### 리스트 생성 응용 list comprehension\n",
    "- 리스트는 대괄호 안에 for 문을 작성하여 사용할 수 있습니다."
   ]
  },
  {
   "cell_type": "code",
   "execution_count": 40,
   "id": "d43717ac-d3ac-4448-8f3c-44c47c48af85",
   "metadata": {},
   "outputs": [
    {
     "name": "stdout",
     "output_type": "stream",
     "text": [
      "[0, 1, 2, 3, 4, 5, 6, 7, 8, 9]\n"
     ]
    }
   ],
   "source": [
    "lst_compre = [i for i in range(10)]\n",
    "print(lst_compre)"
   ]
  },
  {
   "cell_type": "code",
   "execution_count": 41,
   "id": "e3c46045-9eb2-401f-804f-90ed7d2f0126",
   "metadata": {},
   "outputs": [
    {
     "name": "stdout",
     "output_type": "stream",
     "text": [
      "<class 'list'>\n",
      "[1, 4, 9, 16, 25, 36, 49, 64, 81]\n"
     ]
    }
   ],
   "source": [
    "#list comprehension 예제\n",
    "prac_result = [i**2 for i in range(1,10)]\n",
    "print(type(prac_result))\n",
    "print(prac_result)"
   ]
  }
 ],
 "metadata": {
  "kernelspec": {
   "display_name": "Python 3 (ipykernel)",
   "language": "python",
   "name": "python3"
  },
  "language_info": {
   "codemirror_mode": {
    "name": "ipython",
    "version": 3
   },
   "file_extension": ".py",
   "mimetype": "text/x-python",
   "name": "python",
   "nbconvert_exporter": "python",
   "pygments_lexer": "ipython3",
   "version": "3.9.13"
  }
 },
 "nbformat": 4,
 "nbformat_minor": 5
}
