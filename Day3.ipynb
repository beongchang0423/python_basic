{
 "cells": [
  {
   "cell_type": "code",
   "execution_count": null,
   "id": "8cfc41d6-ad8d-4dd5-bf71-d84801ceadf2",
   "metadata": {},
   "outputs": [],
   "source": [
    "객체 타입을 비교할 땐 is 키워드\n",
    "- 좌 우 객체를 비교하여 동일한 객체라면 True, 다르다면 False를 반환\n",
    "\n",
    "흐름제어 if문  \n",
    "- if\n",
    "- elif\n",
    "- else\n",
    "pass를 통해 아무 행위도 하지 않고, 문법의 조건만 맞춰줄 수 있다."
   ]
  },
  {
   "cell_type": "code",
   "execution_count": null,
   "id": "e5f6d3d5-b2d7-44fc-93e5-4d111b1c2dd2",
   "metadata": {},
   "outputs": [],
   "source": [
    "if type(123) is int:\n",
    "    print(type(123) is int)\n",
    "    print(\"123는 정수입니다\") \n",
    "    \n",
    "if type(123):\n",
    "    pass # pass는 아무 행위도 하지 않는다. 코드에 오류만 발생하지 않도록 만드는 역할\n",
    "        #pass를 사용하고, 나중에 코딩하겠다는 주석을 달아두면 보는 사람입장에서 좋을것이다."
   ]
  },
  {
   "cell_type": "markdown",
   "id": "0e99fc10-6dd9-4d42-969d-bb5adfba6a1b",
   "metadata": {},
   "source": [
    "### for문과 range() 내장 함수\n",
    "##### range() \n",
    "- 연속되는 숫자 요소들을 만들 때 활용하면 좋다.\n",
    "- 슬라이싱과 구조가 비슷한데, 함수의 형태로 쓰기 때문에 소괄호 안에 구분자는 , 이다.\n",
    "- range(시작,끝,증감크기)\n",
    "- 시작과 증감크기는 생략 가능하다\n",
    "##### range() 함수로 list 생성하기\n",
    "- range()로 반환받은 결과 자료형은 range임 이 값을 list() 내장 함수로 변환 가능함\n",
    "- unpacking 또한 적용 가능하다. ex) one , two = range(2,4)\n",
    "- range()가 돌려준 객체는 마치 리스트인 것처럼 동작하지만, 사실 리스트와 다르다. range 객체는 iterate할 때 원하는 시퀀스 항목들을\n",
    "- 순서대로 요소를 돌려주는 객체이지만, 메모리에 공간을 할당하여 미리 모든 요소들을 만들어 두는 것이 아니라\n",
    "  필요할 때 그때그떄 다음 요소를 만들어 반환하기에 공간 효율적입니다.\n",
    "- 메모리상의 효율이 좋다\n",
    "\n",
    "##### for문 추가설명\n",
    "- iterable 객체 = 반복 가능한 성질을 가진다.  \n",
    "- 객체 = 메모리에 할당되어 존재하고 있는 데이터  \n",
    "- for 문에 range() 대신 시퀀스 객체(list,str,tuple,range,dictionary)를 넣어 반복사용 가능  \n",
    "- reverse() 함수를 통해서 역순으로 변경 가능하다.\n"
   ]
  },
  {
   "cell_type": "code",
   "execution_count": 52,
   "id": "159a12a5-1ebb-473b-96c3-5eb08ccc670d",
   "metadata": {},
   "outputs": [
    {
     "name": "stdin",
     "output_type": "stream",
     "text": [
      "1부터 입력한 자연수까지의 모든 홀수의 합을 구합니다.  99\n"
     ]
    },
    {
     "name": "stdout",
     "output_type": "stream",
     "text": [
      "1 + 3 + 5 + 7 + 9 + 11 + 13 + 15 + 17 + 19 + 21 + 23 + 25 + 27 + 29 + 31 + 33 + 35 + 37 + 39 + 41 + 43 + 45 + 47 + 49 + 51 + 53 + 55 + 57 + 59 + 61 + 63 + 65 + 67 + 69 + 71 + 73 + 75 + 77 + 79 + 81 + 83 + 85 + 87 + 89 + 91 + 93 + 95 + 97 + 99 = 2500\n"
     ]
    }
   ],
   "source": [
    "# 출력이 어려웠던 문제\n",
    "N = int(input(\"1부터 입력한 자연수까지의 모든 홀수의 합을 구합니다. \"))\n",
    "sum =0\n",
    "for i in range(1,N+1,2):\n",
    "    sum +=i\n",
    "    if i == N-1 or i == N:\n",
    "        print(i,end =\" = \")\n",
    "    else:\n",
    "        print(i,end=\" + \")\n",
    "print(sum)"
   ]
  }
 ],
 "metadata": {
  "kernelspec": {
   "display_name": "Python 3 (ipykernel)",
   "language": "python",
   "name": "python3"
  },
  "language_info": {
   "codemirror_mode": {
    "name": "ipython",
    "version": 3
   },
   "file_extension": ".py",
   "mimetype": "text/x-python",
   "name": "python",
   "nbconvert_exporter": "python",
   "pygments_lexer": "ipython3",
   "version": "3.9.13"
  }
 },
 "nbformat": 4,
 "nbformat_minor": 5
}
