{
 "cells": [
  {
   "cell_type": "markdown",
   "id": "c2e72755",
   "metadata": {},
   "source": [
    "### random 라이브러리\n",
    "- 파이썬 표준 라이브러리 = 파이썬 기본 설치된 모듈과 패키지, 내장 함수를 묶은 놈들.\n",
    "- random.randint(시작 정수, 끝 정수) 함수를 사용하요 시작 정수부터 끝 정수(포함)까지 범위의 난수를 생성한다."
   ]
  },
  {
   "cell_type": "code",
   "execution_count": 1,
   "id": "4df4750c",
   "metadata": {},
   "outputs": [
    {
     "name": "stdout",
     "output_type": "stream",
     "text": [
      "[2, 4, 1, 1, 4, 1, 3, 1, 1, 2]\n"
     ]
    }
   ],
   "source": [
    "import random\n",
    "random_list = [ random.randint(1,4) for _ in range(10)]\n",
    "print(random_list)"
   ]
  },
  {
   "cell_type": "code",
   "execution_count": 45,
   "id": "c043e8f4",
   "metadata": {},
   "outputs": [
    {
     "name": "stdin",
     "output_type": "stream",
     "text": [
      "로또 번호 몇 개 드릴까요?  5\n"
     ]
    },
    {
     "name": "stdout",
     "output_type": "stream",
     "text": [
      "{34, 3, 7, 41, 10, 31}\n",
      "{43, 44, 45, 21, 22, 26}\n",
      "{40, 10, 45, 25, 27, 28}\n",
      "{1, 33, 8, 18, 19, 21}\n",
      "{33, 37, 10, 43, 44, 30}\n"
     ]
    }
   ],
   "source": [
    "#random 예제\n",
    "import random\n",
    "n = int(input(\"로또 번호 몇 개 드릴까요? \"))\n",
    "for i in range(n):\n",
    "    lotto_list = set()\n",
    "    while len(lotto_list) != 6:\n",
    "        lotto_list.add(random.randint(1,45))\n",
    "    print(lotto_list)"
   ]
  },
  {
   "cell_type": "markdown",
   "id": "ade6c488-3740-40d5-b633-11fb85fb37b5",
   "metadata": {},
   "source": [
    "### set 자료형\n",
    "- set 자료형은 중복을 허용하지 않는 자료형이다.\n",
    "- set() 로 선언 가능하다 {}로 선언하면 dict가 되므로 주의\n",
    "- 순서가 상관없다.\n",
    "- set comprehension이 가능하다.\n",
    "- set_variable = {extression for 변수 in iterable if 조건식} 으로 사용 가능, dict는 comprehension이 없음. 그래서 되나봄\n",
    "- set은 add()를 통해 한 번에 하나의 값만 넣을 수 있다. (순서가 상관 없기에 뒤에 추가되고 그런건 아님)\n",
    "- remove(요소) 함수를 사용해 값을 삭제할 수 있다.- 없는 값 삭제할때는 KeyError발생.\n",
    "- discard(요소) 함수를 사용해 값을 삭제할 수 있다. 없는 값을 삭제할 때도 에러가 발생하지 않는 방식이다.(에러처리를 해준다)\n",
    "- pop() 순서를 보장하지 않고 반환한뒤 지운다 (뭐가 지워질 것인지 알 수 없음) (출력해봤을때 앞에서부터 출력하는듯)\n",
    "- clear() 함수로 요소 전체 삭제 가능.\n",
    "- len() 길이 출력\n",
    "- set자료형 끼리 set.union(seta,setb) , | 로 합집합이 가능하다.\n",
    "-  & 와 set.intersection(seta,setb) 로 교집합이 가능하다.\n",
    "-  - 와 set.difference(seta,setb)로 차집합도 가능하다.\n",
    "- ^ 와 set.symmetric_difference(set_a,set_b)로 A의 대칭차집합을 구할 수 있다() = 합집합 - 교집합 한 결과임.\n",
    "- |= 와 set_a.update(set_b) 로 합집합을 한 결과를 앞 set_a에 넣어준다.\n",
    "- &= 와 set_a.intersection_update(set_b) 로 교집합한 결과를 set_a에 넣어준다.\n",
    "- -=와 set_a.difference_update(set_b)로 A-B의 값을 넣어준다.\n",
    "- ^= 와 set_a.symmetric_difference_update(set_b)로 set_a에 대칭차집합 값을 넣어준다.\n",
    "- a.issubset(b) 를 통해 a가 b의 부분집합인지 물어봐 True False를 출력한다.\n",
    "- a.issuperset(b) 를 통해 a가 b의 상위집합인지 물어봐 True False를 출력한다.\n",
    "- a>b b<a 로 둘이 같을 경우에는 False가 출력되고 한쪽이 다른 한쪽을 포함하는 진부분집합 관계여야 True출력한다.\n",
    "- ==로 set가 같은지 비교 가능하다.\n",
    "- a.isdisjoint(b) 겹치는 부분이 없냐를 확인하는 함수  없으면 True 있으면 False"
   ]
  },
  {
   "cell_type": "code",
   "execution_count": 43,
   "id": "03f14cf1",
   "metadata": {},
   "outputs": [
    {
     "name": "stdout",
     "output_type": "stream",
     "text": [
      "{'14dfg', 1, 2, 123}\n",
      "14dfg\n",
      "{1, 2, 123}\n",
      "{1, 2, 123}\n",
      "{1, 2}\n",
      "{1, 2}\n",
      "{123}\n",
      "{123}\n",
      "{1, 2}\n",
      "True\n",
      "True\n",
      "{1, 2, 123}\n",
      "False\n"
     ]
    }
   ],
   "source": [
    "set_ab = set()\n",
    "set_ab.add(123)\n",
    "set_ab.add(\"14dfg\")\n",
    "set_ab.add(1)\n",
    "set_ab.add(2)\n",
    "print(set_ab)\n",
    "print(set_ab.pop())\n",
    "\n",
    "set_b = set()\n",
    "set_b.add(1)\n",
    "set_b.add(2)\n",
    "print(set_ab|set_b)\n",
    "print(set.union(set_b,set_ab))\n",
    "print(set_ab&set_b)\n",
    "print(set.intersection(set_b,set_ab))\n",
    "print(set_ab-set_b)\n",
    "print(set.difference(set_ab,set_b))\n",
    "set_b.intersection_update(set_ab)\n",
    "print(set_b)\n",
    "print(set_b.issubset(set_ab))\n",
    "print(set_b<set_ab)\n",
    "set_b.update(set_ab)\n",
    "print(set_b)\n",
    "\n",
    "print(set_b<set_ab)\n"
   ]
  },
  {
   "cell_type": "code",
   "execution_count": 46,
   "id": "a76e96ba",
   "metadata": {},
   "outputs": [
    {
     "name": "stdout",
     "output_type": "stream",
     "text": [
      "{1, 2, 3, 4}\n"
     ]
    }
   ],
   "source": [
    "list_sample = [1,2,2,3,3,3,4,4,4,4]\n",
    "print(set(list_sample))"
   ]
  },
  {
   "cell_type": "code",
   "execution_count": 47,
   "id": "744bd4fe",
   "metadata": {},
   "outputs": [
    {
     "name": "stdout",
     "output_type": "stream",
     "text": [
      "{75, 45, 15, 90, 60, 30}\n"
     ]
    }
   ],
   "source": [
    "set_3 = {i for i in range(1,100) if i%3==0 }\n",
    "set_5 =  {i for i in range(1,100) if i%5==0 }\n",
    "result_set = set.intersection(set_3,set_5)\n",
    "print(result_set)"
   ]
  },
  {
   "cell_type": "code",
   "execution_count": 54,
   "id": "3c4fafa9",
   "metadata": {},
   "outputs": [
    {
     "name": "stdout",
     "output_type": "stream",
     "text": [
      "['개인정보 조회', '구매 관리', '근태 관리', '시스템 관리', '인사 관리', '회계 관리']\n"
     ]
    }
   ],
   "source": [
    "role_admin ={i for i in [\"회계 관리\", \"인사 관리\",\"구매 관리\",\"시스템 관리\"]}\n",
    "role_hr = {i for i in [\"인사 관리\",\"개인정보 조회\",\"회계 관리\",\"근태 관리\"]}\n",
    "role_user = {i for i in [\"개인정보 조회\",\"근태 관리\"]}\n",
    "result = list(set.union(role_admin, role_hr, role_user))\n",
    "result.sort()\n",
    "print(result)"
   ]
  },
  {
   "cell_type": "code",
   "execution_count": 61,
   "id": "d5efa4bc",
   "metadata": {},
   "outputs": [
    {
     "name": "stdout",
     "output_type": "stream",
     "text": [
      "2부터 입력하신 수까지의 모든 소수를 찾는 프로그램입니다.\n"
     ]
    },
    {
     "name": "stdin",
     "output_type": "stream",
     "text": [
      "찾는 범위를 입력하세요: 100\n"
     ]
    },
    {
     "name": "stdout",
     "output_type": "stream",
     "text": [
      "2 3 5 7 11 13 17 \n",
      "19 23 29 31 37 41 43 \n",
      "47 53 59 61 67 71 73 \n",
      "79 83 89 97 "
     ]
    }
   ],
   "source": [
    "print(\"2부터 입력하신 수까지의 모든 소수를 찾는 프로그램입니다.\")\n",
    "N = int(input(\"찾는 범위를 입력하세요:\"))\n",
    "for i in range(2,N+1):\n",
    "    Flag = True\n",
    "    for j in range(2,i//2+1):\n",
    "        if i%j == 0 :\n",
    "            Flag = False\n",
    "10 //2 =5 \n",
    "10     6 7 8 9\n",
    "            \n",
    "            \n",
    "    if Flag == True:\n",
    "        print(i,end=\" \")"
   ]
  },
  {
   "cell_type": "code",
   "execution_count": 72,
   "id": "c8d83736",
   "metadata": {},
   "outputs": [
    {
     "name": "stdin",
     "output_type": "stream",
     "text": [
      "찾는 범위:  100\n"
     ]
    },
    {
     "name": "stdout",
     "output_type": "stream",
     "text": [
      "2 3 5 7 11 13 17 \n",
      "19 23 29 31 37 41 43 \n",
      "47 53 59 61 67 71 73 \n",
      "79 83 89 97 "
     ]
    }
   ],
   "source": [
    "def isPrime(num):\n",
    "    primes = [False, False] + [True]*(num-1)\n",
    "    for i in range(2, num+1):\n",
    "        if primes[i]:\n",
    "            for _ in range(i * 2, num+1, i):\n",
    "                primes[_] = False\n",
    "    return primes[num]\n",
    "\n",
    "get = int(input('찾는 범위: '))\n",
    "lst = [_ for _ in range(2, get) if isPrime(_)]\n",
    "count = 0\n",
    "for _ in lst:\n",
    "    count+=1\n",
    "    print(_,end=\" \")\n",
    "    if count%7 == 0:\n",
    "        print()"
   ]
  },
  {
   "cell_type": "markdown",
   "id": "0118cd76-c3b7-4afd-aae8-0686c16eaa1c",
   "metadata": {},
   "source": [
    "### 함수\n",
    "- 반복적인 코드의 양을 줄여 유지보수성을 높여준다.\n",
    "- snake case로 이름짓는것을 추천\n",
    "- argument = 인수(함수 호출부) , parameter = 인자(=매개변수,함수 정의부) , return = 반환값\n",
    "- 파이썬 함수는 overloading이 안된다. = 같은 함수이름을 가지지만 시그니처(매개변수)는 달라서 구분하는 방식.\n",
    "- class에 있어서 객체를 통해 호출되면 method이고( ~.으로 호출하면 method이다.) \n",
    "- class 밖에 있으면 Function이다.(list, length, print ...)\n",
    "- 기본값 설정이 가능하다. 인수(호출부에서 들어오는놈)가 비었다면 기본값을 사용한다. def get_grade(score = 60): pass 와 같으면 기본값 = 60, 기본값을 갖는 parameter는 parameter들 중 가장 뒤에 선언되어야 한다.\n",
    "\n",
    "### 함수 인자 선언방식 \n",
    "1. 위치 키워드 = 위치로 혹은 키워드로 전달될 수 있는 인자(매개변수의 기본 형태) 기본값이 없는 argument(위치 방식),기본값이 있는 argument(키워드 방식) 둘다 된다는 소리\n",
    "2. 위치 전용 =   /문자를 기준으로 좌측에 위치한 인자를 말함 \n",
    "3. 키워드 전용 = * 문자를 기준으로 우측에 위치한 인자를 말함 \n",
    "4. 가변 위치 =   위치 매개변수 외에 추가적인 위치 매개변수를 개수에 상관없이 받을 수 있다.(변수명 앞에 *를 붙여 표기\n",
    "5. 가변 키워드 = 키워드 매개변수 외에 추가적인 키워드 매개변수를 개수에 상관없이 받을 수 있습니다.(변수명 앞에 **를 붙여 표기) = 딕셔너리 형태로 만들어준다."
   ]
  },
  {
   "cell_type": "code",
   "execution_count": 144,
   "id": "e9193fa6-a31e-48b8-a7f2-39490bd3cf57",
   "metadata": {},
   "outputs": [
    {
     "name": "stdout",
     "output_type": "stream",
     "text": [
      "200,민병창의 성적을 확인합니다.\n"
     ]
    },
    {
     "data": {
      "text/plain": [
       "'A'"
      ]
     },
     "execution_count": 144,
     "metadata": {},
     "output_type": "execute_result"
    }
   ],
   "source": [
    "def get_grade(score, std_num, name = \"민병창\"): # 1. 기본 방식. positional + keyword\n",
    "    \"\"\"\n",
    "    숫자로된 점수를 넣으시면 학점의 결과를 반환합니다.\n",
    "    \"\"\"\n",
    "    print(\"{},{}의 성적을 확인합니다.\".format(std_num,name))\n",
    "    if 85 <= score <= 100:\n",
    "        return 'A'\n",
    "    elif 70 <= score <= 84:\n",
    "        return 'B'\n",
    "    elif 55 <= score <= 69:\n",
    "        return \"C\"\n",
    "    elif 40 <= score <= 54:\n",
    "        return \"D\"\n",
    "    elif 0 <= score <= 39:\n",
    "        return \"E\"\n",
    "\n",
    "get_grade(100,std_num = 200) # score는 positional하게, std_num 은 keyword형식으로, name은 default값으로 잘 들어간다."
   ]
  },
  {
   "cell_type": "code",
   "execution_count": 147,
   "id": "5d1a97e8-7a92-48ea-a75d-65afbbfbfd10",
   "metadata": {},
   "outputs": [
    {
     "ename": "SyntaxError",
     "evalue": "non-default argument follows default argument (2235999823.py, line 1)",
     "output_type": "error",
     "traceback": [
      "\u001b[1;36m  File \u001b[1;32m\"C:\\Users\\민병창\\AppData\\Local\\Temp\\ipykernel_13744\\2235999823.py\"\u001b[1;36m, line \u001b[1;32m1\u001b[0m\n\u001b[1;33m    def add_number(number1=10,/,number2): # 2.positional only(number1은 positional only로 설정됨. / 기준 왼쪽)\u001b[0m\n\u001b[1;37m                                       ^\u001b[0m\n\u001b[1;31mSyntaxError\u001b[0m\u001b[1;31m:\u001b[0m non-default argument follows default argument\n"
     ]
    }
   ],
   "source": [
    "def add_number(number1,/,number2): # 2.positional only(number1은 positional only로 설정됨. / 기준 왼쪽)\n",
    "    '''\n",
    "    숫자 number1 과 숫자 number2를 전달 받아 더한 값을 반환합니다.\n",
    "    '''\n",
    "    return number1 + number2\n",
    "print(add_number(10,number2 = 20)) #애는 정상실행\n",
    "print(add_number(number1 = 10,number2 = 20)) # 얘는 TypeError발생."
   ]
  },
  {
   "cell_type": "code",
   "execution_count": 149,
   "id": "63810fe4-6240-42aa-906e-2ced9ed34e45",
   "metadata": {},
   "outputs": [
    {
     "name": "stdout",
     "output_type": "stream",
     "text": [
      "30\n"
     ]
    },
    {
     "ename": "TypeError",
     "evalue": "add_number() takes 1 positional argument but 2 were given",
     "output_type": "error",
     "traceback": [
      "\u001b[1;31m---------------------------------------------------------------------------\u001b[0m",
      "\u001b[1;31mTypeError\u001b[0m                                 Traceback (most recent call last)",
      "\u001b[1;32m~\\AppData\\Local\\Temp\\ipykernel_5820\\815561139.py\u001b[0m in \u001b[0;36m<module>\u001b[1;34m\u001b[0m\n\u001b[0;32m      5\u001b[0m     \u001b[1;32mreturn\u001b[0m \u001b[0mnumber1\u001b[0m \u001b[1;33m+\u001b[0m \u001b[0mnumber2\u001b[0m\u001b[1;33m\u001b[0m\u001b[1;33m\u001b[0m\u001b[0m\n\u001b[0;32m      6\u001b[0m \u001b[0mprint\u001b[0m\u001b[1;33m(\u001b[0m\u001b[0madd_number\u001b[0m\u001b[1;33m(\u001b[0m\u001b[1;36m10\u001b[0m\u001b[1;33m,\u001b[0m\u001b[0mnumber2\u001b[0m \u001b[1;33m=\u001b[0m \u001b[1;36m20\u001b[0m\u001b[1;33m)\u001b[0m\u001b[1;33m)\u001b[0m \u001b[1;31m#애는 정상실행\u001b[0m\u001b[1;33m\u001b[0m\u001b[1;33m\u001b[0m\u001b[0m\n\u001b[1;32m----> 7\u001b[1;33m \u001b[0mprint\u001b[0m\u001b[1;33m(\u001b[0m\u001b[0madd_number\u001b[0m\u001b[1;33m(\u001b[0m\u001b[1;36m10\u001b[0m\u001b[1;33m,\u001b[0m\u001b[1;36m20\u001b[0m\u001b[1;33m)\u001b[0m\u001b[1;33m)\u001b[0m \u001b[1;31m# 얘는 TypeError발생.\u001b[0m\u001b[1;33m\u001b[0m\u001b[1;33m\u001b[0m\u001b[0m\n\u001b[0m",
      "\u001b[1;31mTypeError\u001b[0m: add_number() takes 1 positional argument but 2 were given"
     ]
    }
   ],
   "source": [
    "def add_number(number1,*,number2 = 20): # 3.keyword only(number2는 keyword only 로 설정됨. *기준 오른쪽)\n",
    "    '''\n",
    "    숫자 number1 과 숫자 number2를 전달 받아 더한 값을 반환합니다.\n",
    "    '''\n",
    "    return number1 + number2\n",
    "print(add_number(10,number2 = 20)) #애는 정상실행\n",
    "print(add_number(10,20)) # 얘는 TypeError발생."
   ]
  },
  {
   "cell_type": "code",
   "execution_count": 29,
   "id": "71a8df5e-4eb8-4f00-a6df-32a1d50fb08e",
   "metadata": {},
   "outputs": [],
   "source": [
    "def add_number(number1,/,*,number2 = 20): # 3,4.왼쪽 positional only , 오른쪽keyword only\n",
    "    '''\n",
    "    숫자 number1 과 숫자 number2를 전달 받아 더한 값을 반환합니다.\n",
    "    '''\n",
    "    return number1 + number2\n",
    "print(add_number(10,number2 = 20)) #애는 정상실행\n",
    "print(add_number(10,20)) # 얘는 TypeError발생."
   ]
  },
  {
   "cell_type": "code",
   "execution_count": 30,
   "id": "9d2d0d1f-cf7d-449d-891a-87fee80ddb42",
   "metadata": {},
   "outputs": [
    {
     "name": "stdout",
     "output_type": "stream",
     "text": [
      "************************구분************************\n"
     ]
    }
   ],
   "source": [
    "def string_line(str_value,/,str_len=70,*,sep=\"#\"):#3,4.왼쪽 positional only ,가운데 1.기본값 오른쪽keyword only\n",
    "    '''\n",
    "    str_value는 가운데 오는 텍스트입니다.\n",
    "    str_len은 텍스트의 설정할 길이입니다.\n",
    "    sep는 구분선을 그을 떄 쓰는 문자입니다.\n",
    "    '''\n",
    "    print(str_value.center(str_len, sep))\n",
    "          \n",
    "string_line('구분',str_len = 50, sep = \"*\")"
   ]
  },
  {
   "cell_type": "code",
   "execution_count": 23,
   "id": "ad2c2444-b510-40f7-bcd9-ec8b99f18a60",
   "metadata": {},
   "outputs": [
    {
     "name": "stdout",
     "output_type": "stream",
     "text": [
      "1 2\n",
      "(3, 4, 5, 6, 7, 8, 9)\n",
      "\n",
      "    doc string 입니다.\n",
      "    \n"
     ]
    }
   ],
   "source": [
    "def hell(a,b,*lst): # 4.가변 positional 방식(*args로 사용)\n",
    "    '''\n",
    "    doc string 입니다.\n",
    "    '''\n",
    "    print(a,b)\n",
    "    print(lst)\n",
    "hell(1,2,3,4,5,6,7,8,9)\n",
    "\n",
    "print(hell.__doc__)\n",
    "\n",
    "def functional_name(positional, positional2,*arguments, keyword = 1, **keywordarguments):\n",
    "    pass"
   ]
  },
  {
   "cell_type": "code",
   "execution_count": 33,
   "id": "998cf399-db97-4742-8e89-f4341fa5db0a",
   "metadata": {},
   "outputs": [
    {
     "name": "stdout",
     "output_type": "stream",
     "text": [
      "ab bc\n",
      "<class 'dict'>\n",
      "{'key': 'value', 'key2': 'value2'}\n"
     ]
    }
   ],
   "source": [
    "def test_func2(a=\"a\",b=\"b\",**kargs): # 5.가변 keyword (**args로 사용)\n",
    "    print(a,b)\n",
    "    print(type(kargs))\n",
    "    print(kargs)\n",
    "    \n",
    "test_func2(a=\"ab\",b=\"bc\",key=\"value\",key2 = \"value2\")"
   ]
  },
  {
   "cell_type": "code",
   "execution_count": 34,
   "id": "7ed9f0dc-397e-4273-939d-727b0de826c0",
   "metadata": {},
   "outputs": [
    {
     "name": "stdout",
     "output_type": "stream",
     "text": [
      "80\n"
     ]
    }
   ],
   "source": [
    "def plus_ten(n):\n",
    "    return n+10\n",
    "print(plus_ten(70))"
   ]
  }
 ],
 "metadata": {
  "kernelspec": {
   "display_name": "Python 3 (ipykernel)",
   "language": "python",
   "name": "python3"
  },
  "language_info": {
   "codemirror_mode": {
    "name": "ipython",
    "version": 3
   },
   "file_extension": ".py",
   "mimetype": "text/x-python",
   "name": "python",
   "nbconvert_exporter": "python",
   "pygments_lexer": "ipython3",
   "version": "3.9.13"
  },
  "vscode": {
   "interpreter": {
    "hash": "49f11bc3bbceea80d43b6585ef1fbb24305d1544ee10ff82b0a738254ffa1b3f"
   }
  }
 },
 "nbformat": 4,
 "nbformat_minor": 5
}
