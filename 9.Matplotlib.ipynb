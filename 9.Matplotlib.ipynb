{
 "cells": [
  {
   "cell_type": "markdown",
   "id": "a5dd8154-55c1-4094-8c9b-0c439880dc8b",
   "metadata": {},
   "source": [
    "# Matplotlib이란\n",
    "- 파이썬에서 자료를 차트나 플롯(plot,두 변수간의 관계를 보이는 graph)으로 시각화하는 패키지이다,\n",
    "- 다음과 같은 정형화된 차트나 플롯 이외에도 저수준 API를 사용한 다양한 시각화 기능을 제공한다.\n",
    "    - line plot\n",
    "    - scatter plot\n",
    "    - contour plot\n",
    "    - surface plot\n",
    "    - bar chart\n",
    "    - histogram\n",
    "    - box plot\n",
    "- 사용을 위해 matplotlib과 서브패키지인 pyplot의 import가 필요하다\n",
    "- 주피터 랩에서는 별도의 윈도우 Figure 표시방식을 지원하지 않아서 그래프가 추"
   ]
  },
  {
   "cell_type": "code",
   "execution_count": null,
   "id": "4ff78893-afc3-40d3-aae2-ef1d1348776b",
   "metadata": {},
   "outputs": [],
   "source": [
    "import matplotlib as mpl\n",
    "import matplotlib.pyplot as plt\n",
    "%matplotlib inline"
   ]
  },
  {
   "cell_type": "code",
   "execution_count": null,
   "id": "c18c1309-70cd-4426-921e-6c193d34175c",
   "metadata": {},
   "outputs": [],
   "source": []
  },
  {
   "cell_type": "code",
   "execution_count": null,
   "id": "b92f7ef2-720f-4833-93b9-8dd5ae6be4de",
   "metadata": {},
   "outputs": [],
   "source": []
  },
  {
   "cell_type": "code",
   "execution_count": null,
   "id": "a109e385-8035-485c-94c7-202447d34595",
   "metadata": {},
   "outputs": [],
   "source": []
  },
  {
   "cell_type": "code",
   "execution_count": null,
   "id": "025f6503-4a53-41a7-9988-b32ed0c8c71a",
   "metadata": {},
   "outputs": [],
   "source": []
  },
  {
   "cell_type": "code",
   "execution_count": null,
   "id": "3e574ea3-efdf-4832-b196-30ba38c190c9",
   "metadata": {},
   "outputs": [],
   "source": []
  },
  {
   "cell_type": "code",
   "execution_count": null,
   "id": "bee245c0-bf75-44cf-986d-636a762c162a",
   "metadata": {},
   "outputs": [],
   "source": []
  },
  {
   "cell_type": "code",
   "execution_count": null,
   "id": "8c87f8b2-fe7b-484a-85ee-089c2c31eb9e",
   "metadata": {},
   "outputs": [],
   "source": []
  },
  {
   "cell_type": "code",
   "execution_count": null,
   "id": "280c19f3-2db4-4291-98b2-1265776ed0b9",
   "metadata": {},
   "outputs": [],
   "source": []
  },
  {
   "cell_type": "code",
   "execution_count": null,
   "id": "1dd9f444-6096-4a2f-93eb-b821b9393329",
   "metadata": {},
   "outputs": [],
   "source": []
  },
  {
   "cell_type": "code",
   "execution_count": null,
   "id": "92aad69c-d75f-4171-aad8-155d25155a2d",
   "metadata": {},
   "outputs": [],
   "source": []
  },
  {
   "cell_type": "code",
   "execution_count": null,
   "id": "1cec4fcb-5c98-4fbb-bcc3-e5a10ff53ae9",
   "metadata": {},
   "outputs": [],
   "source": []
  },
  {
   "cell_type": "code",
   "execution_count": null,
   "id": "2b154ccc-6fe7-4997-94c4-1fd490f1b431",
   "metadata": {},
   "outputs": [],
   "source": []
  },
  {
   "cell_type": "code",
   "execution_count": null,
   "id": "06d4c07c-2786-4a18-8d26-2313dabd4a48",
   "metadata": {},
   "outputs": [],
   "source": []
  },
  {
   "cell_type": "code",
   "execution_count": null,
   "id": "1ddfbbad-855d-4b2a-81be-39275e8354c4",
   "metadata": {},
   "outputs": [],
   "source": []
  },
  {
   "cell_type": "code",
   "execution_count": null,
   "id": "b1c103ab-489d-4f6c-a237-a1d1edc7db4e",
   "metadata": {},
   "outputs": [],
   "source": []
  },
  {
   "cell_type": "code",
   "execution_count": null,
   "id": "f27c2c8f-08da-400e-9823-1801ed69c723",
   "metadata": {},
   "outputs": [],
   "source": []
  },
  {
   "cell_type": "code",
   "execution_count": null,
   "id": "79a7ef4d-59f5-41ac-84b2-f93b0f61ee19",
   "metadata": {},
   "outputs": [],
   "source": []
  },
  {
   "cell_type": "code",
   "execution_count": null,
   "id": "7266be90-7f44-431b-a0b1-53557f64b050",
   "metadata": {},
   "outputs": [],
   "source": []
  },
  {
   "cell_type": "code",
   "execution_count": null,
   "id": "e6f61bc5-08c1-46c1-8413-55acdbe19f68",
   "metadata": {},
   "outputs": [],
   "source": []
  },
  {
   "cell_type": "code",
   "execution_count": null,
   "id": "8bc94aa4-f261-4ce2-b5ee-1f2850f778d5",
   "metadata": {},
   "outputs": [],
   "source": []
  },
  {
   "cell_type": "code",
   "execution_count": null,
   "id": "c6b0d676-41c4-4235-9a67-14017f10c127",
   "metadata": {},
   "outputs": [],
   "source": []
  },
  {
   "cell_type": "code",
   "execution_count": null,
   "id": "4dd4c2a7-872b-488f-b31b-ba58893c54f4",
   "metadata": {},
   "outputs": [],
   "source": []
  },
  {
   "cell_type": "code",
   "execution_count": null,
   "id": "f80b6d12-703d-4602-bf66-756d4ca11438",
   "metadata": {},
   "outputs": [],
   "source": []
  },
  {
   "cell_type": "code",
   "execution_count": null,
   "id": "eddaf801-732e-438b-983c-f288f3b8c658",
   "metadata": {},
   "outputs": [],
   "source": []
  },
  {
   "cell_type": "code",
   "execution_count": null,
   "id": "19c57c8f-33d6-4abf-a6b2-7d12e2903a2e",
   "metadata": {},
   "outputs": [],
   "source": []
  },
  {
   "cell_type": "code",
   "execution_count": null,
   "id": "2cb32406-23e0-47a3-8a2d-0b5434d7bb65",
   "metadata": {},
   "outputs": [],
   "source": []
  },
  {
   "cell_type": "code",
   "execution_count": null,
   "id": "7b0c8a41-e6aa-46a6-a2f8-ef1a30f998c0",
   "metadata": {},
   "outputs": [],
   "source": []
  },
  {
   "cell_type": "code",
   "execution_count": null,
   "id": "4b9c97b5-bdde-4df7-a3a0-bb40195e36b6",
   "metadata": {},
   "outputs": [],
   "source": []
  },
  {
   "cell_type": "code",
   "execution_count": null,
   "id": "fb8c4790-23b9-4623-bcd8-52590596f51b",
   "metadata": {},
   "outputs": [],
   "source": []
  },
  {
   "cell_type": "code",
   "execution_count": null,
   "id": "2375a138-3f03-4aaa-9867-9c5bfef2a0c0",
   "metadata": {},
   "outputs": [],
   "source": []
  },
  {
   "cell_type": "code",
   "execution_count": null,
   "id": "385ad0d1-e43e-4917-a6f5-28d6478aa363",
   "metadata": {},
   "outputs": [],
   "source": []
  },
  {
   "cell_type": "code",
   "execution_count": null,
   "id": "f2dd0c2c-3d7d-4a8d-b101-2368894e8c1d",
   "metadata": {},
   "outputs": [],
   "source": []
  },
  {
   "cell_type": "code",
   "execution_count": null,
   "id": "57d0a64e-baa3-4982-8de0-5ed57648f000",
   "metadata": {},
   "outputs": [],
   "source": []
  },
  {
   "cell_type": "code",
   "execution_count": null,
   "id": "c8a65dfb-fa82-418b-aade-e0096eeb40d3",
   "metadata": {},
   "outputs": [],
   "source": []
  },
  {
   "cell_type": "code",
   "execution_count": null,
   "id": "3aa438bc-5008-4da9-b78b-e20a90ac1afb",
   "metadata": {},
   "outputs": [],
   "source": []
  },
  {
   "cell_type": "code",
   "execution_count": null,
   "id": "a298b7bd-7105-4f69-8f24-0d747adb34d1",
   "metadata": {},
   "outputs": [],
   "source": []
  },
  {
   "cell_type": "code",
   "execution_count": null,
   "id": "4e7b1273-8ed6-42f7-ad0a-c68a0f6ec645",
   "metadata": {},
   "outputs": [],
   "source": []
  },
  {
   "cell_type": "code",
   "execution_count": null,
   "id": "ef4152b6-0cdc-47ab-9967-eabd1efdb292",
   "metadata": {},
   "outputs": [],
   "source": []
  },
  {
   "cell_type": "code",
   "execution_count": null,
   "id": "7f31839e-b578-435b-8a43-adfc11a93894",
   "metadata": {},
   "outputs": [],
   "source": []
  }
 ],
 "metadata": {
  "kernelspec": {
   "display_name": "Python 3 (ipykernel)",
   "language": "python",
   "name": "python3"
  },
  "language_info": {
   "codemirror_mode": {
    "name": "ipython",
    "version": 3
   },
   "file_extension": ".py",
   "mimetype": "text/x-python",
   "name": "python",
   "nbconvert_exporter": "python",
   "pygments_lexer": "ipython3",
   "version": "3.9.13"
  }
 },
 "nbformat": 4,
 "nbformat_minor": 5
}
