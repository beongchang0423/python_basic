{
 "cells": [
  {
   "cell_type": "markdown",
   "id": "b7746f6e-ef29-4285-81e6-a3ddf24996c3",
   "metadata": {},
   "source": [
    "### intertools\n",
    "- 순열 조합 결과를 뽑는데 유용한 라이브러리"
   ]
  },
  {
   "cell_type": "code",
   "execution_count": null,
   "id": "04572226-5dde-4e35-be9d-84cdf1b19f49",
   "metadata": {},
   "outputs": [],
   "source": [
    "from itertools import permutations\n",
    "from itertools import combinations\n",
    "data = ['a','b','c']\n",
    "result_per = list(permutations(data,3)) #모든 순열 구하기(data에서 3개를 뽑아 순열 만들기)\n",
    "print(result_per)\n",
    "result_com = list(combinations(data,2)) # 2개를 뽑는 모든 조합 구하기\n",
    "print(result_com)"
   ]
  },
  {
   "cell_type": "markdown",
   "id": "70bee853-eb46-4173-b8c9-a5885cce74eb",
   "metadata": {},
   "source": [
    "### heapq라이브러리\n",
    "- 다익스트라 최단 경로 알고리즘을 포함해 다양한 알고리즘에서 우선순위 큐 기능을 구현할 때사용\n",
    "- 정렬시에도 단순히 heapq에 넣고 빼는 것 만으로도 NlogN복잡도로 오름차순 정렬이 된다.\n",
    "- maxheap은 원소의 부호를 임시로 바꾸어 정렬한뒤 다시 바꿔 저장하는 방식으로 저장한다."
   ]
  },
  {
   "cell_type": "code",
   "execution_count": null,
   "id": "a4c1ff2c-ed9c-42ac-8206-9496d7867377",
   "metadata": {},
   "outputs": [],
   "source": [
    "import heapq\n",
    "def heapsort(iterable):\n",
    "    h = []\n",
    "    result  = []\n",
    "    # 모든 원소를 차례대로 힙에 삽입\n",
    "    for value in iterable:\n",
    "        heapq.heappush(h,value)\n",
    "    for _ in range(len(h)):\n",
    "        result.append(heapq.heappop(h))\n",
    "    return result\n",
    "\n",
    "result = heapsort([1,3,5,7,9,2,4,6,8,0])\n",
    "print(result)"
   ]
  }
 ],
 "metadata": {
  "kernelspec": {
   "display_name": "Python 3 (ipykernel)",
   "language": "python",
   "name": "python3"
  },
  "language_info": {
   "codemirror_mode": {
    "name": "ipython",
    "version": 3
   },
   "file_extension": ".py",
   "mimetype": "text/x-python",
   "name": "python",
   "nbconvert_exporter": "python",
   "pygments_lexer": "ipython3",
   "version": "3.9.13"
  }
 },
 "nbformat": 4,
 "nbformat_minor": 5
}
