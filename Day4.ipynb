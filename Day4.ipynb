{
 "cells": [
  {
   "cell_type": "markdown",
   "id": "e012bb31-3d21-40da-b712-d2a17403774d",
   "metadata": {},
   "source": [
    "Dynamic typing = type에 대한 처리를 Python이 해주는것  \n",
    "정적 타이핑 언어보다 파이썬이 처리할 일이 많기 때문에 같은 일에 대한 결과를 보는데 시간이 더 걸린다.  \n",
    "#TOBE = 향후 구현하겠다는 주석으로 사용하기도함  \n",
    "\n",
    "### while 문\n",
    "조건식을 가지고 반복문을 사용할 때 유용함. \n",
    "1. 조건식을 판별함.\n",
    "2. 조건식이 True인 동안 내내 while 문의 바디를 실행함.\n",
    "3. 조건식이 Flase가 되면 while문을 빠져나감.\n"
   ]
  },
  {
   "cell_type": "code",
   "execution_count": 9,
   "id": "866c6b0c-ddd1-4f38-a2b0-df58a2b526d8",
   "metadata": {},
   "outputs": [
    {
     "name": "stdin",
     "output_type": "stream",
     "text": [
      "반복할 횟수를 입력하세요:  1\n"
     ]
    },
    {
     "name": "stdout",
     "output_type": "stream",
     "text": [
      "Hello world 1\n"
     ]
    }
   ],
   "source": [
    "count= int(input(\"반복할 횟수를 입력하세요: \"))\n",
    "\n",
    "while count >0: # 조건식\n",
    "    print(\"Hello world\",count)  # 실행문\n",
    "    count -=1 # 증감식\n",
    "del sum"
   ]
  },
  {
   "cell_type": "markdown",
   "id": "4653f4ae-2b3b-49b0-aff4-76ebdb966d1c",
   "metadata": {},
   "source": [
    "### break문\n",
    "for, while문에서 break는 해당 반복문을 완전히 빠져나간다.  \n",
    "즉, 특정 조건에 부할할 때 해당 반복문을 빠져나가기 위해 사용한다. \n",
    "\n",
    "### continue문\n",
    "for, while문에서 continue를 만나는 순간 body를 진행하지 않고 반복문의 조건검사부분으로 이동한다.  \n",
    "특정 조건에 부합할 때 아래 부분을 수행하지 않도록 하기 위해 사용한다."
   ]
  },
  {
   "cell_type": "code",
   "execution_count": 11,
   "id": "3a0737d0-c49a-4340-a907-74116649ce8d",
   "metadata": {},
   "outputs": [
    {
     "name": "stdout",
     "output_type": "stream",
     "text": [
      "5050\n"
     ]
    }
   ],
   "source": [
    "i=0\n",
    "total =0\n",
    "while True:\n",
    "    total += i\n",
    "    i+=1\n",
    "    if i > 100 :\n",
    "        break\n",
    "print(total)"
   ]
  },
  {
   "cell_type": "code",
   "execution_count": 28,
   "id": "77ffcc21-b86b-4cb1-81e0-f4cf7001bf31",
   "metadata": {},
   "outputs": [
    {
     "name": "stdout",
     "output_type": "stream",
     "text": [
      "1\n"
     ]
    }
   ],
   "source": [
    "import random\n",
    "ran_num = random.randrange(1,101)"
   ]
  },
  {
   "cell_type": "code",
   "execution_count": 43,
   "id": "6a7a264d-8688-4009-a553-7229df5b09fd",
   "metadata": {},
   "outputs": [
    {
     "name": "stdin",
     "output_type": "stream",
     "text": [
      "시작하는 정수 입력 :  1\n",
      "끝나는 정수 입력 :  10\n"
     ]
    },
    {
     "name": "stdout",
     "output_type": "stream",
     "text": [
      "1부터 10까지의 합은 55입니다.\n",
      "1부터 10까지의 합은 55입니다.\n"
     ]
    }
   ],
   "source": [
    "first = int(input(\"시작하는 정수 입력 : \"))\n",
    "end = int(input(\"끝나는 정수 입력 : \"))\n",
    "sum=0\n",
    "for i in range(first,end+1):\n",
    "    sum += i\n",
    "    i+=1\n",
    "print(\"{}부터 {}까지의 합은 {}입니다.\".format(first,end,sum))\n",
    "\n",
    "sum=0\n",
    "i=first\n",
    "while i<=end:\n",
    "    sum+=i\n",
    "    i+=1\n",
    "print(\"{}부터 {}까지의 합은 {}입니다.\".format(first,end,sum))"
   ]
  },
  {
   "cell_type": "markdown",
   "id": "27dcf65b-e36e-4f5c-b6e2-e34e0c33e69b",
   "metadata": {},
   "source": [
    "### 출력 편하게 하기\n",
    "print(f'{1}부터 {2}까지의 합은 {3}입니다.')  \n",
    "1,2,3위치에 변수를 넣어 처리도 가능함."
   ]
  },
  {
   "cell_type": "code",
   "execution_count": 60,
   "id": "4613305a-a83d-4809-a704-fdca8fa87cc1",
   "metadata": {},
   "outputs": [
    {
     "name": "stdin",
     "output_type": "stream",
     "text": [
      "시작하는 정수 입력 :  3\n",
      "끝나는 정수 입력 :  7\n"
     ]
    },
    {
     "name": "stdout",
     "output_type": "stream",
     "text": [
      "3부터 7사이의 짝수 제곱의 합은 52입니다.\n",
      "3부터 7사이의 짝수 제곱의 합은 52입니다.\n"
     ]
    }
   ],
   "source": [
    "start = int(input(\"시작하는 정수 입력 : \"))\n",
    "end = int(input(\"끝나는 정수 입력 : \"))\n",
    "\n",
    "sum=0\n",
    "for i in range(start,end+1):\n",
    "    if i %2 ==0:\n",
    "        sum += i**2\n",
    "print(\"{}부터 {}사이의 짝수 제곱의 합은 {}입니다.\".format(start,end,sum))\n",
    "\n",
    "sum=0\n",
    "i=start\n",
    "while i<=end:\n",
    "    if i%2 == 0:\n",
    "        sum += i**2\n",
    "    i+=1\n",
    "print(\"{}부터 {}사이의 짝수 제곱의 합은 {}입니다.\".format(start,end,sum))\n",
    "sum=0"
   ]
  },
  {
   "cell_type": "markdown",
   "id": "2dcf471a-cd5a-4ca7-9809-ca1ee52a4191",
   "metadata": {},
   "source": [
    "### 변수 사용에서 주의할점\n",
    "더할때 저장하는 변수명을 sum으로 두었는데, 파이썬에서는 sum()이 내장함수기 때문에 변수명으로는 적합하지 않다.  \n",
    "자바에서 사용하던 습관으로 변수명으로 사용했으나 jupyter lab에서 초록색으로 뜨는 변수(문자)들은 약속된 언어임을 알게되었음"
   ]
  },
  {
   "cell_type": "code",
   "execution_count": 67,
   "id": "a1af67af-7b56-42bb-8c8f-8e50d69e6d55",
   "metadata": {},
   "outputs": [
    {
     "name": "stdout",
     "output_type": "stream",
     "text": [
      "79.0\n",
      "79.0\n"
     ]
    }
   ],
   "source": [
    "\n",
    "kor = [70,60,55,75,95,90,80,80,85,100]\n",
    "total=0\n",
    "total = sum(kor)\n",
    "print(total/len(kor))\n",
    "\n",
    "total = 0\n",
    "i=0\n",
    "while i<len(kor):\n",
    "    total+=kor[i]\n",
    "    i+=1\n",
    "print(total/len(kor))\n"
   ]
  },
  {
   "cell_type": "code",
   "execution_count": 68,
   "id": "62c2b251-8516-489b-847e-f61eb75e6023",
   "metadata": {},
   "outputs": [
    {
     "name": "stdout",
     "output_type": "stream",
     "text": [
      "233168\n"
     ]
    }
   ],
   "source": [
    "#1000미만의 3의배수와 5의 배수의 총합을 구하라\n",
    "total=0\n",
    "for i in range(1,1000):\n",
    "    if i %3 ==0 or i%5 == 0:\n",
    "        total +=i\n",
    "print(total)"
   ]
  }
 ],
 "metadata": {
  "kernelspec": {
   "display_name": "Python 3 (ipykernel)",
   "language": "python",
   "name": "python3"
  },
  "language_info": {
   "codemirror_mode": {
    "name": "ipython",
    "version": 3
   },
   "file_extension": ".py",
   "mimetype": "text/x-python",
   "name": "python",
   "nbconvert_exporter": "python",
   "pygments_lexer": "ipython3",
   "version": "3.9.13"
  }
 },
 "nbformat": 4,
 "nbformat_minor": 5
}
