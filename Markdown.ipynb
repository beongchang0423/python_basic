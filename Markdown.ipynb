{
 "cells": [
  {
   "cell_type": "code",
   "execution_count": null,
   "id": "45245a5b-6c11-411d-a949-a7f5b5182e8f",
   "metadata": {},
   "outputs": [],
   "source": []
  },
  {
   "cell_type": "markdown",
   "id": "adb0d49a-fd72-4c3b-8101-0fcd2086f24f",
   "metadata": {
    "tags": []
   },
   "source": [
    "# 마크다운 학습\n",
    "space 2번하면 \\n이 적용됨  \n",
    "보기좋게 글 쓸때 정리가 편함 #개수에 따라 글씨가 작아짐.  \n",
    "마크다운과 코드를 잘 섞어서 사용하면 코드가 더 깔끔해 보임.    \n",
    "# H1 \n",
    "## H2\n",
    "###### H6\n",
    "## 1. 일반텍스트\n",
    "\n",
    "굵은 글씨는 **를 써서 지정할 수 있습니다.**\n",
    "\n",
    "기울인 글씨는 *를 써서 지정가능하다*\n",
    "\n",
    "취소선은 ~~를 써서 사용한다.~~\n",
    "\n",
    "> 구획이\n",
    "> 잡힌\n",
    "> 글입니다.\n",
    "\n",
    "구획이 잡힌 글입니다.(첨부글 처럼 영역지정 가능)\n",
    "\n",
    "- 목록1\n",
    "- 목록2\n",
    "- 목록3\n",
    "\n",
    "* 목록1\n",
    "* 목록2\n",
    "* 목록3\n",
    "\n",
    "1. 순서가 있는 목록1\n",
    "2. 2\n",
    "3. 3\n",
    "\n",
    "[slack](https://app.slack.com/client/T04FAU6EUG3/D04GZ5X2XE2/rimeto_profile/U04GR7K8C6T) \n",
    "로 하이퍼링크 가능\n",
    "\n",
    "![이미지에 대한 설명](https://ca.slack-edge.com/T04FAU6EUG3-U04GR7K8C6T-4c32bc1a2377-512)\n",
    "![다운 사진](![image.png](화면 캡처 2023-01-05 102014))\n",
    "\n",
    "  \n",
    "이런식으로 표를 만들 수 있음 :위치에 따라 정렬 방식이 달라짐.\n",
    "|제목 셀|제목 셀|제목 셀|\n",
    "|:--|--:|:--:|\n",
    "|값1|값2|값3|"
   ]
  },
  {
   "cell_type": "markdown",
   "id": "abd9b0c1-3826-4b44-920e-9a0f93977c28",
   "metadata": {},
   "source": [
    "```python\n",
    "x= int(input(\"hello world\"))\n",
    "for i in range(x):\n",
    "    print(\"Hello world\")\n",
    "```\n",
    "이렇게 하면 코드 내용이 실행되는 건 아니지만 코드를 예쁘게 볼 수 있다.(색을 입혀줌 + 언어별 형식에 맞춰줌)"
   ]
  }
 ],
 "metadata": {
  "kernelspec": {
   "display_name": "Python 3 (ipykernel)",
   "language": "python",
   "name": "python3"
  },
  "language_info": {
   "codemirror_mode": {
    "name": "ipython",
    "version": 3
   },
   "file_extension": ".py",
   "mimetype": "text/x-python",
   "name": "python",
   "nbconvert_exporter": "python",
   "pygments_lexer": "ipython3",
   "version": "3.9.13"
  }
 },
 "nbformat": 4,
 "nbformat_minor": 5
}
