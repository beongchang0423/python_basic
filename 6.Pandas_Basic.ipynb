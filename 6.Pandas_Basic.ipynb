{
 "cells": [
  {
   "cell_type": "markdown",
   "id": "69a439b9-694b-404d-9595-0192462e6f33",
   "metadata": {},
   "source": [
    "### Pandas = Panel Datas \n",
    "= Series나 table 형태로 데이터를 나타낼 수 있다. 이러한 데이터를 다루기 위한 클래스를 제공하는 패키지  \n",
    "### Series class\n",
    "= NumPy에서 제공하는 1차원 배열과 그 모양이 비슷하다. 하지만 배열과 다르게 index를 추가하여 index 와 value를 가지는 배열을 말한다.  \n",
    "- Series 객체 생성시 첫 인수로 data, 두 번째 인수로 idnex를 넣는다. \n",
    "- data값으로 iterable,배열,scalar value, dict(key와 index를 동일하게 사용하거나 생략)를 사용할 수 있다. \n",
    "- index는 data와 length가 동일해야한다.\n",
    "- label 이 꼭 유일(unique)할 필요는 없다.\n",
    "- index는 hashable한 type만 올 수 있다."
   ]
  },
  {
   "cell_type": "code",
   "execution_count": 2,
   "id": "fcb99e4b-53d4-41c4-8ed5-0879357462fb",
   "metadata": {},
   "outputs": [
    {
     "name": "stdout",
     "output_type": "stream",
     "text": [
      "1       one\n",
      "2       two\n",
      "3     three\n",
      "4      four\n",
      "5      five\n",
      "6       six\n",
      "7     seven\n",
      "8     eight\n",
      "9      nine\n",
      "10      ten\n",
      "dtype: object\n"
     ]
    }
   ],
   "source": [
    "import pandas as pd\n",
    "series = pd.Series(['one','two','three',\"four\",\"five\",\"six\",\"seven\",'eight','nine','ten'],index=range(1,11))\n",
    "print(series)"
   ]
  },
  {
   "cell_type": "code",
   "execution_count": 3,
   "id": "26efb879-c8b8-4835-80cb-7cbbf7b22da5",
   "metadata": {},
   "outputs": [
    {
     "name": "stdout",
     "output_type": "stream",
     "text": [
      "서울    9904312\n",
      "부산    3448737\n",
      "인천    2890451\n",
      "대구    2466052\n",
      "dtype: int64\n",
      "\n",
      "Index(['서울', '부산', '인천', '대구'], dtype='object')\n",
      "[9904312 3448737 2890451 2466052]\n",
      "\n",
      "도시\n",
      "서울    9904312\n",
      "부산    3448737\n",
      "인천    2890451\n",
      "대구    2466052\n",
      "Name: 인구, dtype: int64\n"
     ]
    }
   ],
   "source": [
    "s = pd.Series([9_904_312, 3_448_737, 2_890_451, 2_466_052],\n",
    "              index=[\"서울\", \"부산\", \"인천\", \"대구\"])\n",
    "print(s,end=\"\\n\\n\")\n",
    "print(s.index)\n",
    "print(s.values,end='\\n\\n')\n",
    "s.name = \"인구\"\n",
    "s.index.name = \"도시\"\n",
    "print(s)"
   ]
  },
  {
   "cell_type": "markdown",
   "id": "e50aeb70-ce32-45f0-9315-a81a72dc0c67",
   "metadata": {},
   "source": [
    "### dict로 Series생성하기"
   ]
  },
  {
   "cell_type": "code",
   "execution_count": 4,
   "id": "2a4edc7b-febf-4457-9dd8-2652a3393218",
   "metadata": {},
   "outputs": [
    {
     "name": "stdout",
     "output_type": "stream",
     "text": [
      "a    1\n",
      "b    2\n",
      "c    3\n",
      "dtype: int64\n",
      "x   NaN\n",
      "y   NaN\n",
      "z   NaN\n",
      "dtype: float64\n"
     ]
    }
   ],
   "source": [
    "d = {'a':1,'b':2,'c':3}\n",
    "ser = pd.Series(d) # 또는 ser = pd.Series(data=d,index=d.keys())\n",
    "print(ser)\n",
    "ser = pd.Series(data=d,index=['x','y','z']) \n",
    "# index로 주어진 값의 key값에 대응하는 value값을 주기 때문에 없는값이라서 NaN을 넣어준다.\n",
    "print(ser)"
   ]
  },
  {
   "cell_type": "markdown",
   "id": "01c7e0a5-7d73-4e9b-b25b-7414fe455304",
   "metadata": {},
   "source": [
    "### Series index를 속성처럼 활용하기\n",
    "- index 값이 영문 문자열인 경우에는 index label이 속성인것처럼 마침표(.)를 활용하여 해당 index값에 접근 가능"
   ]
  },
  {
   "cell_type": "code",
   "execution_count": 5,
   "id": "9c563856-364f-4fb5-bd38-b6b17393fe48",
   "metadata": {},
   "outputs": [
    {
     "data": {
      "text/plain": [
       "nan"
      ]
     },
     "execution_count": 5,
     "metadata": {},
     "output_type": "execute_result"
    }
   ],
   "source": [
    "ser.x"
   ]
  },
  {
   "cell_type": "markdown",
   "id": "37dfa0a0-a4db-40f8-b75b-f845f763ff58",
   "metadata": {},
   "source": [
    "### Series의 특징\n",
    "- 딕셔너리 자료형과 비슷한 특징을 가짐\n",
    "- in연산가능\n",
    "- items()메서드를 사용해 각 요소의 key,value에 접근 가능\n",
    "- 딕셔너리의 원소는 순서를 가지지 않으므로 시리즈의 데이터도 순서가 보장되지 않는다. \n",
    "  만약 순서를 가지도록 하기 위해서는 Series선언시에 index에서 리스트로 순서를 지정해주어야한다."
   ]
  },
  {
   "cell_type": "code",
   "execution_count": 6,
   "id": "3bf51c02-3e0d-4e75-a416-8f9a6ac9e2eb",
   "metadata": {},
   "outputs": [
    {
     "name": "stdout",
     "output_type": "stream",
     "text": [
      "True\n",
      "False\n",
      "서울 : 9904312\n",
      "부산 : 3448737\n",
      "인천 : 2890451\n",
      "대구 : 2466052\n"
     ]
    }
   ],
   "source": [
    "print(\"서울\" in s)\n",
    "print(\"대전\" in s)\n",
    "for k,v in s.items():\n",
    "    print(k,\":\",v)"
   ]
  },
  {
   "cell_type": "markdown",
   "id": "63587c75-dc41-40bb-8916-b2e28c1b9b08",
   "metadata": {},
   "source": [
    "### indexing + slicing"
   ]
  },
  {
   "cell_type": "code",
   "execution_count": 7,
   "id": "6e2682d1-c5a4-478d-a869-efd7d4bccbd0",
   "metadata": {},
   "outputs": [
    {
     "name": "stdout",
     "output_type": "stream",
     "text": [
      "9904312 3448737 2890451\n",
      "\n",
      "도시\n",
      "서울    9904312\n",
      "대구    2466052\n",
      "부산    3448737\n",
      "Name: 인구, dtype: int64\n",
      "\n",
      "도시\n",
      "부산    3448737\n",
      "Name: 인구, dtype: int64\n",
      "\n",
      "도시\n",
      "부산    3448737\n",
      "인천    2890451\n",
      "대구    2466052\n",
      "Name: 인구, dtype: int64\n",
      "\n",
      "도시\n",
      "부산    3448737\n",
      "인천    2890451\n",
      "Name: 인구, dtype: int64\n",
      "\n"
     ]
    }
   ],
   "source": [
    "print(s[0], s[1], s['인천'],end=\"\\n\\n\")\n",
    "print(s[[0,3,1]],end=\"\\n\\n\")\n",
    "print(s[1:2],end=\"\\n\\n\") # 끝값 [2]포함하지 않는다.\n",
    "print(s['부산':'대구'],end=\"\\n\\n\") # 끝값(대구)도 포함한다.\n",
    "#문자는 초과하는 범위를 표현할 수 없어서 (초과하는 문자가 뭐냐고 물어보면 답할수가 없음) 끝을 포함시킨다는 다른점이 있다.\n",
    "print(s[(250e4 < s) & (s < 500e4)],end=\"\\n\\n\")  # 인구가 250만 초과, 500만 미만인 경우"
   ]
  },
  {
   "cell_type": "markdown",
   "id": "6a10977c-7bee-4534-a108-74b6b66ec1ae",
   "metadata": {},
   "source": [
    "### 시리즈 연산\n",
    "\n",
    "- NumPy 배열 처럼 벡터화 연산을 할 수 있다.\n",
    "- 다만 values에만 연산이 적용되고 index는 변하지 않는다.\n",
    "- 시리즈끼리 연산을 하는 경우 인덱스가 같은 데이터에 대해서만 차이를 구한다.\n"
   ]
  },
  {
   "cell_type": "code",
   "execution_count": 8,
   "id": "7f7e130d-c0e9-4e37-9df9-ac71fb472ba0",
   "metadata": {},
   "outputs": [
    {
     "name": "stdout",
     "output_type": "stream",
     "text": [
      "도시\n",
      "서울    990.4312\n",
      "부산    344.8737\n",
      "인천    289.0451\n",
      "대구    246.6052\n",
      "Name: 인구, dtype: float64\n",
      "\n",
      "대구          NaN\n",
      "대전          NaN\n",
      "부산    3393191.0\n",
      "서울    9631482.0\n",
      "인천    2632035.0\n",
      "dtype: float64\n",
      "\n",
      "대구    False\n",
      "대전    False\n",
      "부산     True\n",
      "서울     True\n",
      "인천     True\n",
      "dtype: bool\n",
      "\n",
      "부산    3393191.0\n",
      "서울    9631482.0\n",
      "인천    2632035.0\n",
      "dtype: float64\n",
      "\n",
      "서울    9631482.0\n",
      "dtype: float64\n"
     ]
    }
   ],
   "source": [
    "print(s/10000,end ='\\n\\n')\n",
    "sd = pd.Series([55546,272830,258416,1490158],index = ['부산','서울','인천','대전'])\n",
    "ds = s-sd\n",
    "print(ds,end ='\\n\\n')\n",
    "print(ds.notnull(),end ='\\n\\n') # NaN값에 대한 여부를 확인가능\n",
    "print(ds[ds.notnull()],end ='\\n\\n')#notnull()응용\n",
    "# NaN 값을 갖기 위해선 자료형이 float형이어야 해서 int끼리 연산해도 float형으로 저장된다.\n",
    "print(ds[ds > 9000000]) # 이런 연산도 가능함."
   ]
  },
  {
   "cell_type": "code",
   "execution_count": 9,
   "id": "698ad619-9385-4216-af49-efcb1eaf4e7e",
   "metadata": {},
   "outputs": [
    {
     "name": "stdout",
     "output_type": "stream",
     "text": [
      "대구          NaN\n",
      "대전          NaN\n",
      "부산    3393191.0\n",
      "서울    9631482.0\n",
      "인천    2632035.0\n",
      "dtype: float64\n"
     ]
    },
    {
     "data": {
      "text/plain": [
       "부산          0.0\n",
       "서울    9631482.0\n",
       "인천    2632035.0\n",
       "dtype: float64"
      ]
     },
     "execution_count": 9,
     "metadata": {},
     "output_type": "execute_result"
    }
   ],
   "source": [
    "print(ds)\n",
    "del ds['대구']\n",
    "del ds['대전']\n",
    "ds['부산'] = 0\n",
    "ds"
   ]
  },
  {
   "cell_type": "code",
   "execution_count": 10,
   "id": "7dfa62f3-ce2d-47c9-bde7-c56a7b86a5b9",
   "metadata": {},
   "outputs": [
    {
     "name": "stdout",
     "output_type": "stream",
     "text": [
      "카카오     60010\n",
      "삼성전자    61000\n",
      "LG전자    90000\n",
      "dtype: int64\n",
      "\n",
      "카카오      60200\n",
      "삼성전자     61200\n",
      "네이버     200100\n",
      "dtype: int64\n",
      "\n",
      "삼성전자   -200.0\n",
      "카카오    -190.0\n",
      "dtype: float64\n"
     ]
    }
   ],
   "source": [
    "#연습문제\n",
    "fin1 = {'카카오':60010,'삼성전자':61000,'LG전자':90000}\n",
    "fin2_value = [60200,61200,200100]\n",
    "fi2_index = ['카카오','삼성전자','네이버']\n",
    "\n",
    "ser_finance1 = pd.Series(fin1) \n",
    "ser_finance2 = pd.Series(data = fin2_value, index = fi2_index)\n",
    "print(ser_finance1,ser_finance2,sep=\"\\n\\n\",end = \"\\n\\n\")\n",
    "\n",
    "result = ser_finance1 - ser_finance2\n",
    "print(result[result.notnull()])"
   ]
  },
  {
   "cell_type": "markdown",
   "id": "5746b466-4cf6-479e-a93b-ec199066239d",
   "metadata": {},
   "source": [
    "# <font color=FFE536>DataFrame</front>\n",
    "- 2차원 array에 index값을 붙인 형태와 비슷하다.\n",
    "- 행 index 뿐만 아니라 열 index도 따로 지정이 가능하다.\n",
    "- 데이터프레임은 전치(transpose)를 포함하여 2차원 array가 가지는 대부분의 속성이나 메서드를 지원한다.\n",
    "- 산술연산은 row와 column 모두 적용된다.\n",
    "- series 객체를 갖는 dictionary라고 이해해도 된다.\n",
    "### DataFame 생성\n",
    "1. 하나의 열이 되는 데이터를 리스트나 일차원 배열을 준비한다.\n",
    "2. 각각의 열에 대한 이름(label)을 키로 가지는 dictionary를 만든다\n",
    "3. 이 데이터를 DataFrame 클래스 생성자에 넣는다. 동시에 열방향 index는 columns 인수로 행방향 index는 index인수로 지정한다."
   ]
  },
  {
   "cell_type": "code",
   "execution_count": 11,
   "id": "1ddf4cfc-3f68-4c02-8aaa-e4085cc58c09",
   "metadata": {},
   "outputs": [
    {
     "name": "stdout",
     "output_type": "stream",
     "text": [
      "색       빨강      노랑      초록      파랑      가격\n",
      "순서                                        \n",
      "1   ff3399  ffe536  36ffb4  003dfd  1000.0\n",
      "2   ff1999  ffff00  1dffba  4682b4  1000.0\n",
      "3   f5007a  ffd700  00f79b  00bcf8  1000.0\n",
      "4   ff1493  ebd64a  00fa9a  148cb2  1000.0\n",
      "형광펜색\n"
     ]
    }
   ],
   "source": [
    "data = {\n",
    "    \"빨강\": ['ff3399', 'ff1999', 'f5007a', 'ff1493'],\n",
    "    \"노랑\": ['ffe536', 'ffff00', 'ffd700', 'ebd64a'],\n",
    "    \"초록\": ['36ffb4', '1dffba', '00f79b', '00fa9a'],\n",
    "    \"파랑\": ['003dfd', '4682b4', '00bcf8', '148cb2'],\n",
    "    \"가격\": [1000.0,1000.0,1000.0,1000.0]\n",
    "}\n",
    "color_pen = pd.DataFrame(data,index=range(1,5))\n",
    "color_pen.name = \"형광펜색\"\n",
    "color_pen.index.name = '순서'\n",
    "color_pen.columns.name = '색'\n",
    "print(color_pen)\n",
    "print(color_pen.name)"
   ]
  },
  {
   "cell_type": "code",
   "execution_count": 12,
   "id": "2a9de9f6-5c8a-49e2-b21c-96f8be6fa7b1",
   "metadata": {},
   "outputs": [
    {
     "name": "stdout",
     "output_type": "stream",
     "text": [
      "     지역     2015     2010     2005     2000  2010-2015 증가율\n",
      "서울  수도권  9904312  9631482  9762546  9853972         0.0283\n",
      "부산  경상권  3448737  3393191  3512547  3655437         0.0163\n",
      "인천  수도권  2890451  2632035  2517680  2466338         0.0982\n",
      "대구  경상권  2466052  2431774  2456016  2473990         0.0141\n"
     ]
    },
    {
     "data": {
      "text/html": [
       "<div>\n",
       "<style scoped>\n",
       "    .dataframe tbody tr th:only-of-type {\n",
       "        vertical-align: middle;\n",
       "    }\n",
       "\n",
       "    .dataframe tbody tr th {\n",
       "        vertical-align: top;\n",
       "    }\n",
       "\n",
       "    .dataframe thead th {\n",
       "        text-align: right;\n",
       "    }\n",
       "</style>\n",
       "<table border=\"1\" class=\"dataframe\">\n",
       "  <thead>\n",
       "    <tr style=\"text-align: right;\">\n",
       "      <th></th>\n",
       "      <th>지역</th>\n",
       "      <th>2015</th>\n",
       "      <th>2010</th>\n",
       "      <th>2005</th>\n",
       "      <th>2000</th>\n",
       "      <th>2010-2015 증가율</th>\n",
       "    </tr>\n",
       "  </thead>\n",
       "  <tbody>\n",
       "    <tr>\n",
       "      <th>서울</th>\n",
       "      <td>수도권</td>\n",
       "      <td>9904312</td>\n",
       "      <td>9631482</td>\n",
       "      <td>9762546</td>\n",
       "      <td>9853972</td>\n",
       "      <td>0.0283</td>\n",
       "    </tr>\n",
       "    <tr>\n",
       "      <th>부산</th>\n",
       "      <td>경상권</td>\n",
       "      <td>3448737</td>\n",
       "      <td>3393191</td>\n",
       "      <td>3512547</td>\n",
       "      <td>3655437</td>\n",
       "      <td>0.0163</td>\n",
       "    </tr>\n",
       "    <tr>\n",
       "      <th>인천</th>\n",
       "      <td>수도권</td>\n",
       "      <td>2890451</td>\n",
       "      <td>2632035</td>\n",
       "      <td>2517680</td>\n",
       "      <td>2466338</td>\n",
       "      <td>0.0982</td>\n",
       "    </tr>\n",
       "    <tr>\n",
       "      <th>대구</th>\n",
       "      <td>경상권</td>\n",
       "      <td>2466052</td>\n",
       "      <td>2431774</td>\n",
       "      <td>2456016</td>\n",
       "      <td>2473990</td>\n",
       "      <td>0.0141</td>\n",
       "    </tr>\n",
       "  </tbody>\n",
       "</table>\n",
       "</div>"
      ],
      "text/plain": [
       "     지역     2015     2010     2005     2000  2010-2015 증가율\n",
       "서울  수도권  9904312  9631482  9762546  9853972         0.0283\n",
       "부산  경상권  3448737  3393191  3512547  3655437         0.0163\n",
       "인천  수도권  2890451  2632035  2517680  2466338         0.0982\n",
       "대구  경상권  2466052  2431774  2456016  2473990         0.0141"
      ]
     },
     "execution_count": 12,
     "metadata": {},
     "output_type": "execute_result"
    }
   ],
   "source": [
    "data = {\n",
    "    \"2015\": [9904312, 3448737, 2890451, 2466052],\n",
    "    \"2010\": [9631482, 3393191, 2632035, 2431774],\n",
    "    \"2005\": [9762546, 3512547, 2517680, 2456016],\n",
    "    \"2000\": [9853972, 3655437, 2466338, 2473990],\n",
    "    \"지역\": [\"수도권\", \"경상권\", \"수도권\", \"경상권\"],\n",
    "    \"2010-2015 증가율\": [0.0283, 0.0163, 0.0982, 0.0141]\n",
    "}\n",
    "columns = [\"지역\", \"2015\", \"2010\", \"2005\", \"2000\", \"2010-2015 증가율\"]\n",
    "index = [\"서울\", \"부산\", \"인천\", \"대구\"]\n",
    "df = pd.DataFrame(data, index=index, columns=columns)\n",
    "print(df)\n",
    "df"
   ]
  },
  {
   "cell_type": "code",
   "execution_count": 13,
   "id": "a4c1c1b2-e1ef-42f1-a9dc-088e39a5b08d",
   "metadata": {},
   "outputs": [
    {
     "data": {
      "text/plain": [
       "array([['수도권', 9904312, 9631482, 9762546, 9853972, 0.0283],\n",
       "       ['경상권', 3448737, 3393191, 3512547, 3655437, 0.0163],\n",
       "       ['수도권', 2890451, 2632035, 2517680, 2466338, 0.0982],\n",
       "       ['경상권', 2466052, 2431774, 2456016, 2473990, 0.0141]], dtype=object)"
      ]
     },
     "execution_count": 13,
     "metadata": {},
     "output_type": "execute_result"
    }
   ],
   "source": [
    "df.values"
   ]
  },
  {
   "cell_type": "code",
   "execution_count": 14,
   "id": "059cace1-eb4a-464c-9d51-91f01e367322",
   "metadata": {},
   "outputs": [
    {
     "data": {
      "text/plain": [
       "Index(['지역', '2015', '2010', '2005', '2000', '2010-2015 증가율'], dtype='object')"
      ]
     },
     "execution_count": 14,
     "metadata": {},
     "output_type": "execute_result"
    }
   ],
   "source": [
    "df.columns"
   ]
  },
  {
   "cell_type": "code",
   "execution_count": 15,
   "id": "16bc8e85-09a1-4682-b9a1-e13d81d5c49d",
   "metadata": {},
   "outputs": [
    {
     "data": {
      "text/plain": [
       "Index(['서울', '부산', '인천', '대구'], dtype='object')"
      ]
     },
     "execution_count": 15,
     "metadata": {},
     "output_type": "execute_result"
    }
   ],
   "source": [
    "df.index"
   ]
  },
  {
   "cell_type": "code",
   "execution_count": 16,
   "id": "4c722631-6480-4af6-8ef7-d86810a760ea",
   "metadata": {},
   "outputs": [
    {
     "data": {
      "text/html": [
       "<div>\n",
       "<style scoped>\n",
       "    .dataframe tbody tr th:only-of-type {\n",
       "        vertical-align: middle;\n",
       "    }\n",
       "\n",
       "    .dataframe tbody tr th {\n",
       "        vertical-align: top;\n",
       "    }\n",
       "\n",
       "    .dataframe thead th {\n",
       "        text-align: right;\n",
       "    }\n",
       "</style>\n",
       "<table border=\"1\" class=\"dataframe\">\n",
       "  <thead>\n",
       "    <tr style=\"text-align: right;\">\n",
       "      <th>특성</th>\n",
       "      <th>지역</th>\n",
       "      <th>2015</th>\n",
       "      <th>2010</th>\n",
       "      <th>2005</th>\n",
       "      <th>2000</th>\n",
       "      <th>2010-2015 증가율</th>\n",
       "    </tr>\n",
       "    <tr>\n",
       "      <th>도시</th>\n",
       "      <th></th>\n",
       "      <th></th>\n",
       "      <th></th>\n",
       "      <th></th>\n",
       "      <th></th>\n",
       "      <th></th>\n",
       "    </tr>\n",
       "  </thead>\n",
       "  <tbody>\n",
       "    <tr>\n",
       "      <th>서울</th>\n",
       "      <td>수도권</td>\n",
       "      <td>9904312</td>\n",
       "      <td>9631482</td>\n",
       "      <td>9762546</td>\n",
       "      <td>9853972</td>\n",
       "      <td>0.0283</td>\n",
       "    </tr>\n",
       "    <tr>\n",
       "      <th>부산</th>\n",
       "      <td>경상권</td>\n",
       "      <td>3448737</td>\n",
       "      <td>3393191</td>\n",
       "      <td>3512547</td>\n",
       "      <td>3655437</td>\n",
       "      <td>0.0163</td>\n",
       "    </tr>\n",
       "    <tr>\n",
       "      <th>인천</th>\n",
       "      <td>수도권</td>\n",
       "      <td>2890451</td>\n",
       "      <td>2632035</td>\n",
       "      <td>2517680</td>\n",
       "      <td>2466338</td>\n",
       "      <td>0.0982</td>\n",
       "    </tr>\n",
       "    <tr>\n",
       "      <th>대구</th>\n",
       "      <td>경상권</td>\n",
       "      <td>2466052</td>\n",
       "      <td>2431774</td>\n",
       "      <td>2456016</td>\n",
       "      <td>2473990</td>\n",
       "      <td>0.0141</td>\n",
       "    </tr>\n",
       "  </tbody>\n",
       "</table>\n",
       "</div>"
      ],
      "text/plain": [
       "특성   지역     2015     2010     2005     2000  2010-2015 증가율\n",
       "도시                                                        \n",
       "서울  수도권  9904312  9631482  9762546  9853972         0.0283\n",
       "부산  경상권  3448737  3393191  3512547  3655437         0.0163\n",
       "인천  수도권  2890451  2632035  2517680  2466338         0.0982\n",
       "대구  경상권  2466052  2431774  2456016  2473990         0.0141"
      ]
     },
     "execution_count": 16,
     "metadata": {},
     "output_type": "execute_result"
    }
   ],
   "source": [
    "# index와 column에 이름을 붙이는 것도 가능하다 \n",
    "df.index.name = \"도시\"\n",
    "df.columns.name = \"특성\"\n",
    "df"
   ]
  },
  {
   "cell_type": "code",
   "execution_count": 17,
   "id": "5ce552ca-6d8a-470b-b4b9-42e055532062",
   "metadata": {},
   "outputs": [
    {
     "data": {
      "text/html": [
       "<div>\n",
       "<style scoped>\n",
       "    .dataframe tbody tr th:only-of-type {\n",
       "        vertical-align: middle;\n",
       "    }\n",
       "\n",
       "    .dataframe tbody tr th {\n",
       "        vertical-align: top;\n",
       "    }\n",
       "\n",
       "    .dataframe thead th {\n",
       "        text-align: right;\n",
       "    }\n",
       "</style>\n",
       "<table border=\"1\" class=\"dataframe\">\n",
       "  <thead>\n",
       "    <tr style=\"text-align: right;\">\n",
       "      <th>특성</th>\n",
       "      <th>지역</th>\n",
       "      <th>2015</th>\n",
       "      <th>2010</th>\n",
       "      <th>2005</th>\n",
       "      <th>2000</th>\n",
       "      <th>2005-2010 증가율</th>\n",
       "    </tr>\n",
       "    <tr>\n",
       "      <th>도시</th>\n",
       "      <th></th>\n",
       "      <th></th>\n",
       "      <th></th>\n",
       "      <th></th>\n",
       "      <th></th>\n",
       "      <th></th>\n",
       "    </tr>\n",
       "  </thead>\n",
       "  <tbody>\n",
       "    <tr>\n",
       "      <th>서울</th>\n",
       "      <td>수도권</td>\n",
       "      <td>9904312</td>\n",
       "      <td>9631482</td>\n",
       "      <td>9762546</td>\n",
       "      <td>9853972</td>\n",
       "      <td>-1.343</td>\n",
       "    </tr>\n",
       "    <tr>\n",
       "      <th>부산</th>\n",
       "      <td>경상권</td>\n",
       "      <td>3448737</td>\n",
       "      <td>3393191</td>\n",
       "      <td>3512547</td>\n",
       "      <td>3655437</td>\n",
       "      <td>-3.398</td>\n",
       "    </tr>\n",
       "    <tr>\n",
       "      <th>인천</th>\n",
       "      <td>수도권</td>\n",
       "      <td>2890451</td>\n",
       "      <td>2632035</td>\n",
       "      <td>2517680</td>\n",
       "      <td>2466338</td>\n",
       "      <td>4.542</td>\n",
       "    </tr>\n",
       "    <tr>\n",
       "      <th>대구</th>\n",
       "      <td>경상권</td>\n",
       "      <td>2466052</td>\n",
       "      <td>2431774</td>\n",
       "      <td>2456016</td>\n",
       "      <td>2473990</td>\n",
       "      <td>-0.987</td>\n",
       "    </tr>\n",
       "  </tbody>\n",
       "</table>\n",
       "</div>"
      ],
      "text/plain": [
       "특성   지역     2015     2010     2005     2000  2005-2010 증가율\n",
       "도시                                                        \n",
       "서울  수도권  9904312  9631482  9762546  9853972         -1.343\n",
       "부산  경상권  3448737  3393191  3512547  3655437         -3.398\n",
       "인천  수도권  2890451  2632035  2517680  2466338          4.542\n",
       "대구  경상권  2466052  2431774  2456016  2473990         -0.987"
      ]
     },
     "execution_count": 17,
     "metadata": {},
     "output_type": "execute_result"
    }
   ],
   "source": [
    "df['2005-2010 증가율'] = ((df['2010']-df['2005']) / df['2005']*100).round(3)\n",
    "del df['2010-2015 증가율']\n",
    "df"
   ]
  },
  {
   "cell_type": "markdown",
   "id": "56010ef9-cd73-498a-838c-912951db7939",
   "metadata": {},
   "source": [
    "### 열 인덱싱\n",
    "- column label을 key로 인덱싱이 가능하다.\n",
    "- 인덱싱한 type은 Series이다.\n",
    "- label을 배열 또는 여러개의 열을 indexing하면 DataFrame type이 된다.\n",
    "- 만약 하나의 열만 빼내면서 데이터프레임 자료형을 유지하고 싶다면 원소가 하나인 리스트를 써서 인덱싱하면 된다.\n",
    "- column index가 문자열 label인 경우에는 순서를 나타내느 정수 index를 column인덱싱에 사용할 수 없다.\n",
    "- 원래부터 정수형 column index를 가지는 경우에는 index값으로 정수를 사용할 수 있다."
   ]
  },
  {
   "cell_type": "code",
   "execution_count": 18,
   "id": "d637d084-40b6-49ea-9026-3508fb0d750b",
   "metadata": {},
   "outputs": [
    {
     "name": "stdout",
     "output_type": "stream",
     "text": [
      "특성   지역     2015     2010     2005     2000  2005-2010 증가율\n",
      "도시                                                        \n",
      "서울  수도권  9904312  9631482  9762546  9853972         -1.343\n",
      "부산  경상권  3448737  3393191  3512547  3655437         -3.398\n",
      "인천  수도권  2890451  2632035  2517680  2466338          4.542\n",
      "대구  경상권  2466052  2431774  2456016  2473990         -0.987\n",
      "도시\n",
      "서울    9631482\n",
      "부산    3393191\n",
      "인천    2632035\n",
      "대구    2431774\n",
      "Name: 2010, dtype: int64\n",
      "<class 'pandas.core.series.Series'>\n",
      "특성     2010     2005\n",
      "도시                  \n",
      "서울  9631482  9762546\n",
      "부산  3393191  3512547\n",
      "인천  2632035  2517680\n",
      "대구  2431774  2456016\n",
      "<class 'pandas.core.frame.DataFrame'>\n",
      "특성     2010\n",
      "도시         \n",
      "서울  9631482\n",
      "부산  3393191\n",
      "인천  2632035\n",
      "대구  2431774\n",
      "<class 'pandas.core.frame.DataFrame'>\n"
     ]
    }
   ],
   "source": [
    "print(df)\n",
    "print(df['2010'] , type(df['지역']),sep=\"\\n\")# series type \n",
    "print(df[['2010','2005']], type(df[['2010','2005']]),sep=\"\\n\") # DataFrame type\n",
    "print(df[['2010']], type(df[[\"2010\"]]),sep='\\n') #DataFrame type\n",
    "# print(df[0]) #얘는 에러가 난다."
   ]
  },
  {
   "cell_type": "markdown",
   "id": "11f40601-d0f9-4309-8de5-ce6af0364e28",
   "metadata": {},
   "source": [
    "### DataFrame row 슬라이싱\n",
    "- row 단위로 인덱싱을 하고자 하면 항상 슬라이싱을 해야한다.\n",
    "- idnex값이 문자 label이라면 label 슬라이싱도 가능하다."
   ]
  },
  {
   "cell_type": "code",
   "execution_count": 19,
   "id": "cb54635b-d444-4554-97f7-c37d0b8d9202",
   "metadata": {},
   "outputs": [
    {
     "name": "stdout",
     "output_type": "stream",
     "text": [
      "특성   지역     2015     2010     2005     2000  2005-2010 증가율\n",
      "도시                                                        \n",
      "서울  수도권  9904312  9631482  9762546  9853972         -1.343\n",
      "특성   지역     2015     2010     2005     2000  2005-2010 증가율\n",
      "도시                                                        \n",
      "서울  수도권  9904312  9631482  9762546  9853972         -1.343\n",
      "<class 'pandas.core.frame.DataFrame'>\n"
     ]
    }
   ],
   "source": [
    "print(df[:1]) # 서울은 df에서 index가 '서울' 이자 0 이다.\n",
    "print(df[:'서울'], type(df[:'서울']),sep = \"\\n\") #반환 type은 DataFrame이 된다."
   ]
  },
  {
   "attachments": {
    "0e2f70c4-1a2d-49a7-8c33-206612d5f647.png": {
     "image/png": "[encoded data removed]"
    }
   },
   "cell_type": "markdown",
   "id": "ebc3bf9a-cc97-4014-9589-d0546f2f363a",
   "metadata": {},
   "source": [
    "### 개별 데이터 인덱싱\n",
    "- DataFrame에서 열 라벨로 시리즈를 인덱싱하고 이를 다시 행 라벨로 인덱싱하면 개별 데이터가 나온다.\n",
    "- 반대순서로 인덱싱을 짜면 KeyError가 발생한다. 행 라벨 인덱싱은 무조건 DataFrame형태로 데이터가 나오기 때문임.\n",
    "\n",
    "### DataFrame 인덱싱정리사진 \n",
    "![image.png](attachment:0e2f70c4-1a2d-49a7-8c33-206612d5f647.png)\n"
   ]
  },
  {
   "cell_type": "code",
   "execution_count": 20,
   "id": "3f109b7a-8894-4fa8-9889-4084e7869cf7",
   "metadata": {},
   "outputs": [
    {
     "data": {
      "text/plain": [
       "9904312"
      ]
     },
     "execution_count": 20,
     "metadata": {},
     "output_type": "execute_result"
    }
   ],
   "source": [
    "df['2015']['서울']"
   ]
  },
  {
   "cell_type": "code",
   "execution_count": 21,
   "id": "9c35d6b9-8f96-49dd-ba66-b0e589a2b47e",
   "metadata": {},
   "outputs": [
    {
     "name": "stdout",
     "output_type": "stream",
     "text": [
      "    국어  영어  수학     평균\n",
      "춘향  80  90  90  86.67\n",
      "몽룡  90  70  60  73.33\n",
      "향단  70  60  80  70.00\n",
      "방자  30  80  70  60.00\n",
      "국어    70.0\n",
      "영어    60.0\n",
      "수학    80.0\n",
      "평균    70.0\n",
      "Name: 향단, dtype: float64\n",
      "국어    70.0\n",
      "영어    60.0\n",
      "수학    80.0\n",
      "평균    70.0\n",
      "Name: 향단, dtype: float64\n",
      "<class 'pandas.core.series.Series'>\n"
     ]
    }
   ],
   "source": [
    "data = {\n",
    "    \"국어\": [80, 90, 70, 30],\n",
    "    \"영어\": [90, 70, 60, 40],\n",
    "    \"수학\": [90, 60, 80, 70],\n",
    "}\n",
    "columns = [\"국어\", \"영어\", \"수학\"]\n",
    "index = [\"춘향\", \"몽룡\", \"향단\", \"방자\"]\n",
    "df = pd.DataFrame(data, index=index, columns=columns)\n",
    "\n",
    "# 방자의 영어값을 바꾸고 평균을 구해라\n",
    "df['영어']['방자'] = 80\n",
    "df['평균'] = ((df['국어']+df['영어']+df['수학'])/3).round(2)\n",
    "print(df)\n",
    "\n",
    "# '향단' 의 점수를 Series 형태로 출력해라 (그냥 행 slicing하면 DataFrame type임.)\n",
    "ser = pd.Series([df['국어']['향단'],df['영어']['향단'],df['수학']['향단'],df['평균']['향단']],index =['국어','영어','수학','평균'])\n",
    "ser.name = '향단'\n",
    "print(ser)\n",
    "print(df.T['향단'])\n",
    "print(type(df.T['향단']))"
   ]
  },
  {
   "cell_type": "code",
   "execution_count": 22,
   "id": "9deea10d-60cd-43d1-94c4-f7e4ee9254a2",
   "metadata": {},
   "outputs": [
    {
     "data": {
      "text/html": [
       "<div>\n",
       "<style scoped>\n",
       "    .dataframe tbody tr th:only-of-type {\n",
       "        vertical-align: middle;\n",
       "    }\n",
       "\n",
       "    .dataframe tbody tr th {\n",
       "        vertical-align: top;\n",
       "    }\n",
       "\n",
       "    .dataframe thead th {\n",
       "        text-align: right;\n",
       "    }\n",
       "</style>\n",
       "<table border=\"1\" class=\"dataframe\">\n",
       "  <thead>\n",
       "    <tr style=\"text-align: right;\">\n",
       "      <th></th>\n",
       "      <th>A</th>\n",
       "      <th>B</th>\n",
       "      <th>C</th>\n",
       "      <th>D</th>\n",
       "    </tr>\n",
       "  </thead>\n",
       "  <tbody>\n",
       "    <tr>\n",
       "      <th>2013-02-26</th>\n",
       "      <td>1.764052</td>\n",
       "      <td>0.400157</td>\n",
       "      <td>0.978738</td>\n",
       "      <td>2.240893</td>\n",
       "    </tr>\n",
       "    <tr>\n",
       "      <th>2013-02-27</th>\n",
       "      <td>1.867558</td>\n",
       "      <td>-0.977278</td>\n",
       "      <td>0.950088</td>\n",
       "      <td>-0.151357</td>\n",
       "    </tr>\n",
       "    <tr>\n",
       "      <th>2013-02-28</th>\n",
       "      <td>-0.103219</td>\n",
       "      <td>0.410599</td>\n",
       "      <td>0.144044</td>\n",
       "      <td>1.454274</td>\n",
       "    </tr>\n",
       "    <tr>\n",
       "      <th>2013-03-01</th>\n",
       "      <td>0.761038</td>\n",
       "      <td>0.121675</td>\n",
       "      <td>0.443863</td>\n",
       "      <td>0.333674</td>\n",
       "    </tr>\n",
       "    <tr>\n",
       "      <th>2013-03-02</th>\n",
       "      <td>1.494079</td>\n",
       "      <td>-0.205158</td>\n",
       "      <td>0.313068</td>\n",
       "      <td>-0.854096</td>\n",
       "    </tr>\n",
       "    <tr>\n",
       "      <th>2013-03-03</th>\n",
       "      <td>-2.552990</td>\n",
       "      <td>0.653619</td>\n",
       "      <td>0.864436</td>\n",
       "      <td>-0.742165</td>\n",
       "    </tr>\n",
       "  </tbody>\n",
       "</table>\n",
       "</div>"
      ],
      "text/plain": [
       "                   A         B         C         D\n",
       "2013-02-26  1.764052  0.400157  0.978738  2.240893\n",
       "2013-02-27  1.867558 -0.977278  0.950088 -0.151357\n",
       "2013-02-28 -0.103219  0.410599  0.144044  1.454274\n",
       "2013-03-01  0.761038  0.121675  0.443863  0.333674\n",
       "2013-03-02  1.494079 -0.205158  0.313068 -0.854096\n",
       "2013-03-03 -2.552990  0.653619  0.864436 -0.742165"
      ]
     },
     "execution_count": 22,
     "metadata": {},
     "output_type": "execute_result"
    }
   ],
   "source": [
    "import numpy as np\n",
    "np.random.seed(0)\n",
    "value = np.random.randn(6,4)\n",
    "pd.DataFrame(value,index = pd.date_range(\"20130226\",periods=6),columns =list('ABCD') )"
   ]
  },
  {
   "cell_type": "markdown",
   "id": "1618749e-884e-42a6-b1c6-2d378d50ec81",
   "metadata": {},
   "source": [
    "### Pandas 데이터 입출력\n",
    "- Pandas 는 데이터 파일을 읽어 DataFrame을 만들 수 있습니다.\n",
    "- CSV 파일 포맷은 데이터 값이 comma(,)로 구분되는 텍스트 파일입니다.\n",
    "- pandas.DataFrame.to_csv() 로 사용하며 DataFrame을 csv파일로 만든다. \n",
    "- pandas.read_csv() 로 csv파일을 읽어올 수 있다.\n",
    "- index는 쓸모없기 때문에 생략할 수 있는 인자가 있다.(index = False)\n",
    "- header가 False이면 column인덱스가 없어지고, 첫 값들이 column이 된다(header = False)\n",
    "- 불러올때 names=[컬럼인덱스들] 을 사용하여 column인덱스를 불러올때 추가가 가능하다."
   ]
  },
  {
   "cell_type": "code",
   "execution_count": 314,
   "id": "86f8f3b2-6291-4164-92be-7e286586ed53",
   "metadata": {},
   "outputs": [
    {
     "data": {
      "text/plain": [
       "c1    float64\n",
       "c2      int64\n",
       "c3      int64\n",
       "dtype: object"
      ]
     },
     "execution_count": 320,
     "metadata": {},
     "output_type": "execute_result"
    }
   ],
   "source": [
    "value_dict = {\n",
    "    'c1':[1,2,'누락'],\n",
    "    'c2': [1.11,'',3.33],\n",
    "    'c3': ['one','two','three']\n",
    "}\n",
    "df_csv = pd.DataFrame(value_dict)\n",
    "df_csv"
   ]
  },
  {
   "cell_type": "code",
   "execution_count": 59,
   "id": "59f0b7cd-628a-450a-b93e-86b3499dac05",
   "metadata": {},
   "outputs": [],
   "source": [
    "df_csv.to_csv('csv_example.csv',index=False)"
   ]
  },
  {
   "cell_type": "code",
   "execution_count": 61,
   "id": "d991d690-da21-4225-8a83-a981750384b7",
   "metadata": {},
   "outputs": [
    {
     "data": {
      "text/html": [
       "<div>\n",
       "<style scoped>\n",
       "    .dataframe tbody tr th:only-of-type {\n",
       "        vertical-align: middle;\n",
       "    }\n",
       "\n",
       "    .dataframe tbody tr th {\n",
       "        vertical-align: top;\n",
       "    }\n",
       "\n",
       "    .dataframe thead th {\n",
       "        text-align: right;\n",
       "    }\n",
       "</style>\n",
       "<table border=\"1\" class=\"dataframe\">\n",
       "  <thead>\n",
       "    <tr style=\"text-align: right;\">\n",
       "      <th></th>\n",
       "      <th>c1</th>\n",
       "      <th>c2</th>\n",
       "      <th>c3</th>\n",
       "    </tr>\n",
       "  </thead>\n",
       "  <tbody>\n",
       "    <tr>\n",
       "      <th>0</th>\n",
       "      <td>1</td>\n",
       "      <td>1.11</td>\n",
       "      <td>one</td>\n",
       "    </tr>\n",
       "    <tr>\n",
       "      <th>1</th>\n",
       "      <td>2</td>\n",
       "      <td>NaN</td>\n",
       "      <td>two</td>\n",
       "    </tr>\n",
       "    <tr>\n",
       "      <th>2</th>\n",
       "      <td>누락</td>\n",
       "      <td>3.33</td>\n",
       "      <td>three</td>\n",
       "    </tr>\n",
       "  </tbody>\n",
       "</table>\n",
       "</div>"
      ],
      "text/plain": [
       "   c1    c2     c3\n",
       "0   1  1.11    one\n",
       "1   2   NaN    two\n",
       "2  누락  3.33  three"
      ]
     },
     "execution_count": 61,
     "metadata": {},
     "output_type": "execute_result"
    }
   ],
   "source": [
    "df_read = pd.read_csv('csv_example.csv') # 불러올 떄 index가 자동으로 0,1,2로 할당됨을 볼 수 있다.\n",
    "df_read"
   ]
  },
  {
   "cell_type": "code",
   "execution_count": 71,
   "id": "56560466-898d-4d18-8d57-f3fc1daf378a",
   "metadata": {},
   "outputs": [
    {
     "data": {
      "text/html": [
       "<div>\n",
       "<style scoped>\n",
       "    .dataframe tbody tr th:only-of-type {\n",
       "        vertical-align: middle;\n",
       "    }\n",
       "\n",
       "    .dataframe tbody tr th {\n",
       "        vertical-align: top;\n",
       "    }\n",
       "\n",
       "    .dataframe thead th {\n",
       "        text-align: right;\n",
       "    }\n",
       "</style>\n",
       "<table border=\"1\" class=\"dataframe\">\n",
       "  <thead>\n",
       "    <tr style=\"text-align: right;\">\n",
       "      <th></th>\n",
       "      <th>c0</th>\n",
       "      <th>c1</th>\n",
       "      <th>c2</th>\n",
       "    </tr>\n",
       "  </thead>\n",
       "  <tbody>\n",
       "    <tr>\n",
       "      <th>0</th>\n",
       "      <td>1</td>\n",
       "      <td>1.11</td>\n",
       "      <td>one</td>\n",
       "    </tr>\n",
       "    <tr>\n",
       "      <th>1</th>\n",
       "      <td>2</td>\n",
       "      <td>NaN</td>\n",
       "      <td>two</td>\n",
       "    </tr>\n",
       "    <tr>\n",
       "      <th>2</th>\n",
       "      <td>누락</td>\n",
       "      <td>3.33</td>\n",
       "      <td>three</td>\n",
       "    </tr>\n",
       "  </tbody>\n",
       "</table>\n",
       "</div>"
      ],
      "text/plain": [
       "   c0    c1     c2\n",
       "0   1  1.11    one\n",
       "1   2   NaN    two\n",
       "2  누락  3.33  three"
      ]
     },
     "execution_count": 71,
     "metadata": {},
     "output_type": "execute_result"
    }
   ],
   "source": [
    "df_csv.to_csv('csv_example2.csv',index = False, header = False)\n",
    "pd.read_csv('csv_example2.csv',names=['c0','c1','c2'])"
   ]
  },
  {
   "cell_type": "markdown",
   "id": "a65d1e20-96f7-4177-902d-32d33a403a2c",
   "metadata": {},
   "source": [
    "### 콤마로 구분되지 않은 텍스트 파일에 대한 처리\n",
    "- 주피터 랩 매직 명령어 %%writefile 파일명   \n",
    "  을 사용하여 파일저장이 가능하다.\n",
    "- 구분자가 comma로 정해진게 아니라면  공백이 구분자인 경우에는 '\\s+' 정규식 문자열을 사용하면 된다."
   ]
  },
  {
   "cell_type": "code",
   "execution_count": 81,
   "id": "4d630bd6-7f8d-488e-89e8-05cab45a8d77",
   "metadata": {},
   "outputs": [
    {
     "name": "stdout",
     "output_type": "stream",
     "text": [
      "Overwriting sample3.txt\n"
     ]
    }
   ],
   "source": [
    "%%writefile sample3.txt\n",
    "c1        c2        c3        c4\n",
    "0.179181 -1.538472  1.347553  0.43381\n",
    "1.024209  0.087307 -1.281997  0.49265\n",
    "0.417899 -2.002308  0.255245 -1.10515"
   ]
  },
  {
   "cell_type": "code",
   "execution_count": 80,
   "id": "3c1a1245-b267-4988-ae8c-7f94af64afe2",
   "metadata": {},
   "outputs": [
    {
     "data": {
      "text/html": [
       "<div>\n",
       "<style scoped>\n",
       "    .dataframe tbody tr th:only-of-type {\n",
       "        vertical-align: middle;\n",
       "    }\n",
       "\n",
       "    .dataframe tbody tr th {\n",
       "        vertical-align: top;\n",
       "    }\n",
       "\n",
       "    .dataframe thead th {\n",
       "        text-align: right;\n",
       "    }\n",
       "</style>\n",
       "<table border=\"1\" class=\"dataframe\">\n",
       "  <thead>\n",
       "    <tr style=\"text-align: right;\">\n",
       "      <th></th>\n",
       "      <th>c1</th>\n",
       "      <th>c2</th>\n",
       "      <th>c3</th>\n",
       "      <th>c4</th>\n",
       "    </tr>\n",
       "  </thead>\n",
       "  <tbody>\n",
       "    <tr>\n",
       "      <th>0</th>\n",
       "      <td>0.179181</td>\n",
       "      <td>-1.538472</td>\n",
       "      <td>1.347553</td>\n",
       "      <td>0.43381</td>\n",
       "    </tr>\n",
       "    <tr>\n",
       "      <th>1</th>\n",
       "      <td>1.024209</td>\n",
       "      <td>0.087307</td>\n",
       "      <td>-1.281997</td>\n",
       "      <td>0.49265</td>\n",
       "    </tr>\n",
       "    <tr>\n",
       "      <th>2</th>\n",
       "      <td>0.417899</td>\n",
       "      <td>-2.002308</td>\n",
       "      <td>0.255245</td>\n",
       "      <td>-1.10515</td>\n",
       "    </tr>\n",
       "  </tbody>\n",
       "</table>\n",
       "</div>"
      ],
      "text/plain": [
       "         c1        c2        c3       c4\n",
       "0  0.179181 -1.538472  1.347553  0.43381\n",
       "1  1.024209  0.087307 -1.281997  0.49265\n",
       "2  0.417899 -2.002308  0.255245 -1.10515"
      ]
     },
     "execution_count": 80,
     "metadata": {},
     "output_type": "execute_result"
    }
   ],
   "source": [
    "pd.read_table('sample3.txt',sep='\\s+')"
   ]
  },
  {
   "cell_type": "markdown",
   "id": "2e575ce5-c4df-4143-a2ae-0b13dde3f711",
   "metadata": {},
   "source": [
    "### 파일 안을 살펴봤을때 데이터 뿐만 아니라 부과적인 설명이 있는경우의 처리\n",
    "- skiprows=[]\n",
    "- 리스트가 아닌 range를 써도 된다."
   ]
  },
  {
   "cell_type": "code",
   "execution_count": 82,
   "id": "f65993b0-f162-423d-8f8b-9a50f8473873",
   "metadata": {
    "tags": []
   },
   "outputs": [
    {
     "name": "stdout",
     "output_type": "stream",
     "text": [
      "Writing sample4.txt\n"
     ]
    }
   ],
   "source": [
    "%%writefile sample4.txt\n",
    "파일 제목: sample4.txt\n",
    "데이터 포맷의 설명: 흠..\n",
    "c1, c2, c3\n",
    "1, 1.11, one\n",
    "2, 2.22, two\n",
    "3, 3.33, three"
   ]
  },
  {
   "cell_type": "code",
   "execution_count": 86,
   "id": "3d8724a7-85ba-4f0f-8afe-1e3e889aadf1",
   "metadata": {},
   "outputs": [
    {
     "data": {
      "text/html": [
       "<div>\n",
       "<style scoped>\n",
       "    .dataframe tbody tr th:only-of-type {\n",
       "        vertical-align: middle;\n",
       "    }\n",
       "\n",
       "    .dataframe tbody tr th {\n",
       "        vertical-align: top;\n",
       "    }\n",
       "\n",
       "    .dataframe thead th {\n",
       "        text-align: right;\n",
       "    }\n",
       "</style>\n",
       "<table border=\"1\" class=\"dataframe\">\n",
       "  <thead>\n",
       "    <tr style=\"text-align: right;\">\n",
       "      <th></th>\n",
       "      <th>c1</th>\n",
       "      <th>c2</th>\n",
       "      <th>c3</th>\n",
       "    </tr>\n",
       "  </thead>\n",
       "  <tbody>\n",
       "    <tr>\n",
       "      <th>0</th>\n",
       "      <td>1</td>\n",
       "      <td>1.11</td>\n",
       "      <td>one</td>\n",
       "    </tr>\n",
       "    <tr>\n",
       "      <th>1</th>\n",
       "      <td>2</td>\n",
       "      <td>2.22</td>\n",
       "      <td>two</td>\n",
       "    </tr>\n",
       "    <tr>\n",
       "      <th>2</th>\n",
       "      <td>3</td>\n",
       "      <td>3.33</td>\n",
       "      <td>three</td>\n",
       "    </tr>\n",
       "  </tbody>\n",
       "</table>\n",
       "</div>"
      ],
      "text/plain": [
       "   c1    c2      c3\n",
       "0   1  1.11     one\n",
       "1   2  2.22     two\n",
       "2   3  3.33   three"
      ]
     },
     "execution_count": 86,
     "metadata": {},
     "output_type": "execute_result"
    }
   ],
   "source": [
    "pd.read_csv('sample4.txt',skiprows=[0,1]) #0,1번째줄은 건너뛰고 읽는다!\n",
    "pd.read_csv('sample4.txt',skiprows=range(2))"
   ]
  },
  {
   "cell_type": "markdown",
   "id": "4908029d-0ef4-48a8-926c-72d45c2c6342",
   "metadata": {},
   "source": [
    "### 데이터로 불러올 자료안의 특정값을 NaN으로 취급하고 싶은 경우\n",
    "- na_values인수에 NaN값으로 취급할 값을 넣습니다"
   ]
  },
  {
   "cell_type": "code",
   "execution_count": 89,
   "id": "b79a8b49-9308-4aaa-9634-d705afeb01c1",
   "metadata": {},
   "outputs": [
    {
     "data": {
      "text/html": [
       "<div>\n",
       "<style scoped>\n",
       "    .dataframe tbody tr th:only-of-type {\n",
       "        vertical-align: middle;\n",
       "    }\n",
       "\n",
       "    .dataframe tbody tr th {\n",
       "        vertical-align: top;\n",
       "    }\n",
       "\n",
       "    .dataframe thead th {\n",
       "        text-align: right;\n",
       "    }\n",
       "</style>\n",
       "<table border=\"1\" class=\"dataframe\">\n",
       "  <thead>\n",
       "    <tr style=\"text-align: right;\">\n",
       "      <th></th>\n",
       "      <th>c1</th>\n",
       "      <th>c2</th>\n",
       "      <th>c3</th>\n",
       "    </tr>\n",
       "  </thead>\n",
       "  <tbody>\n",
       "    <tr>\n",
       "      <th>0</th>\n",
       "      <td>1.0</td>\n",
       "      <td>1.11</td>\n",
       "      <td>one</td>\n",
       "    </tr>\n",
       "    <tr>\n",
       "      <th>1</th>\n",
       "      <td>2.0</td>\n",
       "      <td>NaN</td>\n",
       "      <td>two</td>\n",
       "    </tr>\n",
       "    <tr>\n",
       "      <th>2</th>\n",
       "      <td>NaN</td>\n",
       "      <td>3.33</td>\n",
       "      <td>three</td>\n",
       "    </tr>\n",
       "  </tbody>\n",
       "</table>\n",
       "</div>"
      ],
      "text/plain": [
       "    c1    c2     c3\n",
       "0  1.0  1.11    one\n",
       "1  2.0   NaN    two\n",
       "2  NaN  3.33  three"
      ]
     },
     "execution_count": 89,
     "metadata": {},
     "output_type": "execute_result"
    }
   ],
   "source": [
    "df_na_val = pd.read_csv('csv_example.csv',na_values=['누락'])\n",
    "df_na_val"
   ]
  },
  {
   "cell_type": "markdown",
   "id": "e5a8288c-d84a-474a-a93a-16a5f3d5b068",
   "metadata": {},
   "source": [
    "### 파일 출력시에 sep 인수로 구분자 변경 가능"
   ]
  },
  {
   "cell_type": "code",
   "execution_count": 90,
   "id": "81e337f4-a7e2-4aa1-a81e-953bb9cb42a3",
   "metadata": {},
   "outputs": [],
   "source": [
    "df_na_val.to_csv('sample5.txt',sep='|') "
   ]
  },
  {
   "cell_type": "markdown",
   "id": "330de972-0b77-43cc-b901-d111c76c7fb4",
   "metadata": {},
   "source": [
    "### Pandas 데이터 csv로 출력하기\n",
    "- 저장할때도 na_rep 키워드 인수를 사용하여 NaN 표시값을 바꿀 수 있다."
   ]
  },
  {
   "cell_type": "code",
   "execution_count": 91,
   "id": "5b78c0d7-9a88-4dc2-baed-353df501382b",
   "metadata": {},
   "outputs": [],
   "source": [
    "df_na_val.to_csv('sample6.csv',na_rep='누락')"
   ]
  },
  {
   "cell_type": "markdown",
   "id": "1a91773c-c50f-4988-8dd1-0005c59bd73e",
   "metadata": {},
   "source": [
    "### 온라인의 csv 파일 가져오기\n",
    "- read_csv 명령 사용 시 path 대신 URL을 지정하면 Pandas가 직접 해당 파일을 다운로드 하여 읽어들인다.\n",
    "- head() , tail()로 전체 파일중 부분을 가져올 수 있다."
   ]
  },
  {
   "cell_type": "code",
   "execution_count": 176,
   "id": "1fa0334e-5bdc-4979-8206-93bc88ea84c6",
   "metadata": {},
   "outputs": [
    {
     "data": {
      "text/html": [
       "<div>\n",
       "<style scoped>\n",
       "    .dataframe tbody tr th:only-of-type {\n",
       "        vertical-align: middle;\n",
       "    }\n",
       "\n",
       "    .dataframe tbody tr th {\n",
       "        vertical-align: top;\n",
       "    }\n",
       "\n",
       "    .dataframe thead th {\n",
       "        text-align: right;\n",
       "    }\n",
       "</style>\n",
       "<table border=\"1\" class=\"dataframe\">\n",
       "  <thead>\n",
       "    <tr style=\"text-align: right;\">\n",
       "      <th></th>\n",
       "      <th>survived</th>\n",
       "      <th>sex</th>\n",
       "      <th>age</th>\n",
       "      <th>n_siblings_spouses</th>\n",
       "      <th>parch</th>\n",
       "      <th>fare</th>\n",
       "      <th>class</th>\n",
       "      <th>deck</th>\n",
       "      <th>embark_town</th>\n",
       "      <th>alone</th>\n",
       "    </tr>\n",
       "  </thead>\n",
       "  <tbody>\n",
       "    <tr>\n",
       "      <th>0</th>\n",
       "      <td>0</td>\n",
       "      <td>male</td>\n",
       "      <td>22.0</td>\n",
       "      <td>1</td>\n",
       "      <td>0</td>\n",
       "      <td>7.2500</td>\n",
       "      <td>Third</td>\n",
       "      <td>unknown</td>\n",
       "      <td>Southampton</td>\n",
       "      <td>n</td>\n",
       "    </tr>\n",
       "    <tr>\n",
       "      <th>1</th>\n",
       "      <td>1</td>\n",
       "      <td>female</td>\n",
       "      <td>38.0</td>\n",
       "      <td>1</td>\n",
       "      <td>0</td>\n",
       "      <td>71.2833</td>\n",
       "      <td>First</td>\n",
       "      <td>C</td>\n",
       "      <td>Cherbourg</td>\n",
       "      <td>n</td>\n",
       "    </tr>\n",
       "    <tr>\n",
       "      <th>2</th>\n",
       "      <td>1</td>\n",
       "      <td>female</td>\n",
       "      <td>26.0</td>\n",
       "      <td>0</td>\n",
       "      <td>0</td>\n",
       "      <td>7.9250</td>\n",
       "      <td>Third</td>\n",
       "      <td>unknown</td>\n",
       "      <td>Southampton</td>\n",
       "      <td>y</td>\n",
       "    </tr>\n",
       "    <tr>\n",
       "      <th>3</th>\n",
       "      <td>1</td>\n",
       "      <td>female</td>\n",
       "      <td>35.0</td>\n",
       "      <td>1</td>\n",
       "      <td>0</td>\n",
       "      <td>53.1000</td>\n",
       "      <td>First</td>\n",
       "      <td>C</td>\n",
       "      <td>Southampton</td>\n",
       "      <td>n</td>\n",
       "    </tr>\n",
       "    <tr>\n",
       "      <th>4</th>\n",
       "      <td>0</td>\n",
       "      <td>male</td>\n",
       "      <td>28.0</td>\n",
       "      <td>0</td>\n",
       "      <td>0</td>\n",
       "      <td>8.4583</td>\n",
       "      <td>Third</td>\n",
       "      <td>unknown</td>\n",
       "      <td>Queenstown</td>\n",
       "      <td>y</td>\n",
       "    </tr>\n",
       "  </tbody>\n",
       "</table>\n",
       "</div>"
      ],
      "text/plain": [
       "   survived     sex   age  n_siblings_spouses  parch     fare  class     deck  \\\n",
       "0         0    male  22.0                   1      0   7.2500  Third  unknown   \n",
       "1         1  female  38.0                   1      0  71.2833  First        C   \n",
       "2         1  female  26.0                   0      0   7.9250  Third  unknown   \n",
       "3         1  female  35.0                   1      0  53.1000  First        C   \n",
       "4         0    male  28.0                   0      0   8.4583  Third  unknown   \n",
       "\n",
       "   embark_town alone  \n",
       "0  Southampton     n  \n",
       "1    Cherbourg     n  \n",
       "2  Southampton     y  \n",
       "3  Southampton     n  \n",
       "4   Queenstown     y  "
      ]
     },
     "execution_count": 176,
     "metadata": {},
     "output_type": "execute_result"
    }
   ],
   "source": [
    "titanic = pd.read_csv('https://storage.googleapis.com/tf-datasets/titanic/train.csv')\n",
    "titanic.head(5)"
   ]
  },
  {
   "cell_type": "markdown",
   "id": "f8fb2462-f66b-4740-8219-ef69769a045b",
   "metadata": {},
   "source": [
    "# DataFrame 고급 인덱싱\n",
    "- Pandas에서 2차원 인덱싱을 지원을 하기 위한 추가적인 인덱서 속성\n",
    "- loc = label 값 기반의 2차원 인덱싱중 row 에 대한 Series 추출에 사용\n",
    "    - row인덱싱 값은 정수 또는 row index 데이터이고,\n",
    "      column 인덱싱 값은 label 문자열이다.\n",
    "- loc인덱서의 인덱싱 값은 다음 중 하나이다.\n",
    "    - index 데이터\n",
    "    - index 데이터 슬라이스\n",
    "    - index 데이터 리스트\n",
    "    - 같은 row인덱스를 가지는 boolean Series\n",
    "    - 또는 위의 값들을 반환하는 함수\n",
    "- loc 인덱서는 column에 대한 label 인덱싱이나 label 리스트 인 덱싱은 불가능하다\n",
    "- iloc = 순서를 나타내는 정수 기반의 2차원 인덱싱."
   ]
  },
  {
   "cell_type": "code",
   "execution_count": 146,
   "id": "77523473-c97f-45c0-b60d-74cc6ab79de6",
   "metadata": {},
   "outputs": [
    {
     "name": "stdout",
     "output_type": "stream",
     "text": [
      "    A   B   C   D\n",
      "a  10  11  12  13\n",
      "b  14  15  16  17\n",
      "c  18  19  20  21\n",
      "\n",
      "A    10\n",
      "B    11\n",
      "C    12\n",
      "D    13\n",
      "Name: a, dtype: int32\n",
      "    A   B   C   D\n",
      "b  14  15  16  17\n",
      "c  18  19  20  21\n",
      "\n",
      "a    False\n",
      "b    False\n",
      "c     True\n",
      "Name: A, dtype: bool\n",
      "    A   B   C   D\n",
      "c  18  19  20  21\n"
     ]
    }
   ],
   "source": [
    "v = np.arange(10,22).reshape(3,4)\n",
    "DF = pd.DataFrame(v,index=list('abc'),columns=list('ABCD'))\n",
    "print(DF,end='\\n\\n')\n",
    "print(DF.loc['a'])  # row 데이터를 가져와도 Series형태이다.\n",
    "print(DF.loc['b':'c'],end='\\n\\n' ) # =  DF['b':'c'] ,여러개 가져올 때는 동일하게 DataFrame형태임.\n",
    "print(DF.A>15) # 영문자 column에만 가능하다. series형태 를 비교연산하여 booltype Series 출력\n",
    "print(DF[DF.A>15]) # boolean Series로 row 기준 인덱싱한 예제."
   ]
  },
  {
   "cell_type": "markdown",
   "id": "6620c2a3-f96c-419f-a914-1fae7f888f9d",
   "metadata": {},
   "source": [
    "### loc과 iloc의 차이\n",
    "- 슬라이싱 할 때 마지막 값을 loc은 포함하고, iloc은 포함하지 않는다.\n",
    "- loc은 label을 바라보고 접근하는 방식이고,\n",
    "- iloc은 int로 된 index를 바라보고 접근하는 방식이기 때문에 차이가 발생한다."
   ]
  },
  {
   "cell_type": "code",
   "execution_count": 149,
   "id": "11ae8efc-23bf-4e3a-b73e-33a02116643a",
   "metadata": {},
   "outputs": [
    {
     "name": "stdout",
     "output_type": "stream",
     "text": [
      "    A   B   C   D\n",
      "0  10  11  12  13\n",
      "1  14  15  16  17\n",
      "2  18  19  20  21\n",
      "3  22  23  24  25\n"
     ]
    },
    {
     "data": {
      "text/html": [
       "<div>\n",
       "<style scoped>\n",
       "    .dataframe tbody tr th:only-of-type {\n",
       "        vertical-align: middle;\n",
       "    }\n",
       "\n",
       "    .dataframe tbody tr th {\n",
       "        vertical-align: top;\n",
       "    }\n",
       "\n",
       "    .dataframe thead th {\n",
       "        text-align: right;\n",
       "    }\n",
       "</style>\n",
       "<table border=\"1\" class=\"dataframe\">\n",
       "  <thead>\n",
       "    <tr style=\"text-align: right;\">\n",
       "      <th></th>\n",
       "      <th>A</th>\n",
       "      <th>B</th>\n",
       "      <th>C</th>\n",
       "      <th>D</th>\n",
       "    </tr>\n",
       "  </thead>\n",
       "  <tbody>\n",
       "    <tr>\n",
       "      <th>1</th>\n",
       "      <td>14</td>\n",
       "      <td>15</td>\n",
       "      <td>16</td>\n",
       "      <td>17</td>\n",
       "    </tr>\n",
       "    <tr>\n",
       "      <th>2</th>\n",
       "      <td>18</td>\n",
       "      <td>19</td>\n",
       "      <td>20</td>\n",
       "      <td>21</td>\n",
       "    </tr>\n",
       "  </tbody>\n",
       "</table>\n",
       "</div>"
      ],
      "text/plain": [
       "    A   B   C   D\n",
       "1  14  15  16  17\n",
       "2  18  19  20  21"
      ]
     },
     "execution_count": 149,
     "metadata": {},
     "output_type": "execute_result"
    }
   ],
   "source": [
    "df2 = pd.DataFrame(np.arange(10,26).reshape(4,4),columns = list('ABCD'))\n",
    "print(df2)\n",
    "df2.loc[1:2]"
   ]
  },
  {
   "attachments": {
    "c1ca04cf-05bb-4d6a-874f-ae9aab6a84d8.png": {
     "image/png": "[encoded data removed]"
    }
   },
   "cell_type": "markdown",
   "id": "99568667-1f1e-4127-863f-df0b075f5686",
   "metadata": {},
   "source": [
    "![image.png](attachment:c1ca04cf-05bb-4d6a-874f-ae9aab6a84d8.png)"
   ]
  },
  {
   "cell_type": "markdown",
   "id": "8f441e27-b5eb-476e-aaa7-53db0492d118",
   "metadata": {},
   "source": [
    "### 인덱싱 값을 row와 column모두 받으려면\n",
    "- DF.loc[ row인덱스 , column인덱스 ]와 같은 형태로 사용한다."
   ]
  },
  {
   "cell_type": "code",
   "execution_count": 156,
   "id": "840d0c8a-7773-4457-b3a3-e37c211532d5",
   "metadata": {},
   "outputs": [
    {
     "name": "stdout",
     "output_type": "stream",
     "text": [
      "10\n"
     ]
    },
    {
     "data": {
      "text/plain": [
       "10"
      ]
     },
     "execution_count": 156,
     "metadata": {},
     "output_type": "execute_result"
    }
   ],
   "source": [
    "print(DF['A']['a']) #접근순서의 차이가 발생할 뿐 둘은 같은 결과를 보여준다.\n",
    "DF.loc['a','A']"
   ]
  },
  {
   "cell_type": "code",
   "execution_count": 160,
   "id": "f7608787-3ec8-42f6-9753-ee3da2030fa5",
   "metadata": {},
   "outputs": [
    {
     "name": "stdout",
     "output_type": "stream",
     "text": [
      "    B   D\n",
      "a  11  13\n",
      "b  15  17\n"
     ]
    },
    {
     "data": {
      "text/html": [
       "<div>\n",
       "<style scoped>\n",
       "    .dataframe tbody tr th:only-of-type {\n",
       "        vertical-align: middle;\n",
       "    }\n",
       "\n",
       "    .dataframe tbody tr th {\n",
       "        vertical-align: top;\n",
       "    }\n",
       "\n",
       "    .dataframe thead th {\n",
       "        text-align: right;\n",
       "    }\n",
       "</style>\n",
       "<table border=\"1\" class=\"dataframe\">\n",
       "  <thead>\n",
       "    <tr style=\"text-align: right;\">\n",
       "      <th></th>\n",
       "      <th>B</th>\n",
       "      <th>D</th>\n",
       "    </tr>\n",
       "  </thead>\n",
       "  <tbody>\n",
       "    <tr>\n",
       "      <th>a</th>\n",
       "      <td>11</td>\n",
       "      <td>13</td>\n",
       "    </tr>\n",
       "    <tr>\n",
       "      <th>b</th>\n",
       "      <td>15</td>\n",
       "      <td>17</td>\n",
       "    </tr>\n",
       "  </tbody>\n",
       "</table>\n",
       "</div>"
      ],
      "text/plain": [
       "    B   D\n",
       "a  11  13\n",
       "b  15  17"
      ]
     },
     "execution_count": 160,
     "metadata": {},
     "output_type": "execute_result"
    }
   ],
   "source": [
    "print(DF.loc['a':'b','B':\"D\":2])\n",
    "DF.loc[['a','b'],['B','D']]"
   ]
  },
  {
   "cell_type": "code",
   "execution_count": 163,
   "id": "078e5f75-907a-46ea-8f7c-1b5d4b45d956",
   "metadata": {},
   "outputs": [
    {
     "data": {
      "text/html": [
       "<div>\n",
       "<style scoped>\n",
       "    .dataframe tbody tr th:only-of-type {\n",
       "        vertical-align: middle;\n",
       "    }\n",
       "\n",
       "    .dataframe tbody tr th {\n",
       "        vertical-align: top;\n",
       "    }\n",
       "\n",
       "    .dataframe thead th {\n",
       "        text-align: right;\n",
       "    }\n",
       "</style>\n",
       "<table border=\"1\" class=\"dataframe\">\n",
       "  <thead>\n",
       "    <tr style=\"text-align: right;\">\n",
       "      <th></th>\n",
       "      <th>C</th>\n",
       "      <th>B</th>\n",
       "    </tr>\n",
       "  </thead>\n",
       "  <tbody>\n",
       "    <tr>\n",
       "      <th>b</th>\n",
       "      <td>16</td>\n",
       "      <td>15</td>\n",
       "    </tr>\n",
       "    <tr>\n",
       "      <th>c</th>\n",
       "      <td>20</td>\n",
       "      <td>19</td>\n",
       "    </tr>\n",
       "  </tbody>\n",
       "</table>\n",
       "</div>"
      ],
      "text/plain": [
       "    C   B\n",
       "b  16  15\n",
       "c  20  19"
      ]
     },
     "execution_count": 163,
     "metadata": {},
     "output_type": "execute_result"
    }
   ],
   "source": [
    "DF.loc[DF.A>10,[\"C\",'B']]"
   ]
  },
  {
   "cell_type": "markdown",
   "id": "bc621a8b-3120-4fb5-9b06-c75f33e92e28",
   "metadata": {},
   "source": [
    "## iloc 인덱서\n",
    "- loc과 다른건 다 똑같고 표현하는 방식과 범위만 다르다\n",
    "- 인덱스가 하나만 들어가면 행을 선택한다."
   ]
  },
  {
   "cell_type": "code",
   "execution_count": 167,
   "id": "be528124-b997-4f0b-8356-19717f999be2",
   "metadata": {},
   "outputs": [
    {
     "name": "stdout",
     "output_type": "stream",
     "text": [
      "11\n",
      "A    18\n",
      "B    19\n",
      "C    20\n",
      "D    21\n",
      "Name: c, dtype: int32\n"
     ]
    },
    {
     "data": {
      "text/html": [
       "<div>\n",
       "<style scoped>\n",
       "    .dataframe tbody tr th:only-of-type {\n",
       "        vertical-align: middle;\n",
       "    }\n",
       "\n",
       "    .dataframe tbody tr th {\n",
       "        vertical-align: top;\n",
       "    }\n",
       "\n",
       "    .dataframe thead th {\n",
       "        text-align: right;\n",
       "    }\n",
       "</style>\n",
       "<table border=\"1\" class=\"dataframe\">\n",
       "  <thead>\n",
       "    <tr style=\"text-align: right;\">\n",
       "      <th></th>\n",
       "      <th>A</th>\n",
       "      <th>B</th>\n",
       "      <th>C</th>\n",
       "      <th>D</th>\n",
       "    </tr>\n",
       "  </thead>\n",
       "  <tbody>\n",
       "    <tr>\n",
       "      <th>a</th>\n",
       "      <td>10</td>\n",
       "      <td>11</td>\n",
       "      <td>12</td>\n",
       "      <td>13</td>\n",
       "    </tr>\n",
       "    <tr>\n",
       "      <th>b</th>\n",
       "      <td>14</td>\n",
       "      <td>15</td>\n",
       "      <td>16</td>\n",
       "      <td>17</td>\n",
       "    </tr>\n",
       "    <tr>\n",
       "      <th>c</th>\n",
       "      <td>36</td>\n",
       "      <td>38</td>\n",
       "      <td>40</td>\n",
       "      <td>42</td>\n",
       "    </tr>\n",
       "  </tbody>\n",
       "</table>\n",
       "</div>"
      ],
      "text/plain": [
       "    A   B   C   D\n",
       "a  10  11  12  13\n",
       "b  14  15  16  17\n",
       "c  36  38  40  42"
      ]
     },
     "execution_count": 167,
     "metadata": {},
     "output_type": "execute_result"
    }
   ],
   "source": [
    "print(DF.iloc[0,1])\n",
    "print(DF.iloc[-1])\n",
    "DF.iloc[-1] = DF.iloc[-1]*2\n",
    "DF\n"
   ]
  }
 ],
 "metadata": {
  "kernelspec": {
   "display_name": "Python 3 (ipykernel)",
   "language": "python",
   "name": "python3"
  },
  "language_info": {
   "codemirror_mode": {
    "name": "ipython",
    "version": 3
   },
   "file_extension": ".py",
   "mimetype": "text/x-python",
   "name": "python",
   "nbconvert_exporter": "python",
   "pygments_lexer": "ipython3",
   "version": "3.9.13"
  }
 },
 "nbformat": 4,
 "nbformat_minor": 5
}
