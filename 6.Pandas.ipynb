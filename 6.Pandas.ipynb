{
 "cells": [
  {
   "cell_type": "markdown",
   "id": "69a439b9-694b-404d-9595-0192462e6f33",
   "metadata": {},
   "source": [
    "### Pandas = Panel Datas \n",
    "= Series나 table 형태로 데이터를 나타낼 수 있다. 이러한 데이터를 다루기 위한 클래스를 제공하는 패키지  \n",
    "### Series class\n",
    "= NumPy에서 제공하는 1차원 배열과 그 모양이 비슷하다. 하지만 배열과 다르게 index를 추가하여 index 와 value를 가지는 배열을 말한다.  \n",
    "- Series 객체 생성시 첫 인수로 data, 두 번째 인수로 idnex를 넣는다. \n",
    "- data값으로 iterable,배열,scalar value, dict(key와 index를 동일하게 사용하거나 생략)를 사용할 수 있다. \n",
    "- index는 data와 length가 동일해야한다.\n",
    "- index는 hashable한 type만 올 수 있다."
   ]
  },
  {
   "cell_type": "code",
   "execution_count": 5,
   "id": "fcb99e4b-53d4-41c4-8ed5-0879357462fb",
   "metadata": {},
   "outputs": [
    {
     "name": "stdout",
     "output_type": "stream",
     "text": [
      "1       one\n",
      "2       two\n",
      "3     three\n",
      "4      four\n",
      "5      five\n",
      "6       six\n",
      "7     seven\n",
      "8     eight\n",
      "9      nine\n",
      "10      ten\n",
      "dtype: object\n"
     ]
    }
   ],
   "source": [
    "import pandas as pd\n",
    "series = pd.Series(['one','two','three',\"four\",\"five\",\"six\",\"seven\",'eight','nine','ten'],index=range(1,11))\n",
    "print(series)"
   ]
  },
  {
   "cell_type": "code",
   "execution_count": 12,
   "id": "26efb879-c8b8-4835-80cb-7cbbf7b22da5",
   "metadata": {},
   "outputs": [
    {
     "name": "stdout",
     "output_type": "stream",
     "text": [
      "서울    9904312\n",
      "부산    3448737\n",
      "인천    2890451\n",
      "대구    2466052\n",
      "dtype: int64\n",
      "\n",
      "Index(['서울', '부산', '인천', '대구'], dtype='object')\n",
      "[9904312 3448737 2890451 2466052]\n",
      "\n",
      "도시\n",
      "서울    9904312\n",
      "부산    3448737\n",
      "인천    2890451\n",
      "대구    2466052\n",
      "Name: 인구, dtype: int64\n"
     ]
    }
   ],
   "source": [
    "s = pd.Series([9_904_312, 3_448_737, 2_890_451, 2_466_052],\n",
    "              index=[\"서울\", \"부산\", \"인천\", \"대구\"])\n",
    "print(s,end=\"\\n\\n\")\n",
    "print(s.index)\n",
    "print(s.values,end='\\n\\n')\n",
    "s.name = \"인구\"\n",
    "s.index.name = \"도시\"\n",
    "print(s)"
   ]
  },
  {
   "cell_type": "markdown",
   "id": "e50aeb70-ce32-45f0-9315-a81a72dc0c67",
   "metadata": {},
   "source": [
    "### dict로 Series생성하기"
   ]
  },
  {
   "cell_type": "code",
   "execution_count": 19,
   "id": "2a4edc7b-febf-4457-9dd8-2652a3393218",
   "metadata": {},
   "outputs": [
    {
     "name": "stdout",
     "output_type": "stream",
     "text": [
      "a    1\n",
      "b    2\n",
      "c    3\n",
      "dtype: int64\n",
      "x   NaN\n",
      "y   NaN\n",
      "z   NaN\n",
      "dtype: float64\n"
     ]
    }
   ],
   "source": [
    "d = {'a':1,'b':2,'c':3}\n",
    "ser = pd.Series(d) # 또는 ser = pd.Series(data=d,index=d.keys())\n",
    "print(ser)\n",
    "ser = pd.Series(data=d,index=['x','y','z']) \n",
    "# index로 주어진 값의 key값에 대응하는 value값을 주기 때문에 없는값이라서 NaN을 넣어준다.\n",
    "print(ser)"
   ]
  },
  {
   "cell_type": "markdown",
   "id": "01c7e0a5-7d73-4e9b-b25b-7414fe455304",
   "metadata": {},
   "source": [
    "### Series index를 속성처럼 활용하기\n",
    "- index 값이 영문 문자열인 경우에는 index label이 속성인것처럼 마침표(.)를 활용하여 해당 index값에 접근 가능"
   ]
  },
  {
   "cell_type": "code",
   "execution_count": 33,
   "id": "9c563856-364f-4fb5-bd38-b6b17393fe48",
   "metadata": {},
   "outputs": [
    {
     "data": {
      "text/plain": [
       "nan"
      ]
     },
     "execution_count": 33,
     "metadata": {},
     "output_type": "execute_result"
    }
   ],
   "source": [
    "ser.x"
   ]
  },
  {
   "cell_type": "markdown",
   "id": "37dfa0a0-a4db-40f8-b75b-f845f763ff58",
   "metadata": {},
   "source": [
    "### Series의 특징\n",
    "- 딕셔너리 자료형과 비슷한 특징을 가짐\n",
    "- in연산가능\n",
    "- items()메서드를 사용해 각 요소의 key,value에 접근 가능\n",
    "- 딕셔너리의 원소는 순서를 가지지 않으므로 시리즈의 데이터도 순서가 보장되지 않는다. \n",
    "  만약 순서를 가지도록 하기 위해서는 Series선언시에 index에서 리스트로 순서를 지정해주어야한다."
   ]
  },
  {
   "cell_type": "code",
   "execution_count": 38,
   "id": "3bf51c02-3e0d-4e75-a416-8f9a6ac9e2eb",
   "metadata": {},
   "outputs": [
    {
     "name": "stdout",
     "output_type": "stream",
     "text": [
      "True\n",
      "False\n",
      "서울 : 9904312\n",
      "부산 : 3448737\n",
      "인천 : 2890451\n",
      "대구 : 2466052\n"
     ]
    }
   ],
   "source": [
    "print(\"서울\" in s)\n",
    "print(\"대전\" in s)\n",
    "for k,v in s.items():\n",
    "    print(k,\":\",v)"
   ]
  },
  {
   "cell_type": "markdown",
   "id": "63587c75-dc41-40bb-8916-b2e28c1b9b08",
   "metadata": {},
   "source": [
    "### indexing + slicing"
   ]
  },
  {
   "cell_type": "code",
   "execution_count": 39,
   "id": "6e2682d1-c5a4-478d-a869-efd7d4bccbd0",
   "metadata": {},
   "outputs": [
    {
     "name": "stdout",
     "output_type": "stream",
     "text": [
      "9904312 3448737 2890451\n",
      "\n",
      "도시\n",
      "서울    9904312\n",
      "대구    2466052\n",
      "부산    3448737\n",
      "Name: 인구, dtype: int64\n",
      "\n",
      "도시\n",
      "부산    3448737\n",
      "Name: 인구, dtype: int64\n",
      "\n",
      "도시\n",
      "부산    3448737\n",
      "인천    2890451\n",
      "대구    2466052\n",
      "Name: 인구, dtype: int64\n",
      "\n",
      "도시\n",
      "부산    3448737\n",
      "인천    2890451\n",
      "Name: 인구, dtype: int64\n",
      "\n"
     ]
    }
   ],
   "source": [
    "print(s[0], s[1], s['인천'],end=\"\\n\\n\")\n",
    "print(s[[0,3,1]],end=\"\\n\\n\")\n",
    "print(s[1:2],end=\"\\n\\n\") # 끝값 [2]포함하지 않는다.\n",
    "print(s['부산':'대구'],end=\"\\n\\n\") # 끝값(대구)도 포함한다.\n",
    "print(s[(250e4 < s) & (s < 500e4)],end=\"\\n\\n\")  # 인구가 250만 초과, 500만 미만인 경우"
   ]
  },
  {
   "cell_type": "markdown",
   "id": "6a10977c-7bee-4534-a108-74b6b66ec1ae",
   "metadata": {},
   "source": [
    "### 시리즈 연산\n",
    "\n",
    "- 다만 values에만 연산이 적용되고 index는 변하지 않는다.\n",
    "- 시리즈끼리 연산을 하는 경우 인덱스가 같은 데이터에 대해서만 차이를 구한다.\n"
   ]
  },
  {
   "cell_type": "code",
   "execution_count": 58,
   "id": "7f7e130d-c0e9-4e37-9df9-ac71fb472ba0",
   "metadata": {},
   "outputs": [
    {
     "name": "stdout",
     "output_type": "stream",
     "text": [
      "도시\n",
      "서울    990.4312\n",
      "부산    344.8737\n",
      "인천    289.0451\n",
      "대구    246.6052\n",
      "Name: 인구, dtype: float64\n",
      "\n",
      "대구          NaN\n",
      "대전          NaN\n",
      "부산    3393191.0\n",
      "서울    9631482.0\n",
      "인천    2632035.0\n",
      "dtype: float64\n",
      "\n",
      "대구    False\n",
      "대전    False\n",
      "부산     True\n",
      "서울     True\n",
      "인천     True\n",
      "dtype: bool\n",
      "\n",
      "부산    3393191.0\n",
      "서울    9631482.0\n",
      "인천    2632035.0\n",
      "dtype: float64\n",
      "\n"
     ]
    }
   ],
   "source": [
    "print(s/10000,end ='\\n\\n')\n",
    "sd = pd.Series([55546,272830,258416,1490158],index = ['부산','서울','인천','대전'])\n",
    "ds = s-sd\n",
    "print(ds,end ='\\n\\n')\n",
    "print(ds.notnull(),end ='\\n\\n') # NaN값에 대한 여부를 확인가능\n",
    "print(ds[ds.notnull()],end ='\\n\\n')#notnull()응용\n",
    "# NaN 값을 갖기 위해선 자료형이 float형이어야 해서 int끼리 연산해도 float형으로 저장된다."
   ]
  },
  {
   "cell_type": "code",
   "execution_count": 59,
   "id": "698ad619-9385-4216-af49-efcb1eaf4e7e",
   "metadata": {},
   "outputs": [
    {
     "name": "stdout",
     "output_type": "stream",
     "text": [
      "대구          NaN\n",
      "대전          NaN\n",
      "부산    3393191.0\n",
      "서울    9631482.0\n",
      "인천    2632035.0\n",
      "dtype: float64\n",
      "부산          0.0\n",
      "서울    9631482.0\n",
      "인천    2632035.0\n",
      "dtype: float64\n"
     ]
    }
   ],
   "source": [
    "print(ds)\n",
    "del ds['대구']\n",
    "del ds['대전']\n",
    "ds['부산'] = 0\n",
    "print(ds)"
   ]
  },
  {
   "cell_type": "code",
   "execution_count": null,
   "id": "65c15334-1cd3-4f08-aae3-5ceb326e4e59",
   "metadata": {},
   "outputs": [],
   "source": []
  },
  {
   "cell_type": "code",
   "execution_count": null,
   "id": "2a9de9f6-5c8a-49e2-b21c-96f8be6fa7b1",
   "metadata": {},
   "outputs": [],
   "source": []
  },
  {
   "cell_type": "code",
   "execution_count": null,
   "id": "a4c1c1b2-e1ef-42f1-a9dc-088e39a5b08d",
   "metadata": {},
   "outputs": [],
   "source": []
  },
  {
   "cell_type": "code",
   "execution_count": null,
   "id": "059cace1-eb4a-464c-9d51-91f01e367322",
   "metadata": {},
   "outputs": [],
   "source": []
  },
  {
   "cell_type": "code",
   "execution_count": null,
   "id": "16bc8e85-09a1-4682-b9a1-e13d81d5c49d",
   "metadata": {},
   "outputs": [],
   "source": []
  },
  {
   "cell_type": "code",
   "execution_count": null,
   "id": "4c722631-6480-4af6-8ef7-d86810a760ea",
   "metadata": {},
   "outputs": [],
   "source": []
  },
  {
   "cell_type": "code",
   "execution_count": null,
   "id": "5ce552ca-6d8a-470b-b4b9-42e055532062",
   "metadata": {},
   "outputs": [],
   "source": []
  },
  {
   "cell_type": "code",
   "execution_count": null,
   "id": "1ddf4cfc-3f68-4c02-8aaa-e4085cc58c09",
   "metadata": {},
   "outputs": [],
   "source": []
  },
  {
   "cell_type": "code",
   "execution_count": null,
   "id": "a101080a-9856-491d-a979-c35b978b42ca",
   "metadata": {},
   "outputs": [],
   "source": []
  },
  {
   "cell_type": "code",
   "execution_count": null,
   "id": "d637d084-40b6-49ea-9026-3508fb0d750b",
   "metadata": {},
   "outputs": [],
   "source": []
  },
  {
   "cell_type": "code",
   "execution_count": null,
   "id": "f41aa09f-c854-4fe2-91f9-5371a6889375",
   "metadata": {},
   "outputs": [],
   "source": []
  },
  {
   "cell_type": "code",
   "execution_count": null,
   "id": "cb54635b-d444-4554-97f7-c37d0b8d9202",
   "metadata": {},
   "outputs": [],
   "source": []
  },
  {
   "cell_type": "code",
   "execution_count": null,
   "id": "7014f43e-b1f5-4b71-868d-fc8333ee8520",
   "metadata": {},
   "outputs": [],
   "source": []
  },
  {
   "cell_type": "code",
   "execution_count": null,
   "id": "3f109b7a-8894-4fa8-9889-4084e7869cf7",
   "metadata": {},
   "outputs": [],
   "source": []
  },
  {
   "cell_type": "code",
   "execution_count": null,
   "id": "344a8128-6455-42bf-87e8-682d96579f4f",
   "metadata": {},
   "outputs": [],
   "source": []
  },
  {
   "cell_type": "code",
   "execution_count": null,
   "id": "d4ba2ee0-9568-45c8-9048-6fa77cf57431",
   "metadata": {},
   "outputs": [],
   "source": []
  },
  {
   "cell_type": "code",
   "execution_count": null,
   "id": "5129d4aa-4337-4d52-bf65-895a80599af2",
   "metadata": {},
   "outputs": [],
   "source": []
  },
  {
   "cell_type": "code",
   "execution_count": null,
   "id": "60ee9ac0-4631-414e-9402-e3bffa81a277",
   "metadata": {},
   "outputs": [],
   "source": []
  },
  {
   "cell_type": "code",
   "execution_count": null,
   "id": "a414c895-1dae-4b8f-9995-11c2394b5c99",
   "metadata": {},
   "outputs": [],
   "source": []
  },
  {
   "cell_type": "code",
   "execution_count": null,
   "id": "8c3fcb0b-180c-4bab-afd7-ed6c364ee881",
   "metadata": {},
   "outputs": [],
   "source": []
  },
  {
   "cell_type": "code",
   "execution_count": null,
   "id": "9deea10d-60cd-43d1-94c4-f7e4ee9254a2",
   "metadata": {},
   "outputs": [],
   "source": []
  },
  {
   "cell_type": "code",
   "execution_count": null,
   "id": "61483076-bdf3-46a9-a46c-db8a06c205a6",
   "metadata": {},
   "outputs": [],
   "source": []
  },
  {
   "cell_type": "code",
   "execution_count": null,
   "id": "9844aaf9-674a-4379-b47c-3d6ee58dfec3",
   "metadata": {},
   "outputs": [],
   "source": []
  },
  {
   "cell_type": "code",
   "execution_count": null,
   "id": "a637a682-d9c6-4da1-9f0f-f3c9dc262b63",
   "metadata": {},
   "outputs": [],
   "source": []
  },
  {
   "cell_type": "code",
   "execution_count": null,
   "id": "dab0b3db-3c7d-4e04-acb2-c8367a80e6e0",
   "metadata": {},
   "outputs": [],
   "source": []
  },
  {
   "cell_type": "code",
   "execution_count": null,
   "id": "8ddc2c43-3dca-4af0-b95d-cc55b1283380",
   "metadata": {},
   "outputs": [],
   "source": []
  },
  {
   "cell_type": "code",
   "execution_count": null,
   "id": "1d04f337-1d74-4068-ae59-8d57c9e84d1f",
   "metadata": {},
   "outputs": [],
   "source": []
  },
  {
   "cell_type": "code",
   "execution_count": null,
   "id": "42c42315-b26e-485b-b798-efcb3f2fbccb",
   "metadata": {},
   "outputs": [],
   "source": []
  },
  {
   "cell_type": "code",
   "execution_count": null,
   "id": "acf9482f-e21c-418a-81d3-fb9b416cc575",
   "metadata": {},
   "outputs": [],
   "source": []
  },
  {
   "cell_type": "code",
   "execution_count": null,
   "id": "87371e52-d849-4bd7-a0f2-6555d4613b55",
   "metadata": {},
   "outputs": [],
   "source": []
  },
  {
   "cell_type": "code",
   "execution_count": null,
   "id": "a686ce75-c2e2-4b7c-b684-3686db935582",
   "metadata": {},
   "outputs": [],
   "source": []
  },
  {
   "cell_type": "code",
   "execution_count": null,
   "id": "be0107b8-8b4d-4026-aa10-a6cb4ee467dd",
   "metadata": {},
   "outputs": [],
   "source": []
  },
  {
   "cell_type": "code",
   "execution_count": null,
   "id": "8275f4ad-2b6b-47e8-8e80-2a57dc830222",
   "metadata": {},
   "outputs": [],
   "source": []
  },
  {
   "cell_type": "code",
   "execution_count": null,
   "id": "ceb87f5a-f99e-41d5-9702-8d5cd88a81d4",
   "metadata": {},
   "outputs": [],
   "source": []
  },
  {
   "cell_type": "code",
   "execution_count": null,
   "id": "5ce73f77-a661-44ae-a69c-aee2b9fe00df",
   "metadata": {},
   "outputs": [],
   "source": []
  },
  {
   "cell_type": "code",
   "execution_count": null,
   "id": "dd654bb3-4d09-4927-a5cd-aa483a18fdf6",
   "metadata": {},
   "outputs": [],
   "source": []
  },
  {
   "cell_type": "code",
   "execution_count": null,
   "id": "cc303a35-f208-4613-9d1a-b2cf4522f530",
   "metadata": {},
   "outputs": [],
   "source": []
  },
  {
   "cell_type": "code",
   "execution_count": null,
   "id": "ed3b8baa-c9ac-4c83-bcf8-43267c23261f",
   "metadata": {},
   "outputs": [],
   "source": []
  },
  {
   "cell_type": "code",
   "execution_count": null,
   "id": "03718b98-7d81-4423-aa56-70ac16c6d4fc",
   "metadata": {},
   "outputs": [],
   "source": []
  },
  {
   "cell_type": "code",
   "execution_count": null,
   "id": "c5ef8a33-d9c8-4c76-a726-8e973626bfa6",
   "metadata": {},
   "outputs": [],
   "source": []
  },
  {
   "cell_type": "code",
   "execution_count": null,
   "id": "e958788b-16d2-4258-8b19-3cde8b5e1702",
   "metadata": {},
   "outputs": [],
   "source": []
  },
  {
   "cell_type": "code",
   "execution_count": null,
   "id": "7e5fcca8-1298-4654-81d7-72bcacf99844",
   "metadata": {},
   "outputs": [],
   "source": []
  },
  {
   "cell_type": "code",
   "execution_count": null,
   "id": "f7e89cd3-edec-49c2-bc43-e8c0c603aec7",
   "metadata": {},
   "outputs": [],
   "source": []
  },
  {
   "cell_type": "code",
   "execution_count": null,
   "id": "6d61fc82-7dd0-406e-8596-7c2c4b26fb08",
   "metadata": {},
   "outputs": [],
   "source": []
  },
  {
   "cell_type": "code",
   "execution_count": null,
   "id": "26b15fdd-27a2-4fd0-97dd-ae31dd8ff45a",
   "metadata": {},
   "outputs": [],
   "source": []
  },
  {
   "cell_type": "code",
   "execution_count": null,
   "id": "c3248545-ef40-4cf9-a4e8-95e9b5076c2f",
   "metadata": {},
   "outputs": [],
   "source": []
  },
  {
   "cell_type": "code",
   "execution_count": null,
   "id": "8f316131-f2d7-4b4c-864a-3529f9662d0b",
   "metadata": {},
   "outputs": [],
   "source": []
  },
  {
   "cell_type": "code",
   "execution_count": null,
   "id": "b26d03c8-68b8-4bc8-ab01-4e4f7e0868cd",
   "metadata": {},
   "outputs": [],
   "source": []
  },
  {
   "cell_type": "code",
   "execution_count": null,
   "id": "4557d612-f34b-4a88-ac4c-deddfa5d1d08",
   "metadata": {},
   "outputs": [],
   "source": []
  },
  {
   "cell_type": "code",
   "execution_count": null,
   "id": "2d82a225-2e99-43a0-9a40-ebc443200950",
   "metadata": {},
   "outputs": [],
   "source": []
  },
  {
   "cell_type": "code",
   "execution_count": null,
   "id": "6cc759fc-96e4-448a-807b-134a65b65f82",
   "metadata": {},
   "outputs": [],
   "source": []
  },
  {
   "cell_type": "code",
   "execution_count": null,
   "id": "097347a7-b3b9-40f9-a378-b3099587ebfc",
   "metadata": {},
   "outputs": [],
   "source": []
  },
  {
   "cell_type": "code",
   "execution_count": null,
   "id": "2a83405d-7fc8-40e7-a422-584091b8d974",
   "metadata": {},
   "outputs": [],
   "source": []
  },
  {
   "cell_type": "code",
   "execution_count": null,
   "id": "64f79174-5926-470e-b9e6-238e38532f33",
   "metadata": {},
   "outputs": [],
   "source": []
  },
  {
   "cell_type": "code",
   "execution_count": null,
   "id": "4d20e5fc-2b21-47e9-b184-d8e3fa61e291",
   "metadata": {},
   "outputs": [],
   "source": []
  },
  {
   "cell_type": "code",
   "execution_count": null,
   "id": "7f74bc03-33dc-4647-99e6-7c66b6931dfa",
   "metadata": {},
   "outputs": [],
   "source": []
  },
  {
   "cell_type": "code",
   "execution_count": null,
   "id": "a3aeebdd-0fac-4636-9290-5339c4b7acbf",
   "metadata": {},
   "outputs": [],
   "source": []
  },
  {
   "cell_type": "code",
   "execution_count": null,
   "id": "68cb803a-ef6e-41c8-b137-67834c232bd7",
   "metadata": {},
   "outputs": [],
   "source": []
  },
  {
   "cell_type": "code",
   "execution_count": null,
   "id": "baa4a109-3a08-4df4-b0ba-89c4b293147d",
   "metadata": {},
   "outputs": [],
   "source": []
  },
  {
   "cell_type": "code",
   "execution_count": null,
   "id": "10c964d8-8ddf-440f-a36e-a0243b06f33a",
   "metadata": {},
   "outputs": [],
   "source": []
  },
  {
   "cell_type": "code",
   "execution_count": null,
   "id": "f1a97495-53ba-4ef9-a489-e0520a40124d",
   "metadata": {},
   "outputs": [],
   "source": []
  },
  {
   "cell_type": "code",
   "execution_count": null,
   "id": "1cdb84ee-d16b-4f7b-a1e4-e1a10580b476",
   "metadata": {},
   "outputs": [],
   "source": []
  },
  {
   "cell_type": "code",
   "execution_count": null,
   "id": "44c6480c-be53-44ba-81dc-62f3d92e812c",
   "metadata": {},
   "outputs": [],
   "source": []
  },
  {
   "cell_type": "code",
   "execution_count": null,
   "id": "ecf54e38-4862-4bae-bd3b-6d26ca9780ea",
   "metadata": {},
   "outputs": [],
   "source": []
  },
  {
   "cell_type": "code",
   "execution_count": null,
   "id": "b482c9d9-7834-424e-bf84-5904c7e7aaba",
   "metadata": {},
   "outputs": [],
   "source": []
  },
  {
   "cell_type": "code",
   "execution_count": null,
   "id": "e96b4276-4769-4e60-95fb-36a3a97095a6",
   "metadata": {},
   "outputs": [],
   "source": []
  },
  {
   "cell_type": "code",
   "execution_count": null,
   "id": "d7bc2bd1-2622-4f60-af40-93b155d0ec09",
   "metadata": {},
   "outputs": [],
   "source": []
  },
  {
   "cell_type": "code",
   "execution_count": null,
   "id": "78a3406e-53b0-4194-84ef-55a3f0a63f94",
   "metadata": {},
   "outputs": [],
   "source": []
  },
  {
   "cell_type": "code",
   "execution_count": null,
   "id": "d87294a6-1147-464a-9973-251a8cce53ad",
   "metadata": {},
   "outputs": [],
   "source": []
  },
  {
   "cell_type": "code",
   "execution_count": null,
   "id": "c7cf2f70-297d-40ee-964f-351818ba3646",
   "metadata": {},
   "outputs": [],
   "source": []
  },
  {
   "cell_type": "code",
   "execution_count": null,
   "id": "94546cdd-7c09-4981-84e6-26eb9ab458ca",
   "metadata": {},
   "outputs": [],
   "source": []
  },
  {
   "cell_type": "code",
   "execution_count": null,
   "id": "2caf39d4-c27c-4bd9-95e4-01417a05a356",
   "metadata": {},
   "outputs": [],
   "source": []
  },
  {
   "cell_type": "code",
   "execution_count": null,
   "id": "8bc561d3-2304-49d0-b008-d3c093d5b9e3",
   "metadata": {},
   "outputs": [],
   "source": []
  },
  {
   "cell_type": "code",
   "execution_count": null,
   "id": "2482b145-d174-47b1-90d2-e8ff645dbe89",
   "metadata": {},
   "outputs": [],
   "source": []
  },
  {
   "cell_type": "code",
   "execution_count": null,
   "id": "4e66eacc-832f-4b89-8483-ddee62da6989",
   "metadata": {},
   "outputs": [],
   "source": []
  },
  {
   "cell_type": "code",
   "execution_count": null,
   "id": "772b2f43-5afa-4f76-bbac-a4c8c952e537",
   "metadata": {},
   "outputs": [],
   "source": []
  },
  {
   "cell_type": "code",
   "execution_count": null,
   "id": "c80bde87-3dfc-424d-abc7-ecb4d82937a4",
   "metadata": {},
   "outputs": [],
   "source": []
  },
  {
   "cell_type": "code",
   "execution_count": null,
   "id": "95fb8b48-0b7a-4668-b712-0f9b59b86a1b",
   "metadata": {},
   "outputs": [],
   "source": []
  },
  {
   "cell_type": "code",
   "execution_count": null,
   "id": "81195345-4c00-4ff5-aaf8-5a529a75a822",
   "metadata": {},
   "outputs": [],
   "source": []
  },
  {
   "cell_type": "code",
   "execution_count": null,
   "id": "1bcba173-25d0-4fe4-99a0-f6c9969abb53",
   "metadata": {},
   "outputs": [],
   "source": []
  },
  {
   "cell_type": "code",
   "execution_count": null,
   "id": "e9682616-12c9-468c-a243-8a1c5347d9c7",
   "metadata": {},
   "outputs": [],
   "source": []
  },
  {
   "cell_type": "code",
   "execution_count": null,
   "id": "9c9ca2a9-922d-48c7-a6de-59319f641329",
   "metadata": {},
   "outputs": [],
   "source": []
  },
  {
   "cell_type": "code",
   "execution_count": null,
   "id": "ea441f17-81b6-41e9-aced-dd1ee31384df",
   "metadata": {},
   "outputs": [],
   "source": []
  },
  {
   "cell_type": "code",
   "execution_count": null,
   "id": "d0c07754-070e-4d9a-a034-5b32e41617b0",
   "metadata": {},
   "outputs": [],
   "source": []
  },
  {
   "cell_type": "code",
   "execution_count": null,
   "id": "adc3b439-1ae2-4987-8aa5-8922d81b27f3",
   "metadata": {},
   "outputs": [],
   "source": []
  },
  {
   "cell_type": "code",
   "execution_count": null,
   "id": "9d475d8b-02f9-456b-9275-bba2da4cabe4",
   "metadata": {},
   "outputs": [],
   "source": []
  },
  {
   "cell_type": "code",
   "execution_count": null,
   "id": "fd8d69bd-577d-4db4-a7a7-c2c7b4c6f50a",
   "metadata": {},
   "outputs": [],
   "source": []
  },
  {
   "cell_type": "code",
   "execution_count": null,
   "id": "28395201-e0ad-4cea-852e-63b83dc3f870",
   "metadata": {},
   "outputs": [],
   "source": []
  },
  {
   "cell_type": "code",
   "execution_count": null,
   "id": "abb76137-1486-4976-84c5-a7eada6a1605",
   "metadata": {},
   "outputs": [],
   "source": []
  },
  {
   "cell_type": "code",
   "execution_count": null,
   "id": "56560466-898d-4d18-8d57-f3fc1daf378a",
   "metadata": {},
   "outputs": [],
   "source": []
  },
  {
   "cell_type": "code",
   "execution_count": null,
   "id": "6eba2bdd-d12a-4bdc-a8be-c9abb1676499",
   "metadata": {},
   "outputs": [],
   "source": []
  },
  {
   "cell_type": "code",
   "execution_count": null,
   "id": "4d630bd6-7f8d-488e-89e8-05cab45a8d77",
   "metadata": {},
   "outputs": [],
   "source": []
  },
  {
   "cell_type": "code",
   "execution_count": null,
   "id": "3c1a1245-b267-4988-ae8c-7f94af64afe2",
   "metadata": {},
   "outputs": [],
   "source": []
  },
  {
   "cell_type": "code",
   "execution_count": null,
   "id": "f65993b0-f162-423d-8f8b-9a50f8473873",
   "metadata": {},
   "outputs": [],
   "source": []
  },
  {
   "cell_type": "code",
   "execution_count": null,
   "id": "3d8724a7-85ba-4f0f-8afe-1e3e889aadf1",
   "metadata": {},
   "outputs": [],
   "source": []
  }
 ],
 "metadata": {
  "kernelspec": {
   "display_name": "Python 3 (ipykernel)",
   "language": "python",
   "name": "python3"
  },
  "language_info": {
   "codemirror_mode": {
    "name": "ipython",
    "version": 3
   },
   "file_extension": ".py",
   "mimetype": "text/x-python",
   "name": "python",
   "nbconvert_exporter": "python",
   "pygments_lexer": "ipython3",
   "version": "3.9.13"
  }
 },
 "nbformat": 4,
 "nbformat_minor": 5
}
