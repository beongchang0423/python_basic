{
 "cells": [
  {
   "cell_type": "code",
   "execution_count": 7,
   "id": "a5d58486-6435-43db-98ee-9b6b884e7eab",
   "metadata": {},
   "outputs": [
    {
     "name": "stdout",
     "output_type": "stream",
     "text": [
      "김태형후보가 총 4표를 얻어 당선되었습니다.\n"
     ]
    }
   ],
   "source": [
    "# for문 예제\n",
    "votes = [2,5,3,4,1,5,1,5,5,3]\n",
    "candidates = ['','전정국','김남준','박지민','정호석','김태형']\n",
    "candidates_votes = [0]*(len(candidates))\n",
    "for i in votes:\n",
    "    candidates_votes[i] +=1\n",
    "\n",
    "winner = candidates_votes.index(max(candidates_votes))\n",
    "print(\"{}후보가 총 {}표를 얻어 당선되었습니다.\".format(candidates[winner],candidates_votes[winner]))"
   ]
  },
  {
   "cell_type": "code",
   "execution_count": 58,
   "id": "613dee3c-ba8d-4544-8e4e-be3168f74e9e",
   "metadata": {},
   "outputs": [
    {
     "name": "stdout",
     "output_type": "stream",
     "text": [
      "[1, 3, 5, 7, 9]\n",
      "['a', 'b', 'c', 'd', 'e', 'f', 'g', 'h', 'i', 'j', 'k', 'l', 'm', 'n', 'o', 'p', 'q', 'r', 's', 't', 'u', 'v', 'w', 'x', 'y', 'z']\n",
      "['2', '3', '4', '5', '6', '7', '8', '9', '10', 'J', 'Q', 'K', 'A']\n",
      "\n",
      "\n",
      " ['2', '3', '4', '5', '6', '7', '8', '9', '10', 'J', 'Q', 'K', 'A']\n",
      "[['2', '3', '4', '5', '6', '7', '8', '9', '10', 'J', 'Q', 'K', 'A'], ['2', '3', '4', '5', '6', '7', '8', '9', '10', 'J', 'Q', 'K', 'A'], ['2', '3', '4', '5', '6', '7', '8', '9', '10', 'J', 'Q', 'K', 'A'], ['2', '3', '4', '5', '6', '7', '8', '9', '10', 'J', 'Q', 'K', 'A']]\n",
      "[['Two', '3', '4', '5', '6', '7', '8', '9', '10', 'J', 'Q', 'K', 'A'], ['Two', '3', '4', '5', '6', '7', '8', '9', '10', 'J', 'Q', 'K', 'A'], ['Two', '3', '4', '5', '6', '7', '8', '9', '10', 'J', 'Q', 'K', 'A'], ['Two', '3', '4', '5', '6', '7', '8', '9', '10', 'J', 'Q', 'K', 'A']]\n"
     ]
    }
   ],
   "source": [
    "#list comprehension 연습문제\n",
    "print([i for i in range(1,10,2)])\n",
    "print([i for i in 'abcdefghijklmnopqrstuvwxyz'])\n",
    "prac_result4 = [str(i)for i in range(2,11)]+ [i for i in 'JQKA']\n",
    "print(prac_result4)\n",
    "prac_result5 = [prac_result4 for i in range(4)]\n",
    "print(prac_result5)\n",
    "\n",
    "prac_result4[0] = \"Two\"\n",
    "print(prac_result5) # 왜 prac4 한값만 바꿨는데 prac5의 모든 값이 변하느냐? 아래 설명 "
   ]
  },
  {
   "cell_type": "markdown",
   "id": "2a762c79-970f-4331-ab0e-8ea0f5f3a52b",
   "metadata": {},
   "source": [
    "### 객체를 담는 변수의 특징.\n",
    "- 변수는 메모리 주소값을 가지고 있다.\n",
    "- 메모리 효율성을 위해 파이썬 리스트는 메모리에 주소값만 저장하고, 직접 찾아가는 방식을 채택한다.  \n",
    "- 그렇기에 prac_result4의 주소값을 4번 가져간 prac_result5의 값도 전부 바뀐다.\n",
    "- id() 함수 = 메모리 주소를 조회 할 수 있는 내장함수이다.\n",
    "- enumerate() 함수 = index값과 value 값을 unpacking하여 꺼내올 수 있는 함수.\n",
    "### 기존 리스트의 슬라이싱 된 값은 새로운 객체이다.(리스트를 복사하는 방식이다)\n",
    "- 슬라이싱하여 가져오는 값은 (result6) 새롭게 객체를 만드는 방식임을 알 수 있다."
   ]
  },
  {
   "cell_type": "code",
   "execution_count": 64,
   "id": "1222a950-e1c1-4228-9fd4-837f5df6f003",
   "metadata": {},
   "outputs": [
    {
     "name": "stdout",
     "output_type": "stream",
     "text": [
      "result4의 주소값: 2072504833984\n",
      "0 번째 주소값:  2072504833984\n",
      "1 번째 주소값:  2072504833984\n",
      "2 번째 주소값:  2072504833984\n",
      "3 번째 주소값:  2072504833984\n",
      "result5의 주소값 2072505166208\n",
      "0 번째 주소값:  2072505340032\n",
      "1 번째 주소값:  2072503944256\n",
      "2 번째 주소값:  2072502996736\n",
      "3 번째 주소값:  2072504045184\n",
      "result6의 주소값 2072510121920\n"
     ]
    }
   ],
   "source": [
    "print(\"result4의 주소값:\", id(prac_result4))\n",
    "for i,v in enumerate(prac_result5):\n",
    "    print(i,\"번째 주소값: \",id(v))\n",
    "print(\"result5의 주소값\",id(prac_result5))\n",
    "\n",
    "prac_result6 = [prac_result4[:]for i in range(4)] # 슬라이싱은 주소값이 다르게 된다.\n",
    "for i,v in enumerate(prac_result6):\n",
    "    print(i,\"번째 주소값: \",id(v))\n",
    "print(\"result6의 주소값\",id(prac_reult6))"
   ]
  },
  {
   "cell_type": "markdown",
   "id": "544f5890-d35a-4d64-847a-689db470814b",
   "metadata": {},
   "source": [
    "- 불변인 값들은 슬라이싱하여 복사해도 id가 같은 것을 볼 수 있다.\n",
    "- 불변이기 때문에 요소가 동일하다면 deep copy해와도(재사용해도) 지장없기에 복사해오는 로직인듯. 튜플도 동일함."
   ]
  },
  {
   "cell_type": "code",
   "execution_count": 115,
   "id": "134ce447-db38-45eb-a27a-722e5088c8d1",
   "metadata": {},
   "outputs": [],
   "source": [
    "x = \"123123123\"\n",
    "y = x[:]\n",
    "print(x is y)\n",
    "print(x == y)\n",
    "print(id(x),id(y))\n",
    "#불변이 아닌 값들은 슬라이싱하여 복사할 경우 id가 다른 것을 볼 수 있다.\n",
    "x = [range(10)]\n",
    "y = [range(10)]\n",
    "print(x is y)\n",
    "print(x == y)\n",
    "print(id(x),id(y),end=\"\\n\\n\")"
   ]
  },
  {
   "cell_type": "markdown",
   "id": "f256a409-2acd-46b1-bb85-dc36c4260673",
   "metadata": {},
   "source": [
    "- 숫자의 경우는 낮은 숫자정도는 파이썬 내장으로 선언되어 있지 않을까 추측된다.\n",
    "- 변수를 선언할때 일반적으로 숫자는 만들어서 할당해주지만 낮은 숫자는 이미 내장되어 만들어져 있고, 그 주소를 받아오는\n",
    "- 방식이 더 빠르기 떄문이지 않을까 라는 추측이 생긴다. (저장되어 있는 범위는 0~256인듯 하다)"
   ]
  },
  {
   "cell_type": "code",
   "execution_count": 115,
   "id": "bbc39793-c4b7-4272-acd8-dea10e4c0a28",
   "metadata": {},
   "outputs": [
    {
     "name": "stdout",
     "output_type": "stream",
     "text": [
      "True\n",
      "True\n",
      "2072505356080 2072505356080\n",
      "False\n",
      "True\n",
      "2072503532992 2072501404672\n",
      "\n",
      "False\n",
      "True\n",
      "2072506068144 2072506068368\n",
      "False\n",
      "True\n",
      "2072506067792 2072506068336\n"
     ]
    }
   ],
   "source": [
    "x = 256\n",
    "y = 256\n",
    "print(x is y)\n",
    "print(x == y)\n",
    "print(id(x),id(y))\n",
    "x = 1004\n",
    "y = 1004\n",
    "print(x is y)\n",
    "print(x == y)\n",
    "print(id(x),id(y))"
   ]
  },
  {
   "cell_type": "markdown",
   "id": "651c9352-38c0-421b-bbe4-16b6877295c1",
   "metadata": {},
   "source": [
    "### time()함수를 사용한 성능비교 방식\n",
    "```python\n",
    "import time\n",
    "curr = time.time()\n",
    "#여기서 반복문을 통해 연산을 하고~\n",
    "last = time.time()\n",
    "print(last-curr)\n",
    "```  \n",
    "로 시간확인이 가능하다 "
   ]
  },
  {
   "cell_type": "code",
   "execution_count": 7,
   "id": "16490e98-8c1e-46f6-8572-422181bb18b2",
   "metadata": {},
   "outputs": [
    {
     "name": "stdin",
     "output_type": "stream",
     "text": [
      "순환할 숫자를 입력하세요: 16\n"
     ]
    },
    {
     "name": "stdout",
     "output_type": "stream",
     "text": [
      "1 2 3 4 5 6 7 8 9 10 11 12 13 14 15 16 \n",
      "2 3 4 5 6 7 8 9 10 11 12 13 14 15 16 1 \n",
      "3 4 5 6 7 8 9 10 11 12 13 14 15 16 1 2 \n",
      "4 5 6 7 8 9 10 11 12 13 14 15 16 1 2 3 \n",
      "5 6 7 8 9 10 11 12 13 14 15 16 1 2 3 4 \n",
      "6 7 8 9 10 11 12 13 14 15 16 1 2 3 4 5 \n",
      "7 8 9 10 11 12 13 14 15 16 1 2 3 4 5 6 \n",
      "8 9 10 11 12 13 14 15 16 1 2 3 4 5 6 7 \n",
      "9 10 11 12 13 14 15 16 1 2 3 4 5 6 7 8 \n",
      "10 11 12 13 14 15 16 1 2 3 4 5 6 7 8 9 \n",
      "11 12 13 14 15 16 1 2 3 4 5 6 7 8 9 10 \n",
      "12 13 14 15 16 1 2 3 4 5 6 7 8 9 10 11 \n",
      "13 14 15 16 1 2 3 4 5 6 7 8 9 10 11 12 \n",
      "14 15 16 1 2 3 4 5 6 7 8 9 10 11 12 13 \n",
      "15 16 1 2 3 4 5 6 7 8 9 10 11 12 13 14 \n",
      "16 1 2 3 4 5 6 7 8 9 10 11 12 13 14 15 \n"
     ]
    }
   ],
   "source": [
    "N = int(input(\"순환할 숫자를 입력하세요:\"))\n",
    "\n",
    "for i in range(1,N+1):\n",
    "    for j in range(0,N):\n",
    "        if (j+i)//(N+1) >=1:\n",
    "            print((j+i)%(N+1)+1,end=\" \")\n",
    "        else:\n",
    "            print((j+i)%(N+1),end=\" \")\n",
    "    print()"
   ]
  },
  {
   "cell_type": "markdown",
   "id": "56345dfb-965a-41a5-9746-74ea42b39fe9",
   "metadata": {},
   "source": [
    "### 리스트 복사 방식의 차이\n",
    "1. shallow copy\n",
    "- 새로운 복합 객체를 만들고,(가능한 범위까지( 원본 객체를 가리키는 참조를 새로운 복합 객체에 삽입합니다.\n",
    "- 리스트 뒤에 copy() 함수 사용 - 주소값이 다르게 복사함(다른 객체로 새로 만들어 할당해줌)\n",
    "- 값은 같지만 주소값은 다르다~\n",
    "- 슬라이싱으로 하는 복사도 여기에 속한다."
   ]
  },
  {
   "cell_type": "code",
   "execution_count": 23,
   "id": "2d59c74a-e73f-4cc6-af72-8365f1ac1024",
   "metadata": {},
   "outputs": [],
   "source": [
    "list_one = list(range(10))\n",
    "list_second = list_one.copy()\n",
    "print(list_one,list_second)\n",
    "print(id(list_one),id(list_second))\n",
    "\n",
    "list_i = [[0]]*3\n",
    "print(list_i)\n",
    " \n",
    "list_i[0][0] = 999 # 모든 값이 999로 바뀌는 것을 볼 수 있음\n",
    "print(list_i)"
   ]
  },
  {
   "cell_type": "markdown",
   "id": "dd1feb79-aae8-4e32-b586-66327ad0d8fb",
   "metadata": {},
   "source": [
    "### 슬라이싱은 shallow copy 라며?  \n",
    "- 바깥 리스트는 다른 주소를 가짐. 하지만 안쪽 리스트는 주소값을 그대로 가져와 같음  \n",
    "- copy() 함수를 써도 똑같이 적용됨.\n",
    "- 원래 바깥만 복사하는것을 shallow copy라고 함."
   ]
  },
  {
   "cell_type": "code",
   "execution_count": 23,
   "id": "52f03b26-fd18-43d5-9574-16e546f72162",
   "metadata": {},
   "outputs": [
    {
     "name": "stdout",
     "output_type": "stream",
     "text": [
      "[0, 1, 2, 3, 4, 5, 6, 7, 8, 9] [0, 1, 2, 3, 4, 5, 6, 7, 8, 9]\n",
      "2038419765568 2038430657216\n",
      "[[0], [0], [0]]\n",
      "[[999], [999], [999]]\n",
      "True\n",
      "[[999, 2], [3, 4]] [[999, 2], [3, 4]]\n"
     ]
    }
   ],
   "source": [
    "list_j = [[1,2],[3,4]]\n",
    "list_k = list_j[:]\n",
    "print(list_k[0] is list_j[0])\n",
    "list_j[0][0] = 999\n",
    "print(list_j,list_k)"
   ]
  },
  {
   "cell_type": "markdown",
   "id": "fded2796-8159-4ab3-9b54-414913ba7f07",
   "metadata": {},
   "source": [
    "2. deep copy\n",
    "- import copy 를 통해 라이브러리를 가져와야한다.\n",
    "- 새로운 복합 객체를 만들고, 재귀적으로 원본 객체의 사본을  새로 만들어 복합 객체에 삽입하는 방식을 말함.- "
   ]
  },
  {
   "cell_type": "code",
   "execution_count": 27,
   "id": "e4867f3e-7192-449d-bf77-5e32e9f9b626",
   "metadata": {},
   "outputs": [
    {
     "name": "stdout",
     "output_type": "stream",
     "text": [
      "False\n",
      "[[100, 10], [11, 12]] [[9, 10], [11, 12]]\n"
     ]
    }
   ],
   "source": [
    "import copy\n",
    "list_n = [[9,10],[11,12]]\n",
    "list_o = copy.deepcopy(list_n)\n",
    "print(list_n[0] is list_o[0]) # 안쪽까지 복사되었음을 알 수 있다.\n",
    "list_n[0][0] = 100\n",
    "print(list_n,list_o)"
   ]
  },
  {
   "cell_type": "markdown",
   "id": "42d6fbc8-50e6-4935-a483-dee1a25d8ec6",
   "metadata": {},
   "source": [
    "### list comprehension 추가\n",
    "- list_variable = [expression for 변수 in iterable if 조건식]\n",
    "- for 횟수만큼 반복하되, 조건식이 참일 때만 expression을 실행하는 방식.\n",
    "  "
   ]
  },
  {
   "cell_type": "code",
   "execution_count": 32,
   "id": "dc03f44a-d33d-43b4-acc6-ed763c24eb59",
   "metadata": {},
   "outputs": [],
   "source": [
    "a = ['alpha','bravo','charlie','delta','echo','foxtrot','golf','hotel','india']\n",
    "b = [i for i in a if len(i)==5]\n",
    "print(b)"
   ]
  },
  {
   "cell_type": "markdown",
   "id": "11d6d2f6-380b-4c8d-95eb-1ab6cefa6256",
   "metadata": {},
   "source": [
    "- 중첩된 list comprehension for 문\n",
    "- [expression for 변수 in iterable for  변수 in iterable]\n",
    "- 가독성을 위해 들여쓰기를 해주는 것이 좋다."
   ]
  },
  {
   "cell_type": "code",
   "execution_count": 32,
   "id": "f4c4bfb8-034d-44cc-be24-2247955a987d",
   "metadata": {},
   "outputs": [
    {
     "name": "stdout",
     "output_type": "stream",
     "text": [
      "[[0, 0, 0], [0, 0, 1], [0, 0, 2], [0, 0, 3], [0, 1, 0], [0, 1, 1], [0, 1, 2], [0, 1, 3], [0, 2, 0], [0, 2, 1], [0, 2, 2], [0, 2, 3], [0, 3, 0], [0, 3, 1], [0, 3, 2], [0, 3, 3], [1, 0, 0], [1, 0, 1], [1, 0, 2], [1, 0, 3], [1, 1, 0], [1, 1, 1], [1, 1, 2], [1, 1, 3], [1, 2, 0], [1, 2, 1], [1, 2, 2], [1, 2, 3], [1, 3, 0], [1, 3, 1], [1, 3, 2], [1, 3, 3], [2, 0, 0], [2, 0, 1], [2, 0, 2], [2, 0, 3], [2, 1, 0], [2, 1, 1], [2, 1, 2], [2, 1, 3], [2, 2, 0], [2, 2, 1], [2, 2, 2], [2, 2, 3], [2, 3, 0], [2, 3, 1], [2, 3, 2], [2, 3, 3], [3, 0, 0], [3, 0, 1], [3, 0, 2], [3, 0, 3], [3, 1, 0], [3, 1, 1], [3, 1, 2], [3, 1, 3], [3, 2, 0], [3, 2, 1], [3, 2, 2], [3, 2, 3], [3, 3, 0], [3, 3, 1], [3, 3, 2], [3, 3, 3]]\n"
     ]
    }
   ],
   "source": [
    "lst = [[i,j,k]  for i in range(4)\n",
    "            for j in range(4)\n",
    "            for k in range(4)]\n",
    "print(lst)"
   ]
  },
  {
   "cell_type": "markdown",
   "id": "1327f234-ba72-4164-8acb-8e95e125c2ac",
   "metadata": {},
   "source": [
    "### tuple\n",
    "- 튜플은 immutable 하다.\n",
    "- 그래서 조회하는 함수인 count(), index() 함수만 존재한다.\n",
    "- 튜플 comprehension은 되긴 하는데 사실 튜플이 아니라 generator comprehension이 된다\n",
    "- 튜플 형으로 변환하려면 tuple()로 감싸줘야한다.\n"
   ]
  },
  {
   "cell_type": "code",
   "execution_count": 35,
   "id": "f52a11c9-d2f9-4655-8fd3-bc34f0f519f7",
   "metadata": {},
   "outputs": [
    {
     "name": "stdout",
     "output_type": "stream",
     "text": [
      "<class 'generator'> <class 'tuple'>\n"
     ]
    }
   ],
   "source": [
    "generator_variable = (i for i in range(10)) # iterable한 객체임.\n",
    "tuple_variable = tuple(i for i in range(10))\n",
    "print(type(generator_variable),type(tuple_variable))"
   ]
  },
  {
   "cell_type": "code",
   "execution_count": 44,
   "id": "2e6cab39-cb9c-4224-b3b1-f9ae2fcd5dd1",
   "metadata": {},
   "outputs": [
    {
     "name": "stdin",
     "output_type": "stream",
     "text": [
      "정수 두 개 입력하세요:  99 1\n"
     ]
    },
    {
     "name": "stdout",
     "output_type": "stream",
     "text": [
      "첫번째 값의 범위는 1~20 입니다.\n"
     ]
    },
    {
     "name": "stdin",
     "output_type": "stream",
     "text": [
      "정수 두 개 입력하세요:  10 1\n"
     ]
    },
    {
     "name": "stdout",
     "output_type": "stream",
     "text": [
      "두번째 값의 범위는 10~30 입니다.\n"
     ]
    },
    {
     "name": "stdin",
     "output_type": "stream",
     "text": [
      "정수 두 개 입력하세요:  20 10\n"
     ]
    },
    {
     "name": "stdout",
     "output_type": "stream",
     "text": [
      "첫 번째 입력 값은 두 번째 입력 값보다 작게 입력하세요.\n"
     ]
    },
    {
     "name": "stdin",
     "output_type": "stream",
     "text": [
      "정수 두 개 입력하세요:  10 20\n"
     ]
    },
    {
     "name": "stdout",
     "output_type": "stream",
     "text": [
      "[1024, 4096, 8192, 16384, 32768, 65536, 131072, 262144, 1048576]\n"
     ]
    }
   ],
   "source": [
    "while True:\n",
    "    first, second = map(int,input(\"정수 두 개 입력하세요: \").split())\n",
    "    if first>20 or first<1:\n",
    "        print(\"첫번째 값의 범위는 1~20 입니다.\")\n",
    "    elif second >30 or second<10:\n",
    "        print(\"두번째 값의 범위는 10~30 입니다.\")\n",
    "    elif first>= second:\n",
    "        print(\"첫 번째 입력 값은 두 번째 입력 값보다 작게 입력하세요.\")\n",
    "    else:\n",
    "        break\n",
    "\n",
    "lst_one = [2**i for i in range(first,second+1) if i != first+1 and i != second-1]\n",
    "print(lst_one)"
   ]
  },
  {
   "cell_type": "code",
   "execution_count": 58,
   "id": "67763e9e-1447-4d81-892b-3cc8aba3f83b",
   "metadata": {},
   "outputs": [
    {
     "name": "stdout",
     "output_type": "stream",
     "text": [
      "\n",
      "- 1 + 4 - 9 + 16 - 25 + 36 - 49 + 64 - 81 + 100 \n",
      "- 121 + 144 - 169 + 196 - 225 + 256 - 289 + 324 - 361 + 400 \n",
      "- 441 + 484 - 529 + 576 - 625 + 676 - 729 + 784 - 841 + 900 \n",
      "- 961 + 1024 - 1089 + 1156 - 1225 + 1296 - 1369 + 1444 - 1521 + 1600 \n",
      "- 1681 + 1764 - 1849 + 1936 - 2025 + 2116 - 2209 + 2304 - 2401 + 2500 \n",
      "- 2601 + 2704 - 2809 + 2916 - 3025 + 3136 - 3249 + 3364 - 3481 + 3600 \n",
      "- 3721 + 3844 - 3969 + 4096 - 4225 + 4356 - 4489 + 4624 - 4761 + 4900 \n",
      "- 5041 + 5184 - 5329 + 5476 - 5625 + 5776 - 5929 + 6084 - 6241 + 6400 \n",
      "- 6561 + 6724 - 6889 + 7056 - 7225 + 7396 - 7569 + 7744 - 7921 + 8100 \n",
      "- 8281 + 8464 - 8649 + 8836 - 9025 + 9216 - 9409 + 9604 - 9801 + 10000 \n",
      "= 5050 입니다\n"
     ]
    }
   ],
   "source": [
    "total=0\n",
    "for i in range(1,101):\n",
    "    if i %10 == 1 : print(\"\")\n",
    "    if i %2 == 0:\n",
    "        total+= i**2\n",
    "        print(\"+\",i**2,end=\" \")\n",
    "    else : \n",
    "        total-= i**2\n",
    "        print(\"-\",i**2,end=\" \")\n",
    "print(\"\\n=\",total,\"입니다\")"
   ]
  }
 ],
 "metadata": {
  "kernelspec": {
   "display_name": "Python 3 (ipykernel)",
   "language": "python",
   "name": "python3"
  },
  "language_info": {
   "codemirror_mode": {
    "name": "ipython",
    "version": 3
   },
   "file_extension": ".py",
   "mimetype": "text/x-python",
   "name": "python",
   "nbconvert_exporter": "python",
   "pygments_lexer": "ipython3",
   "version": "3.9.13"
  }
 },
 "nbformat": 4,
 "nbformat_minor": 5
}
