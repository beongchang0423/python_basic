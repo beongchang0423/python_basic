{
 "cells": [
  {
   "cell_type": "markdown",
   "id": "69a439b9-694b-404d-9595-0192462e6f33",
   "metadata": {},
   "source": [
    "### Pandas = Panel Datas \n",
    "= Series나 table 형태로 데이터를 나타낼 수 있다. 이러한 데이터를 다루기 위한 클래스를 제공하는 패키지  \n",
    "### Series class\n",
    "= NumPy에서 제공하는 1차원 배열과 그 모양이 비슷하다. 하지만 배열과 다르게 index를 추가하여 index 와 value를 가지는 배열을 말한다.  \n",
    "- Series 객체 생성시 첫 인수로 data, 두 번째 인수로 idnex를 넣는다. \n",
    "- data값으로 iterable,배열,scalar value, dict(key와 index를 동일하게 사용하거나 생략)를 사용할 수 있다. \n",
    "- index는 data와 length가 동일해야한다.\n",
    "- index는 hashable한 type만 올 수 있다."
   ]
  },
  {
   "cell_type": "code",
   "execution_count": 5,
   "id": "fcb99e4b-53d4-41c4-8ed5-0879357462fb",
   "metadata": {},
   "outputs": [
    {
     "name": "stdout",
     "output_type": "stream",
     "text": [
      "1       one\n",
      "2       two\n",
      "3     three\n",
      "4      four\n",
      "5      five\n",
      "6       six\n",
      "7     seven\n",
      "8     eight\n",
      "9      nine\n",
      "10      ten\n",
      "dtype: object\n"
     ]
    }
   ],
   "source": [
    "import pandas as pd\n",
    "series = pd.Series(['one','two','three',\"four\",\"five\",\"six\",\"seven\",'eight','nine','ten'],index=range(1,11))\n",
    "print(series)"
   ]
  },
  {
   "cell_type": "code",
   "execution_count": 12,
   "id": "26efb879-c8b8-4835-80cb-7cbbf7b22da5",
   "metadata": {},
   "outputs": [
    {
     "name": "stdout",
     "output_type": "stream",
     "text": [
      "서울    9904312\n",
      "부산    3448737\n",
      "인천    2890451\n",
      "대구    2466052\n",
      "dtype: int64\n",
      "\n",
      "Index(['서울', '부산', '인천', '대구'], dtype='object')\n",
      "[9904312 3448737 2890451 2466052]\n",
      "\n",
      "도시\n",
      "서울    9904312\n",
      "부산    3448737\n",
      "인천    2890451\n",
      "대구    2466052\n",
      "Name: 인구, dtype: int64\n"
     ]
    }
   ],
   "source": [
    "s = pd.Series([9_904_312, 3_448_737, 2_890_451, 2_466_052],\n",
    "              index=[\"서울\", \"부산\", \"인천\", \"대구\"])\n",
    "print(s,end=\"\\n\\n\")\n",
    "print(s.index)\n",
    "print(s.values,end='\\n\\n')\n",
    "s.name = \"인구\"\n",
    "s.index.name = \"도시\"\n",
    "print(s)"
   ]
  },
  {
   "cell_type": "markdown",
   "id": "e50aeb70-ce32-45f0-9315-a81a72dc0c67",
   "metadata": {},
   "source": [
    "### dict로 Series생성하기"
   ]
  },
  {
   "cell_type": "code",
   "execution_count": 19,
   "id": "2a4edc7b-febf-4457-9dd8-2652a3393218",
   "metadata": {},
   "outputs": [
    {
     "name": "stdout",
     "output_type": "stream",
     "text": [
      "a    1\n",
      "b    2\n",
      "c    3\n",
      "dtype: int64\n",
      "x   NaN\n",
      "y   NaN\n",
      "z   NaN\n",
      "dtype: float64\n"
     ]
    }
   ],
   "source": [
    "d = {'a':1,'b':2,'c':3}\n",
    "ser = pd.Series(d) # 또는 ser = pd.Series(data=d,index=d.keys())\n",
    "print(ser)\n",
    "ser = pd.Series(data=d,index=['x','y','z']) \n",
    "# index로 주어진 값의 key값에 대응하는 value값을 주기 때문에 없는값이라서 NaN을 넣어준다.\n",
    "print(ser)"
   ]
  },
  {
   "cell_type": "markdown",
   "id": "01c7e0a5-7d73-4e9b-b25b-7414fe455304",
   "metadata": {},
   "source": [
    "### Series index를 속성처럼 활용하기\n",
    "- index 값이 영문 문자열인 경우에는 index label이 속성인것처럼 마침표(.)를 활용하여 해당 index값에 접근 가능"
   ]
  },
  {
   "cell_type": "code",
   "execution_count": 33,
   "id": "9c563856-364f-4fb5-bd38-b6b17393fe48",
   "metadata": {},
   "outputs": [
    {
     "data": {
      "text/plain": [
       "nan"
      ]
     },
     "execution_count": 33,
     "metadata": {},
     "output_type": "execute_result"
    }
   ],
   "source": [
    "ser.x"
   ]
  },
  {
   "cell_type": "markdown",
   "id": "37dfa0a0-a4db-40f8-b75b-f845f763ff58",
   "metadata": {},
   "source": [
    "### Series의 특징\n",
    "- 딕셔너리 자료형과 비슷한 특징을 가짐\n",
    "- in연산가능\n",
    "- items()메서드를 사용해 각 요소의 key,value에 접근 가능\n",
    "- 딕셔너리의 원소는 순서를 가지지 않으므로 시리즈의 데이터도 순서가 보장되지 않는다. \n",
    "  만약 순서를 가지도록 하기 위해서는 Series선언시에 index에서 리스트로 순서를 지정해주어야한다."
   ]
  },
  {
   "cell_type": "code",
   "execution_count": 38,
   "id": "3bf51c02-3e0d-4e75-a416-8f9a6ac9e2eb",
   "metadata": {},
   "outputs": [
    {
     "name": "stdout",
     "output_type": "stream",
     "text": [
      "True\n",
      "False\n",
      "서울 : 9904312\n",
      "부산 : 3448737\n",
      "인천 : 2890451\n",
      "대구 : 2466052\n"
     ]
    }
   ],
   "source": [
    "print(\"서울\" in s)\n",
    "print(\"대전\" in s)\n",
    "for k,v in s.items():\n",
    "    print(k,\":\",v)"
   ]
  },
  {
   "cell_type": "markdown",
   "id": "63587c75-dc41-40bb-8916-b2e28c1b9b08",
   "metadata": {},
   "source": [
    "### indexing + slicing"
   ]
  },
  {
   "cell_type": "code",
   "execution_count": 39,
   "id": "6e2682d1-c5a4-478d-a869-efd7d4bccbd0",
   "metadata": {},
   "outputs": [
    {
     "name": "stdout",
     "output_type": "stream",
     "text": [
      "9904312 3448737 2890451\n",
      "\n",
      "도시\n",
      "서울    9904312\n",
      "대구    2466052\n",
      "부산    3448737\n",
      "Name: 인구, dtype: int64\n",
      "\n",
      "도시\n",
      "부산    3448737\n",
      "Name: 인구, dtype: int64\n",
      "\n",
      "도시\n",
      "부산    3448737\n",
      "인천    2890451\n",
      "대구    2466052\n",
      "Name: 인구, dtype: int64\n",
      "\n",
      "도시\n",
      "부산    3448737\n",
      "인천    2890451\n",
      "Name: 인구, dtype: int64\n",
      "\n"
     ]
    }
   ],
   "source": [
    "print(s[0], s[1], s['인천'],end=\"\\n\\n\")\n",
    "print(s[[0,3,1]],end=\"\\n\\n\")\n",
    "print(s[1:2],end=\"\\n\\n\") # 끝값 [2]포함하지 않는다.\n",
    "print(s['부산':'대구'],end=\"\\n\\n\") # 끝값(대구)도 포함한다.\n",
    "#문자는 초과하는 범위를 표현할 수 없어서 (초과하는 문자가 뭐냐고 물어보면 답할수가 없음) 끝을 포함시킨다는 다른점이 있다.\n",
    "print(s[(250e4 < s) & (s < 500e4)],end=\"\\n\\n\")  # 인구가 250만 초과, 500만 미만인 경우"
   ]
  },
  {
   "cell_type": "markdown",
   "id": "6a10977c-7bee-4534-a108-74b6b66ec1ae",
   "metadata": {},
   "source": [
    "### 시리즈 연산\n",
    "\n",
    "- 다만 values에만 연산이 적용되고 index는 변하지 않는다.\n",
    "- 시리즈끼리 연산을 하는 경우 인덱스가 같은 데이터에 대해서만 차이를 구한다.\n"
   ]
  },
  {
   "cell_type": "code",
   "execution_count": 63,
   "id": "7f7e130d-c0e9-4e37-9df9-ac71fb472ba0",
   "metadata": {},
   "outputs": [
    {
     "name": "stdout",
     "output_type": "stream",
     "text": [
      "도시\n",
      "서울    990.4312\n",
      "부산    344.8737\n",
      "인천    289.0451\n",
      "대구    246.6052\n",
      "Name: 인구, dtype: float64\n",
      "\n",
      "대구          NaN\n",
      "대전          NaN\n",
      "부산    3393191.0\n",
      "서울    9631482.0\n",
      "인천    2632035.0\n",
      "dtype: float64\n",
      "\n",
      "대구    False\n",
      "대전    False\n",
      "부산     True\n",
      "서울     True\n",
      "인천     True\n",
      "dtype: bool\n",
      "\n",
      "부산    3393191.0\n",
      "서울    9631482.0\n",
      "인천    2632035.0\n",
      "dtype: float64\n",
      "\n"
     ]
    }
   ],
   "source": [
    "print(s/10000,end ='\\n\\n')\n",
    "sd = pd.Series([55546,272830,258416,1490158],index = ['부산','서울','인천','대전'])\n",
    "ds = s-sd\n",
    "print(ds,end ='\\n\\n')\n",
    "print(ds.notnull(),end ='\\n\\n') # NaN값에 대한 여부를 확인가능\n",
    "print(ds[ds.notnull()],end ='\\n\\n')#notnull()응용\n",
    "# NaN 값을 갖기 위해선 자료형이 float형이어야 해서 int끼리 연산해도 float형으로 저장된다."
   ]
  },
  {
   "cell_type": "code",
   "execution_count": 64,
   "id": "698ad619-9385-4216-af49-efcb1eaf4e7e",
   "metadata": {},
   "outputs": [
    {
     "name": "stdout",
     "output_type": "stream",
     "text": [
      "대구          NaN\n",
      "대전          NaN\n",
      "부산    3393191.0\n",
      "서울    9631482.0\n",
      "인천    2632035.0\n",
      "dtype: float64\n"
     ]
    },
    {
     "data": {
      "text/plain": [
       "부산          0.0\n",
       "서울    9631482.0\n",
       "인천    2632035.0\n",
       "dtype: float64"
      ]
     },
     "execution_count": 64,
     "metadata": {},
     "output_type": "execute_result"
    }
   ],
   "source": [
    "print(ds)\n",
    "del ds['대구']\n",
    "del ds['대전']\n",
    "ds['부산'] = 0\n",
    "ds"
   ]
  },
  {
   "cell_type": "code",
   "execution_count": 97,
   "id": "7dfa62f3-ce2d-47c9-bde7-c56a7b86a5b9",
   "metadata": {},
   "outputs": [
    {
     "name": "stdout",
     "output_type": "stream",
     "text": [
      "카카오     60010\n",
      "삼성전자    61000\n",
      "LG전자    90000\n",
      "dtype: int64\n",
      "\n",
      "카카오      60200\n",
      "삼성전자     61200\n",
      "네이버     200100\n",
      "dtype: int64\n",
      "\n",
      "삼성전자   -200.0\n",
      "카카오    -190.0\n",
      "dtype: float64\n"
     ]
    }
   ],
   "source": [
    "fin1 = {'카카오':60010,'삼성전자':61000,'LG전자':90000}\n",
    "fin2_value = [60200,61200,200100]\n",
    "fi2_index = ['카카오','삼성전자','네이버']\n",
    "\n",
    "ser_finance1 = pd.Series(fin1) \n",
    "ser_finance2 = pd.Series(data = fin2_value, index = fi2_index)\n",
    "print(ser_finance1,ser_finance2,sep=\"\\n\\n\",end = \"\\n\\n\")\n",
    "\n",
    "result = ser_finance1 - ser_finance2\n",
    "print(result[result.notnull()])"
   ]
  },
  {
   "cell_type": "markdown",
   "id": "5746b466-4cf6-479e-a93b-ec199066239d",
   "metadata": {},
   "source": [
    "# <font color=FFE536>DataFrame</front>\n",
    "- 2차원 array에 index값을 붙인 형태와 비슷하다.\n",
    "- 행 index 뿐만 아니라 열 index도 따로 지정이 가능하다.\n",
    "- 데이터프레임은 전치(transpose)를 포함하여 2차원 array가 가지는 대부분의 속성이나 메서드를 지원한다.\n",
    "### DataFame 생성\n",
    "1. 하나의 열이 되는 데이터를 리스트나 일차원 배열을 준비한다.\n",
    "2. 각각의 열에 대한 이름(label)을 키로 가지는 dictionary를 만든다\n",
    "3. 이 데이터를 DataFrame 클래스 생성자에 넣는다. 동시에 열방향 index는 columns 인수로 행방향 index는 index인수로 지정한다."
   ]
  },
  {
   "cell_type": "code",
   "execution_count": 115,
   "id": "1ddf4cfc-3f68-4c02-8aaa-e4085cc58c09",
   "metadata": {},
   "outputs": [
    {
     "name": "stdout",
     "output_type": "stream",
     "text": [
      "색       빨강      노랑      초록      파랑      가격\n",
      "순서                                        \n",
      "1   ff3399  ffe536  36ffb4  003dfd  1000.0\n",
      "2   ff1999  ffff00  1dffba  4682b4  1000.0\n",
      "3   f5007a  ffd700  00f79b  00bcf8  1000.0\n",
      "4   ff1493  ebd64a  00fa9a  148cb2  1000.0\n",
      "형광펜색\n"
     ]
    }
   ],
   "source": [
    "data = {\n",
    "    \"빨강\": ['ff3399', 'ff1999', 'f5007a', 'ff1493'],\n",
    "    \"노랑\": ['ffe536', 'ffff00', 'ffd700', 'ebd64a'],\n",
    "    \"초록\": ['36ffb4', '1dffba', '00f79b', '00fa9a'],\n",
    "    \"파랑\": ['003dfd', '4682b4', '00bcf8', '148cb2'],\n",
    "    \"가격\": [1000.0,1000.0,1000.0,1000.0]\n",
    "}\n",
    "color_pen = pd.DataFrame(data,index=range(1,5))\n",
    "color_pen.name = \"형광펜색\"\n",
    "color_pen.index.name = '순서'\n",
    "color_pen.columns.name = '색'\n",
    "print(color_pen)\n",
    "print(color_pen.name)"
   ]
  },
  {
   "cell_type": "code",
   "execution_count": 105,
   "id": "2a9de9f6-5c8a-49e2-b21c-96f8be6fa7b1",
   "metadata": {},
   "outputs": [
    {
     "name": "stdout",
     "output_type": "stream",
     "text": [
      "     지역     2015     2010     2005     2000  2010-2015 증가율\n",
      "서울  수도권  9904312  9631482  9762546  9853972         0.0283\n",
      "부산  경상권  3448737  3393191  3512547  3655437         0.0163\n",
      "인천  수도권  2890451  2632035  2517680  2466338         0.0982\n",
      "대구  경상권  2466052  2431774  2456016  2473990         0.0141\n"
     ]
    },
    {
     "data": {
      "text/html": [
       "<div>\n",
       "<style scoped>\n",
       "    .dataframe tbody tr th:only-of-type {\n",
       "        vertical-align: middle;\n",
       "    }\n",
       "\n",
       "    .dataframe tbody tr th {\n",
       "        vertical-align: top;\n",
       "    }\n",
       "\n",
       "    .dataframe thead th {\n",
       "        text-align: right;\n",
       "    }\n",
       "</style>\n",
       "<table border=\"1\" class=\"dataframe\">\n",
       "  <thead>\n",
       "    <tr style=\"text-align: right;\">\n",
       "      <th></th>\n",
       "      <th>지역</th>\n",
       "      <th>2015</th>\n",
       "      <th>2010</th>\n",
       "      <th>2005</th>\n",
       "      <th>2000</th>\n",
       "      <th>2010-2015 증가율</th>\n",
       "    </tr>\n",
       "  </thead>\n",
       "  <tbody>\n",
       "    <tr>\n",
       "      <th>서울</th>\n",
       "      <td>수도권</td>\n",
       "      <td>9904312</td>\n",
       "      <td>9631482</td>\n",
       "      <td>9762546</td>\n",
       "      <td>9853972</td>\n",
       "      <td>0.0283</td>\n",
       "    </tr>\n",
       "    <tr>\n",
       "      <th>부산</th>\n",
       "      <td>경상권</td>\n",
       "      <td>3448737</td>\n",
       "      <td>3393191</td>\n",
       "      <td>3512547</td>\n",
       "      <td>3655437</td>\n",
       "      <td>0.0163</td>\n",
       "    </tr>\n",
       "    <tr>\n",
       "      <th>인천</th>\n",
       "      <td>수도권</td>\n",
       "      <td>2890451</td>\n",
       "      <td>2632035</td>\n",
       "      <td>2517680</td>\n",
       "      <td>2466338</td>\n",
       "      <td>0.0982</td>\n",
       "    </tr>\n",
       "    <tr>\n",
       "      <th>대구</th>\n",
       "      <td>경상권</td>\n",
       "      <td>2466052</td>\n",
       "      <td>2431774</td>\n",
       "      <td>2456016</td>\n",
       "      <td>2473990</td>\n",
       "      <td>0.0141</td>\n",
       "    </tr>\n",
       "  </tbody>\n",
       "</table>\n",
       "</div>"
      ],
      "text/plain": [
       "     지역     2015     2010     2005     2000  2010-2015 증가율\n",
       "서울  수도권  9904312  9631482  9762546  9853972         0.0283\n",
       "부산  경상권  3448737  3393191  3512547  3655437         0.0163\n",
       "인천  수도권  2890451  2632035  2517680  2466338         0.0982\n",
       "대구  경상권  2466052  2431774  2456016  2473990         0.0141"
      ]
     },
     "execution_count": 105,
     "metadata": {},
     "output_type": "execute_result"
    }
   ],
   "source": [
    "data = {\n",
    "    \"2015\": [9904312, 3448737, 2890451, 2466052],\n",
    "    \"2010\": [9631482, 3393191, 2632035, 2431774],\n",
    "    \"2005\": [9762546, 3512547, 2517680, 2456016],\n",
    "    \"2000\": [9853972, 3655437, 2466338, 2473990],\n",
    "    \"지역\": [\"수도권\", \"경상권\", \"수도권\", \"경상권\"],\n",
    "    \"2010-2015 증가율\": [0.0283, 0.0163, 0.0982, 0.0141]\n",
    "}\n",
    "columns = [\"지역\", \"2015\", \"2010\", \"2005\", \"2000\", \"2010-2015 증가율\"]\n",
    "index = [\"서울\", \"부산\", \"인천\", \"대구\"]\n",
    "df = pd.DataFrame(data, index=index, columns=columns)\n",
    "print(df)\n",
    "df"
   ]
  },
  {
   "cell_type": "code",
   "execution_count": 69,
   "id": "a4c1c1b2-e1ef-42f1-a9dc-088e39a5b08d",
   "metadata": {},
   "outputs": [
    {
     "data": {
      "text/plain": [
       "array([['수도권', 9904312, 9631482, 9762546, 9853972, 0.0283],\n",
       "       ['경상권', 3448737, 3393191, 3512547, 3655437, 0.0163],\n",
       "       ['수도권', 2890451, 2632035, 2517680, 2466338, 0.0982],\n",
       "       ['경상권', 2466052, 2431774, 2456016, 2473990, 0.0141]], dtype=object)"
      ]
     },
     "execution_count": 69,
     "metadata": {},
     "output_type": "execute_result"
    }
   ],
   "source": [
    "df.values"
   ]
  },
  {
   "cell_type": "code",
   "execution_count": 73,
   "id": "059cace1-eb4a-464c-9d51-91f01e367322",
   "metadata": {},
   "outputs": [
    {
     "data": {
      "text/plain": [
       "Index(['지역', '2015', '2010', '2005', '2000', '2010-2015 증가율'], dtype='object')"
      ]
     },
     "execution_count": 73,
     "metadata": {},
     "output_type": "execute_result"
    }
   ],
   "source": [
    "df.columns"
   ]
  },
  {
   "cell_type": "code",
   "execution_count": 75,
   "id": "16bc8e85-09a1-4682-b9a1-e13d81d5c49d",
   "metadata": {},
   "outputs": [
    {
     "data": {
      "text/plain": [
       "Index(['서울', '부산', '인천', '대구'], dtype='object')"
      ]
     },
     "execution_count": 75,
     "metadata": {},
     "output_type": "execute_result"
    }
   ],
   "source": [
    "df.index"
   ]
  },
  {
   "cell_type": "code",
   "execution_count": 82,
   "id": "4c722631-6480-4af6-8ef7-d86810a760ea",
   "metadata": {},
   "outputs": [
    {
     "data": {
      "text/html": [
       "<div>\n",
       "<style scoped>\n",
       "    .dataframe tbody tr th:only-of-type {\n",
       "        vertical-align: middle;\n",
       "    }\n",
       "\n",
       "    .dataframe tbody tr th {\n",
       "        vertical-align: top;\n",
       "    }\n",
       "\n",
       "    .dataframe thead th {\n",
       "        text-align: right;\n",
       "    }\n",
       "</style>\n",
       "<table border=\"1\" class=\"dataframe\">\n",
       "  <thead>\n",
       "    <tr style=\"text-align: right;\">\n",
       "      <th>특성</th>\n",
       "      <th>지역</th>\n",
       "      <th>2015</th>\n",
       "      <th>2010</th>\n",
       "      <th>2005</th>\n",
       "      <th>2000</th>\n",
       "      <th>2010-2015 증가율</th>\n",
       "    </tr>\n",
       "    <tr>\n",
       "      <th>도시</th>\n",
       "      <th></th>\n",
       "      <th></th>\n",
       "      <th></th>\n",
       "      <th></th>\n",
       "      <th></th>\n",
       "      <th></th>\n",
       "    </tr>\n",
       "  </thead>\n",
       "  <tbody>\n",
       "    <tr>\n",
       "      <th>서울</th>\n",
       "      <td>수도권</td>\n",
       "      <td>9904312</td>\n",
       "      <td>9631482</td>\n",
       "      <td>9762546</td>\n",
       "      <td>9853972</td>\n",
       "      <td>0.0283</td>\n",
       "    </tr>\n",
       "    <tr>\n",
       "      <th>부산</th>\n",
       "      <td>경상권</td>\n",
       "      <td>3448737</td>\n",
       "      <td>3393191</td>\n",
       "      <td>3512547</td>\n",
       "      <td>3655437</td>\n",
       "      <td>0.0163</td>\n",
       "    </tr>\n",
       "    <tr>\n",
       "      <th>인천</th>\n",
       "      <td>수도권</td>\n",
       "      <td>2890451</td>\n",
       "      <td>2632035</td>\n",
       "      <td>2517680</td>\n",
       "      <td>2466338</td>\n",
       "      <td>0.0982</td>\n",
       "    </tr>\n",
       "    <tr>\n",
       "      <th>대구</th>\n",
       "      <td>경상권</td>\n",
       "      <td>2466052</td>\n",
       "      <td>2431774</td>\n",
       "      <td>2456016</td>\n",
       "      <td>2473990</td>\n",
       "      <td>0.0141</td>\n",
       "    </tr>\n",
       "  </tbody>\n",
       "</table>\n",
       "</div>"
      ],
      "text/plain": [
       "특성   지역     2015     2010     2005     2000  2010-2015 증가율\n",
       "도시                                                        \n",
       "서울  수도권  9904312  9631482  9762546  9853972         0.0283\n",
       "부산  경상권  3448737  3393191  3512547  3655437         0.0163\n",
       "인천  수도권  2890451  2632035  2517680  2466338         0.0982\n",
       "대구  경상권  2466052  2431774  2456016  2473990         0.0141"
      ]
     },
     "execution_count": 82,
     "metadata": {},
     "output_type": "execute_result"
    }
   ],
   "source": [
    "# index와 column에 이름을 붙이는 것도 가능하다 \n",
    "df.index.name = \"도시\"\n",
    "df.columns.name = \"특성\"\n",
    "df"
   ]
  },
  {
   "cell_type": "code",
   "execution_count": 106,
   "id": "5ce552ca-6d8a-470b-b4b9-42e055532062",
   "metadata": {},
   "outputs": [
    {
     "data": {
      "text/html": [
       "<div>\n",
       "<style scoped>\n",
       "    .dataframe tbody tr th:only-of-type {\n",
       "        vertical-align: middle;\n",
       "    }\n",
       "\n",
       "    .dataframe tbody tr th {\n",
       "        vertical-align: top;\n",
       "    }\n",
       "\n",
       "    .dataframe thead th {\n",
       "        text-align: right;\n",
       "    }\n",
       "</style>\n",
       "<table border=\"1\" class=\"dataframe\">\n",
       "  <thead>\n",
       "    <tr style=\"text-align: right;\">\n",
       "      <th></th>\n",
       "      <th>지역</th>\n",
       "      <th>2015</th>\n",
       "      <th>2010</th>\n",
       "      <th>2005</th>\n",
       "      <th>2000</th>\n",
       "      <th>2005-2010 증가율</th>\n",
       "    </tr>\n",
       "  </thead>\n",
       "  <tbody>\n",
       "    <tr>\n",
       "      <th>서울</th>\n",
       "      <td>수도권</td>\n",
       "      <td>9904312</td>\n",
       "      <td>9631482</td>\n",
       "      <td>9762546</td>\n",
       "      <td>9853972</td>\n",
       "      <td>-1.343</td>\n",
       "    </tr>\n",
       "    <tr>\n",
       "      <th>부산</th>\n",
       "      <td>경상권</td>\n",
       "      <td>3448737</td>\n",
       "      <td>3393191</td>\n",
       "      <td>3512547</td>\n",
       "      <td>3655437</td>\n",
       "      <td>-3.398</td>\n",
       "    </tr>\n",
       "    <tr>\n",
       "      <th>인천</th>\n",
       "      <td>수도권</td>\n",
       "      <td>2890451</td>\n",
       "      <td>2632035</td>\n",
       "      <td>2517680</td>\n",
       "      <td>2466338</td>\n",
       "      <td>4.542</td>\n",
       "    </tr>\n",
       "    <tr>\n",
       "      <th>대구</th>\n",
       "      <td>경상권</td>\n",
       "      <td>2466052</td>\n",
       "      <td>2431774</td>\n",
       "      <td>2456016</td>\n",
       "      <td>2473990</td>\n",
       "      <td>-0.987</td>\n",
       "    </tr>\n",
       "  </tbody>\n",
       "</table>\n",
       "</div>"
      ],
      "text/plain": [
       "     지역     2015     2010     2005     2000  2005-2010 증가율\n",
       "서울  수도권  9904312  9631482  9762546  9853972         -1.343\n",
       "부산  경상권  3448737  3393191  3512547  3655437         -3.398\n",
       "인천  수도권  2890451  2632035  2517680  2466338          4.542\n",
       "대구  경상권  2466052  2431774  2456016  2473990         -0.987"
      ]
     },
     "execution_count": 106,
     "metadata": {},
     "output_type": "execute_result"
    }
   ],
   "source": [
    "df['2005-2010 증가율'] = ((df['2010']-df['2005']) / df['2005']*100).round(3)\n",
    "del df['2010-2015 증가율']\n",
    "df"
   ]
  },
  {
   "cell_type": "markdown",
   "id": "56010ef9-cd73-498a-838c-912951db7939",
   "metadata": {},
   "source": [
    "### 열 인덱싱\n",
    "- column label을 key로 인덱싱이 가능하다.\n",
    "- 인덱싱한 type은 Series이다.\n",
    "- label을 배열 또는 여러개의 열을 indexing하면 DataFrame type이 된다.\n",
    "- 만약 하나의 열만 빼내면서 데이터프레임 자료형을 유지하고 싶다면 원소가 하나인 리스트를 써서 인덱싱하면 된다.\n",
    "- column index가 문자열 label인 경우에는 순서를 나타내느 정수 index를 column인덱싱에 사용할 수 없다.\n",
    "- 원래부터 정수형 column index를 가지는 경우에는 index값으로 정수를 사용할 수 있다."
   ]
  },
  {
   "cell_type": "code",
   "execution_count": 124,
   "id": "d637d084-40b6-49ea-9026-3508fb0d750b",
   "metadata": {},
   "outputs": [
    {
     "name": "stdout",
     "output_type": "stream",
     "text": [
      "     지역     2015     2010     2005     2000  2005-2010 증가율\n",
      "서울  수도권  9904312  9631482  9762546  9853972         -1.343\n",
      "부산  경상권  3448737  3393191  3512547  3655437         -3.398\n",
      "인천  수도권  2890451  2632035  2517680  2466338          4.542\n",
      "대구  경상권  2466052  2431774  2456016  2473990         -0.987\n",
      "서울    9631482\n",
      "부산    3393191\n",
      "인천    2632035\n",
      "대구    2431774\n",
      "Name: 2010, dtype: int64\n",
      "<class 'pandas.core.series.Series'>\n",
      "       2010     2005\n",
      "서울  9631482  9762546\n",
      "부산  3393191  3512547\n",
      "인천  2632035  2517680\n",
      "대구  2431774  2456016\n",
      "<class 'pandas.core.frame.DataFrame'>\n",
      "       2010\n",
      "서울  9631482\n",
      "부산  3393191\n",
      "인천  2632035\n",
      "대구  2431774\n",
      "<class 'pandas.core.frame.DataFrame'>\n"
     ]
    }
   ],
   "source": [
    "print(df)\n",
    "print(df['2010'] , type(df['지역']),sep=\"\\n\")# series type \n",
    "print(df[['2010','2005']], type(df[['2010','2005']]),sep=\"\\n\") # DataFrame type\n",
    "print(df[['2010']], type(df[[\"2010\"]]),sep='\\n') #DataFrame type\n",
    "# print(df[0]) #얘는 에러가 난다."
   ]
  },
  {
   "cell_type": "markdown",
   "id": "11f40601-d0f9-4309-8de5-ce6af0364e28",
   "metadata": {},
   "source": [
    "### DataFrame row 슬라이싱\n",
    "- row 단위로 인덱싱을 하고자 하면 항상 슬라이싱을 해야한다.\n",
    "- idnex값이 문자 label이라면 label 슬라이싱도 가능하다."
   ]
  },
  {
   "cell_type": "code",
   "execution_count": 135,
   "id": "cb54635b-d444-4554-97f7-c37d0b8d9202",
   "metadata": {},
   "outputs": [
    {
     "name": "stdout",
     "output_type": "stream",
     "text": [
      "     지역     2015     2010     2005     2000  2005-2010 증가율\n",
      "서울  수도권  9904312  9631482  9762546  9853972         -1.343\n",
      "     지역     2015     2010     2005     2000  2005-2010 증가율\n",
      "서울  수도권  9904312  9631482  9762546  9853972         -1.343\n",
      "<class 'pandas.core.frame.DataFrame'>\n"
     ]
    }
   ],
   "source": [
    "print(df[:1]) # 서울은 df에서 index가 '서울' 이자 0 이다.\n",
    "print(df[:'서울'], type(df[:'서울']),sep = \"\\n\") #반환 type은 DataFrame이 된다."
   ]
  },
  {
   "attachments": {
    "0e2f70c4-1a2d-49a7-8c33-206612d5f647.png": {
     "image/png": "[encoded data removed]"
    }
   },
   "cell_type": "markdown",
   "id": "ebc3bf9a-cc97-4014-9589-d0546f2f363a",
   "metadata": {},
   "source": [
    "### 개별 데이터 인덱싱\n",
    "- DataFrame에서 열 라벨로 시리즈를 인덱싱하고 이를 다시 행 라벨로 인덱싱하면 개별 데이터가 나온다.\n",
    "- 반대순서로 인덱싱을 짜면 KeyError가 발생한다. 행 라벨 인덱싱은 무조건 DataFrame형태로 데이터가 나오기 때문임.\n",
    "\n",
    "### DataFrame 인덱싱정리사진 \n",
    "![image.png](attachment:0e2f70c4-1a2d-49a7-8c33-206612d5f647.png)\n"
   ]
  },
  {
   "cell_type": "code",
   "execution_count": 132,
   "id": "3f109b7a-8894-4fa8-9889-4084e7869cf7",
   "metadata": {},
   "outputs": [
    {
     "data": {
      "text/plain": [
       "9904312"
      ]
     },
     "execution_count": 132,
     "metadata": {},
     "output_type": "execute_result"
    }
   ],
   "source": [
    "df['2015']['서울']"
   ]
  },
  {
   "cell_type": "code",
   "execution_count": 210,
   "id": "9c35d6b9-8f96-49dd-ba66-b0e589a2b47e",
   "metadata": {},
   "outputs": [
    {
     "name": "stdout",
     "output_type": "stream",
     "text": [
      "    국어  영어  수학     평균\n",
      "춘향  80  90  90  86.67\n",
      "몽룡  90  70  60  73.33\n",
      "향단  70  60  80  70.00\n",
      "방자  30  80  70  60.00\n",
      "국어    70.0\n",
      "영어    60.0\n",
      "수학    80.0\n",
      "평균    70.0\n",
      "Name: 향단, dtype: float64\n",
      "국어    70.0\n",
      "영어    60.0\n",
      "수학    80.0\n",
      "평균    70.0\n",
      "Name: 향단, dtype: float64\n",
      "<class 'pandas.core.series.Series'>\n"
     ]
    }
   ],
   "source": [
    "data = {\n",
    "    \"국어\": [80, 90, 70, 30],\n",
    "    \"영어\": [90, 70, 60, 40],\n",
    "    \"수학\": [90, 60, 80, 70],\n",
    "}\n",
    "columns = [\"국어\", \"영어\", \"수학\"]\n",
    "index = [\"춘향\", \"몽룡\", \"향단\", \"방자\"]\n",
    "df = pd.DataFrame(data, index=index, columns=columns)\n",
    "\n",
    "# 방자의 영어값을 바꾸고 평균을 구해라\n",
    "df['영어']['방자'] = 80\n",
    "df['평균'] = ((df['국어']+df['영어']+df['수학'])/3).round(2)\n",
    "print(df)\n",
    "\n",
    "# '향단' 의 점수를 Series 형태로 출력해라 (그냥 행 slicing하면 DataFrame type임.)\n",
    "ser = pd.Series([df['국어']['향단'],df['영어']['향단'],df['수학']['향단'],df['평균']['향단']],index =['국어','영어','수학','평균'])\n",
    "ser.name = '향단'\n",
    "print(ser)\n",
    "print(df.T['향단'])\n",
    "print(type(df.T['향단']))"
   ]
  },
  {
   "cell_type": "code",
   "execution_count": 224,
   "id": "9deea10d-60cd-43d1-94c4-f7e4ee9254a2",
   "metadata": {},
   "outputs": [
    {
     "data": {
      "text/html": [
       "<div>\n",
       "<style scoped>\n",
       "    .dataframe tbody tr th:only-of-type {\n",
       "        vertical-align: middle;\n",
       "    }\n",
       "\n",
       "    .dataframe tbody tr th {\n",
       "        vertical-align: top;\n",
       "    }\n",
       "\n",
       "    .dataframe thead th {\n",
       "        text-align: right;\n",
       "    }\n",
       "</style>\n",
       "<table border=\"1\" class=\"dataframe\">\n",
       "  <thead>\n",
       "    <tr style=\"text-align: right;\">\n",
       "      <th></th>\n",
       "      <th>A</th>\n",
       "      <th>B</th>\n",
       "      <th>C</th>\n",
       "      <th>D</th>\n",
       "    </tr>\n",
       "  </thead>\n",
       "  <tbody>\n",
       "    <tr>\n",
       "      <th>2013-02-26</th>\n",
       "      <td>1.764052</td>\n",
       "      <td>0.400157</td>\n",
       "      <td>0.978738</td>\n",
       "      <td>2.240893</td>\n",
       "    </tr>\n",
       "    <tr>\n",
       "      <th>2013-02-27</th>\n",
       "      <td>1.867558</td>\n",
       "      <td>-0.977278</td>\n",
       "      <td>0.950088</td>\n",
       "      <td>-0.151357</td>\n",
       "    </tr>\n",
       "    <tr>\n",
       "      <th>2013-02-28</th>\n",
       "      <td>-0.103219</td>\n",
       "      <td>0.410599</td>\n",
       "      <td>0.144044</td>\n",
       "      <td>1.454274</td>\n",
       "    </tr>\n",
       "    <tr>\n",
       "      <th>2013-03-01</th>\n",
       "      <td>0.761038</td>\n",
       "      <td>0.121675</td>\n",
       "      <td>0.443863</td>\n",
       "      <td>0.333674</td>\n",
       "    </tr>\n",
       "    <tr>\n",
       "      <th>2013-03-02</th>\n",
       "      <td>1.494079</td>\n",
       "      <td>-0.205158</td>\n",
       "      <td>0.313068</td>\n",
       "      <td>-0.854096</td>\n",
       "    </tr>\n",
       "    <tr>\n",
       "      <th>2013-03-03</th>\n",
       "      <td>-2.552990</td>\n",
       "      <td>0.653619</td>\n",
       "      <td>0.864436</td>\n",
       "      <td>-0.742165</td>\n",
       "    </tr>\n",
       "  </tbody>\n",
       "</table>\n",
       "</div>"
      ],
      "text/plain": [
       "                   A         B         C         D\n",
       "2013-02-26  1.764052  0.400157  0.978738  2.240893\n",
       "2013-02-27  1.867558 -0.977278  0.950088 -0.151357\n",
       "2013-02-28 -0.103219  0.410599  0.144044  1.454274\n",
       "2013-03-01  0.761038  0.121675  0.443863  0.333674\n",
       "2013-03-02  1.494079 -0.205158  0.313068 -0.854096\n",
       "2013-03-03 -2.552990  0.653619  0.864436 -0.742165"
      ]
     },
     "execution_count": 224,
     "metadata": {},
     "output_type": "execute_result"
    }
   ],
   "source": [
    "import numpy as np\n",
    "np.random.seed(0)\n",
    "value = np.random.randn(6,4)\n",
    "pd.DataFrame(value,index = pd.date_range(\"20130226\",periods=6),columns =list('ABCD') )"
   ]
  },
  {
   "cell_type": "code",
   "execution_count": null,
   "id": "61483076-bdf3-46a9-a46c-db8a06c205a6",
   "metadata": {},
   "outputs": [],
   "source": []
  },
  {
   "cell_type": "code",
   "execution_count": null,
   "id": "9844aaf9-674a-4379-b47c-3d6ee58dfec3",
   "metadata": {},
   "outputs": [],
   "source": []
  },
  {
   "cell_type": "code",
   "execution_count": null,
   "id": "a637a682-d9c6-4da1-9f0f-f3c9dc262b63",
   "metadata": {},
   "outputs": [],
   "source": []
  },
  {
   "cell_type": "code",
   "execution_count": null,
   "id": "dab0b3db-3c7d-4e04-acb2-c8367a80e6e0",
   "metadata": {},
   "outputs": [],
   "source": []
  },
  {
   "cell_type": "code",
   "execution_count": null,
   "id": "8ddc2c43-3dca-4af0-b95d-cc55b1283380",
   "metadata": {},
   "outputs": [],
   "source": []
  },
  {
   "cell_type": "code",
   "execution_count": null,
   "id": "1d04f337-1d74-4068-ae59-8d57c9e84d1f",
   "metadata": {},
   "outputs": [],
   "source": []
  },
  {
   "cell_type": "code",
   "execution_count": null,
   "id": "42c42315-b26e-485b-b798-efcb3f2fbccb",
   "metadata": {},
   "outputs": [],
   "source": []
  },
  {
   "cell_type": "code",
   "execution_count": null,
   "id": "acf9482f-e21c-418a-81d3-fb9b416cc575",
   "metadata": {},
   "outputs": [],
   "source": []
  },
  {
   "cell_type": "code",
   "execution_count": null,
   "id": "87371e52-d849-4bd7-a0f2-6555d4613b55",
   "metadata": {},
   "outputs": [],
   "source": []
  },
  {
   "cell_type": "code",
   "execution_count": null,
   "id": "a686ce75-c2e2-4b7c-b684-3686db935582",
   "metadata": {},
   "outputs": [],
   "source": []
  },
  {
   "cell_type": "code",
   "execution_count": null,
   "id": "be0107b8-8b4d-4026-aa10-a6cb4ee467dd",
   "metadata": {},
   "outputs": [],
   "source": []
  },
  {
   "cell_type": "code",
   "execution_count": null,
   "id": "8275f4ad-2b6b-47e8-8e80-2a57dc830222",
   "metadata": {},
   "outputs": [],
   "source": []
  },
  {
   "cell_type": "code",
   "execution_count": null,
   "id": "ceb87f5a-f99e-41d5-9702-8d5cd88a81d4",
   "metadata": {},
   "outputs": [],
   "source": []
  },
  {
   "cell_type": "code",
   "execution_count": null,
   "id": "5ce73f77-a661-44ae-a69c-aee2b9fe00df",
   "metadata": {},
   "outputs": [],
   "source": []
  },
  {
   "cell_type": "code",
   "execution_count": null,
   "id": "dd654bb3-4d09-4927-a5cd-aa483a18fdf6",
   "metadata": {},
   "outputs": [],
   "source": []
  },
  {
   "cell_type": "code",
   "execution_count": null,
   "id": "cc303a35-f208-4613-9d1a-b2cf4522f530",
   "metadata": {},
   "outputs": [],
   "source": []
  },
  {
   "cell_type": "code",
   "execution_count": null,
   "id": "ed3b8baa-c9ac-4c83-bcf8-43267c23261f",
   "metadata": {},
   "outputs": [],
   "source": []
  },
  {
   "cell_type": "code",
   "execution_count": null,
   "id": "03718b98-7d81-4423-aa56-70ac16c6d4fc",
   "metadata": {},
   "outputs": [],
   "source": []
  },
  {
   "cell_type": "code",
   "execution_count": null,
   "id": "c5ef8a33-d9c8-4c76-a726-8e973626bfa6",
   "metadata": {},
   "outputs": [],
   "source": []
  },
  {
   "cell_type": "code",
   "execution_count": null,
   "id": "e958788b-16d2-4258-8b19-3cde8b5e1702",
   "metadata": {},
   "outputs": [],
   "source": []
  },
  {
   "cell_type": "code",
   "execution_count": null,
   "id": "7e5fcca8-1298-4654-81d7-72bcacf99844",
   "metadata": {},
   "outputs": [],
   "source": []
  },
  {
   "cell_type": "code",
   "execution_count": null,
   "id": "f7e89cd3-edec-49c2-bc43-e8c0c603aec7",
   "metadata": {},
   "outputs": [],
   "source": []
  },
  {
   "cell_type": "code",
   "execution_count": null,
   "id": "6d61fc82-7dd0-406e-8596-7c2c4b26fb08",
   "metadata": {},
   "outputs": [],
   "source": []
  },
  {
   "cell_type": "code",
   "execution_count": null,
   "id": "26b15fdd-27a2-4fd0-97dd-ae31dd8ff45a",
   "metadata": {},
   "outputs": [],
   "source": []
  },
  {
   "cell_type": "code",
   "execution_count": null,
   "id": "c3248545-ef40-4cf9-a4e8-95e9b5076c2f",
   "metadata": {},
   "outputs": [],
   "source": []
  },
  {
   "cell_type": "code",
   "execution_count": null,
   "id": "8f316131-f2d7-4b4c-864a-3529f9662d0b",
   "metadata": {},
   "outputs": [],
   "source": []
  },
  {
   "cell_type": "code",
   "execution_count": null,
   "id": "b26d03c8-68b8-4bc8-ab01-4e4f7e0868cd",
   "metadata": {},
   "outputs": [],
   "source": []
  },
  {
   "cell_type": "code",
   "execution_count": null,
   "id": "4557d612-f34b-4a88-ac4c-deddfa5d1d08",
   "metadata": {},
   "outputs": [],
   "source": []
  },
  {
   "cell_type": "code",
   "execution_count": null,
   "id": "2d82a225-2e99-43a0-9a40-ebc443200950",
   "metadata": {},
   "outputs": [],
   "source": []
  },
  {
   "cell_type": "code",
   "execution_count": null,
   "id": "6cc759fc-96e4-448a-807b-134a65b65f82",
   "metadata": {},
   "outputs": [],
   "source": []
  },
  {
   "cell_type": "code",
   "execution_count": null,
   "id": "097347a7-b3b9-40f9-a378-b3099587ebfc",
   "metadata": {},
   "outputs": [],
   "source": []
  },
  {
   "cell_type": "code",
   "execution_count": null,
   "id": "2a83405d-7fc8-40e7-a422-584091b8d974",
   "metadata": {},
   "outputs": [],
   "source": []
  },
  {
   "cell_type": "code",
   "execution_count": null,
   "id": "64f79174-5926-470e-b9e6-238e38532f33",
   "metadata": {},
   "outputs": [],
   "source": []
  },
  {
   "cell_type": "code",
   "execution_count": null,
   "id": "4d20e5fc-2b21-47e9-b184-d8e3fa61e291",
   "metadata": {},
   "outputs": [],
   "source": []
  },
  {
   "cell_type": "code",
   "execution_count": null,
   "id": "7f74bc03-33dc-4647-99e6-7c66b6931dfa",
   "metadata": {},
   "outputs": [],
   "source": []
  },
  {
   "cell_type": "code",
   "execution_count": null,
   "id": "a3aeebdd-0fac-4636-9290-5339c4b7acbf",
   "metadata": {},
   "outputs": [],
   "source": []
  },
  {
   "cell_type": "code",
   "execution_count": null,
   "id": "68cb803a-ef6e-41c8-b137-67834c232bd7",
   "metadata": {},
   "outputs": [],
   "source": []
  },
  {
   "cell_type": "code",
   "execution_count": null,
   "id": "baa4a109-3a08-4df4-b0ba-89c4b293147d",
   "metadata": {},
   "outputs": [],
   "source": []
  },
  {
   "cell_type": "code",
   "execution_count": null,
   "id": "10c964d8-8ddf-440f-a36e-a0243b06f33a",
   "metadata": {},
   "outputs": [],
   "source": []
  },
  {
   "cell_type": "code",
   "execution_count": null,
   "id": "f1a97495-53ba-4ef9-a489-e0520a40124d",
   "metadata": {},
   "outputs": [],
   "source": []
  },
  {
   "cell_type": "code",
   "execution_count": null,
   "id": "1cdb84ee-d16b-4f7b-a1e4-e1a10580b476",
   "metadata": {},
   "outputs": [],
   "source": []
  },
  {
   "cell_type": "code",
   "execution_count": null,
   "id": "44c6480c-be53-44ba-81dc-62f3d92e812c",
   "metadata": {},
   "outputs": [],
   "source": []
  },
  {
   "cell_type": "code",
   "execution_count": null,
   "id": "ecf54e38-4862-4bae-bd3b-6d26ca9780ea",
   "metadata": {},
   "outputs": [],
   "source": []
  },
  {
   "cell_type": "code",
   "execution_count": null,
   "id": "b482c9d9-7834-424e-bf84-5904c7e7aaba",
   "metadata": {},
   "outputs": [],
   "source": []
  },
  {
   "cell_type": "code",
   "execution_count": null,
   "id": "e96b4276-4769-4e60-95fb-36a3a97095a6",
   "metadata": {},
   "outputs": [],
   "source": []
  },
  {
   "cell_type": "code",
   "execution_count": null,
   "id": "d7bc2bd1-2622-4f60-af40-93b155d0ec09",
   "metadata": {},
   "outputs": [],
   "source": []
  },
  {
   "cell_type": "code",
   "execution_count": null,
   "id": "78a3406e-53b0-4194-84ef-55a3f0a63f94",
   "metadata": {},
   "outputs": [],
   "source": []
  },
  {
   "cell_type": "code",
   "execution_count": null,
   "id": "d87294a6-1147-464a-9973-251a8cce53ad",
   "metadata": {},
   "outputs": [],
   "source": []
  },
  {
   "cell_type": "code",
   "execution_count": null,
   "id": "c7cf2f70-297d-40ee-964f-351818ba3646",
   "metadata": {},
   "outputs": [],
   "source": []
  },
  {
   "cell_type": "code",
   "execution_count": null,
   "id": "94546cdd-7c09-4981-84e6-26eb9ab458ca",
   "metadata": {},
   "outputs": [],
   "source": []
  },
  {
   "cell_type": "code",
   "execution_count": null,
   "id": "2caf39d4-c27c-4bd9-95e4-01417a05a356",
   "metadata": {},
   "outputs": [],
   "source": []
  },
  {
   "cell_type": "code",
   "execution_count": null,
   "id": "8bc561d3-2304-49d0-b008-d3c093d5b9e3",
   "metadata": {},
   "outputs": [],
   "source": []
  },
  {
   "cell_type": "code",
   "execution_count": null,
   "id": "2482b145-d174-47b1-90d2-e8ff645dbe89",
   "metadata": {},
   "outputs": [],
   "source": []
  },
  {
   "cell_type": "code",
   "execution_count": null,
   "id": "4e66eacc-832f-4b89-8483-ddee62da6989",
   "metadata": {},
   "outputs": [],
   "source": []
  },
  {
   "cell_type": "code",
   "execution_count": null,
   "id": "772b2f43-5afa-4f76-bbac-a4c8c952e537",
   "metadata": {},
   "outputs": [],
   "source": []
  },
  {
   "cell_type": "code",
   "execution_count": null,
   "id": "c80bde87-3dfc-424d-abc7-ecb4d82937a4",
   "metadata": {},
   "outputs": [],
   "source": []
  },
  {
   "cell_type": "code",
   "execution_count": null,
   "id": "95fb8b48-0b7a-4668-b712-0f9b59b86a1b",
   "metadata": {},
   "outputs": [],
   "source": []
  },
  {
   "cell_type": "code",
   "execution_count": null,
   "id": "81195345-4c00-4ff5-aaf8-5a529a75a822",
   "metadata": {},
   "outputs": [],
   "source": []
  },
  {
   "cell_type": "code",
   "execution_count": null,
   "id": "1bcba173-25d0-4fe4-99a0-f6c9969abb53",
   "metadata": {},
   "outputs": [],
   "source": []
  },
  {
   "cell_type": "code",
   "execution_count": null,
   "id": "e9682616-12c9-468c-a243-8a1c5347d9c7",
   "metadata": {},
   "outputs": [],
   "source": []
  },
  {
   "cell_type": "code",
   "execution_count": null,
   "id": "9c9ca2a9-922d-48c7-a6de-59319f641329",
   "metadata": {},
   "outputs": [],
   "source": []
  },
  {
   "cell_type": "code",
   "execution_count": null,
   "id": "ea441f17-81b6-41e9-aced-dd1ee31384df",
   "metadata": {},
   "outputs": [],
   "source": []
  },
  {
   "cell_type": "code",
   "execution_count": null,
   "id": "d0c07754-070e-4d9a-a034-5b32e41617b0",
   "metadata": {},
   "outputs": [],
   "source": []
  },
  {
   "cell_type": "code",
   "execution_count": null,
   "id": "adc3b439-1ae2-4987-8aa5-8922d81b27f3",
   "metadata": {},
   "outputs": [],
   "source": []
  },
  {
   "cell_type": "code",
   "execution_count": null,
   "id": "9d475d8b-02f9-456b-9275-bba2da4cabe4",
   "metadata": {},
   "outputs": [],
   "source": []
  },
  {
   "cell_type": "code",
   "execution_count": null,
   "id": "fd8d69bd-577d-4db4-a7a7-c2c7b4c6f50a",
   "metadata": {},
   "outputs": [],
   "source": []
  },
  {
   "cell_type": "code",
   "execution_count": null,
   "id": "28395201-e0ad-4cea-852e-63b83dc3f870",
   "metadata": {},
   "outputs": [],
   "source": []
  },
  {
   "cell_type": "code",
   "execution_count": null,
   "id": "abb76137-1486-4976-84c5-a7eada6a1605",
   "metadata": {},
   "outputs": [],
   "source": []
  },
  {
   "cell_type": "code",
   "execution_count": null,
   "id": "56560466-898d-4d18-8d57-f3fc1daf378a",
   "metadata": {},
   "outputs": [],
   "source": []
  },
  {
   "cell_type": "code",
   "execution_count": null,
   "id": "6eba2bdd-d12a-4bdc-a8be-c9abb1676499",
   "metadata": {},
   "outputs": [],
   "source": []
  },
  {
   "cell_type": "code",
   "execution_count": null,
   "id": "4d630bd6-7f8d-488e-89e8-05cab45a8d77",
   "metadata": {},
   "outputs": [],
   "source": []
  },
  {
   "cell_type": "code",
   "execution_count": null,
   "id": "3c1a1245-b267-4988-ae8c-7f94af64afe2",
   "metadata": {},
   "outputs": [],
   "source": []
  },
  {
   "cell_type": "code",
   "execution_count": null,
   "id": "f65993b0-f162-423d-8f8b-9a50f8473873",
   "metadata": {},
   "outputs": [],
   "source": []
  },
  {
   "cell_type": "code",
   "execution_count": null,
   "id": "3d8724a7-85ba-4f0f-8afe-1e3e889aadf1",
   "metadata": {},
   "outputs": [],
   "source": []
  }
 ],
 "metadata": {
  "kernelspec": {
   "display_name": "Python 3 (ipykernel)",
   "language": "python",
   "name": "python3"
  },
  "language_info": {
   "codemirror_mode": {
    "name": "ipython",
    "version": 3
   },
   "file_extension": ".py",
   "mimetype": "text/x-python",
   "name": "python",
   "nbconvert_exporter": "python",
   "pygments_lexer": "ipython3",
   "version": "3.9.13"
  }
 },
 "nbformat": 4,
 "nbformat_minor": 5
}
