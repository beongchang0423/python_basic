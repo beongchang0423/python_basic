{
 "cells": [
  {
   "cell_type": "markdown",
   "id": "7cedc074-8357-4692-9aa1-72d0afaa3e9b",
   "metadata": {},
   "source": [
    "### 함수\n",
    "- 반복적인 코드의 양을 줄여 유지보수성을 높여준다.\n",
    "- snake case로 이름짓는것을 추천\n",
    "- argument = 인수(함수 호출부) , parameter = 인자(=매개변수,함수 정의부) , return = 반환값\n",
    "- 파이썬 함수는 overloading이 안된다. = 같은 함수이름을 가지지만 시그니처(매개변수)는 달라서 구분하는 방식.\n",
    "- class에 있어서 객체를 통해 호출되면 method이고( ~.으로 호출하면 method이다.) \n",
    "- class 밖에 있으면 Function이다.(list, length, print ...)\n",
    "- 기본값 설정이 가능하다. 인수(호출부에서 들어오는놈)가 비었다면 기본값을 사용한다. def get_grade(score = 60): pass 와 같으면 기본값 = 60, 기본값을 갖는 parameter는 parameter들 중 가장 뒤에 선언되어야 한다.\n",
    "\n",
    "### 함수 인자 선언방식 \n",
    "1. 위치 키워드 = 위치로 혹은 키워드로 전달될 수 있는 인자(매개변수의 기본 형태) 기본값이 없는 argument(위치 방식),기본값이 있는 argument(키워드 방식) 둘다 된다는 소리\n",
    "2. 위치 전용 =   /문자를 기준으로 좌측에 위치한 인자를 말함 \n",
    "3. 키워드 전용 = * 문자를 기준으로 우측에 위치한 인자를 말함 \n",
    "4. 가변 위치 =   위치 매개변수 외에 추가적인 위치 매개변수를 개수에 상관없이 받을 수 있다.(변수명 앞에 *를 붙여 표기\n",
    "5. 가변 키워드 = 키워드 매개변수 외에 추가적인 키워드 매개변수를 개수에 상관없이 받을 수 있습니다.(변수명 앞에 **를 붙여 표기) = 딕셔너리 형태로 만들어준다."
   ]
  },
  {
   "cell_type": "code",
   "execution_count": 72,
   "id": "1ce18449-688f-45f9-a85e-8cb1d9b7f63e",
   "metadata": {},
   "outputs": [
    {
     "name": "stdin",
     "output_type": "stream",
     "text": [
      "찾는 범위:  100\n"
     ]
    },
    {
     "name": "stdout",
     "output_type": "stream",
     "text": [
      "2 3 5 7 11 13 17 \n",
      "19 23 29 31 37 41 43 \n",
      "47 53 59 61 67 71 73 \n",
      "79 83 89 97 "
     ]
    }
   ],
   "source": [
    "def isPrime(num):\n",
    "    primes = [False, False] + [True]*(num-1)\n",
    "    for i in range(2, num+1):\n",
    "        if primes[i]:\n",
    "            for _ in range(i * 2, num+1, i):\n",
    "                primes[_] = False\n",
    "    return primes[num]\n",
    "\n",
    "get = int(input('찾는 범위: '))\n",
    "lst = [_ for _ in range(2, get) if isPrime(_)]\n",
    "count = 0\n",
    "for _ in lst:\n",
    "    count+=1\n",
    "    print(_,end=\" \")\n",
    "    if count%7 == 0:\n",
    "        print()"
   ]
  },
  {
   "cell_type": "code",
   "execution_count": 144,
   "id": "c06d7bbb-cb7e-4fc1-9f2e-a68289ea2409",
   "metadata": {},
   "outputs": [
    {
     "name": "stdout",
     "output_type": "stream",
     "text": [
      "200,민병창의 성적을 확인합니다.\n"
     ]
    },
    {
     "data": {
      "text/plain": [
       "'A'"
      ]
     },
     "execution_count": 144,
     "metadata": {},
     "output_type": "execute_result"
    }
   ],
   "source": [
    "def get_grade(score, std_num, name = \"민병창\"): # 1. 기본 방식. positional + keyword\n",
    "    \"\"\"\n",
    "    숫자로된 점수를 넣으시면 학점의 결과를 반환합니다.\n",
    "    \"\"\"\n",
    "    print(\"{},{}의 성적을 확인합니다.\".format(std_num,name))\n",
    "    if 85 <= score <= 100:\n",
    "        return 'A'\n",
    "    elif 70 <= score <= 84:\n",
    "        return 'B'\n",
    "    elif 55 <= score <= 69:\n",
    "        return \"C\"\n",
    "    elif 40 <= score <= 54:\n",
    "        return \"D\"\n",
    "    elif 0 <= score <= 39:\n",
    "        return \"E\"\n",
    "\n",
    "get_grade(100,std_num = 200) # score는 positional하게, std_num 은 keyword형식으로, name은 default값으로 잘 들어간다."
   ]
  },
  {
   "cell_type": "code",
   "execution_count": 147,
   "id": "97349c42-24b1-4c4e-b987-96383dd2dab6",
   "metadata": {},
   "outputs": [
    {
     "ename": "SyntaxError",
     "evalue": "non-default argument follows default argument (2235999823.py, line 1)",
     "output_type": "error",
     "traceback": [
      "\u001b[1;36m  File \u001b[1;32m\"C:\\Users\\민병창\\AppData\\Local\\Temp\\ipykernel_13744\\2235999823.py\"\u001b[1;36m, line \u001b[1;32m1\u001b[0m\n\u001b[1;33m    def add_number(number1=10,/,number2): # 2.positional only(number1은 positional only로 설정됨. / 기준 왼쪽)\u001b[0m\n\u001b[1;37m                                       ^\u001b[0m\n\u001b[1;31mSyntaxError\u001b[0m\u001b[1;31m:\u001b[0m non-default argument follows default argument\n"
     ]
    }
   ],
   "source": [
    "def add_number(number1,/,number2): # 2.positional only(number1은 positional only로 설정됨. / 기준 왼쪽)\n",
    "    '''\n",
    "    숫자 number1 과 숫자 number2를 전달 받아 더한 값을 반환합니다.\n",
    "    '''\n",
    "    return number1 + number2\n",
    "print(add_number(10,number2 = 20)) #애는 정상실행\n",
    "print(add_number(number1 = 10,number2 = 20)) # 얘는 TypeError발생."
   ]
  },
  {
   "cell_type": "code",
   "execution_count": 149,
   "id": "27172402-27e7-4762-8527-e0403f6bb88a",
   "metadata": {},
   "outputs": [
    {
     "name": "stdout",
     "output_type": "stream",
     "text": [
      "30\n"
     ]
    },
    {
     "ename": "TypeError",
     "evalue": "add_number() takes 1 positional argument but 2 were given",
     "output_type": "error",
     "traceback": [
      "\u001b[1;31m---------------------------------------------------------------------------\u001b[0m",
      "\u001b[1;31mTypeError\u001b[0m                                 Traceback (most recent call last)",
      "\u001b[1;32m~\\AppData\\Local\\Temp\\ipykernel_5820\\815561139.py\u001b[0m in \u001b[0;36m<module>\u001b[1;34m\u001b[0m\n\u001b[0;32m      5\u001b[0m     \u001b[1;32mreturn\u001b[0m \u001b[0mnumber1\u001b[0m \u001b[1;33m+\u001b[0m \u001b[0mnumber2\u001b[0m\u001b[1;33m\u001b[0m\u001b[1;33m\u001b[0m\u001b[0m\n\u001b[0;32m      6\u001b[0m \u001b[0mprint\u001b[0m\u001b[1;33m(\u001b[0m\u001b[0madd_number\u001b[0m\u001b[1;33m(\u001b[0m\u001b[1;36m10\u001b[0m\u001b[1;33m,\u001b[0m\u001b[0mnumber2\u001b[0m \u001b[1;33m=\u001b[0m \u001b[1;36m20\u001b[0m\u001b[1;33m)\u001b[0m\u001b[1;33m)\u001b[0m \u001b[1;31m#애는 정상실행\u001b[0m\u001b[1;33m\u001b[0m\u001b[1;33m\u001b[0m\u001b[0m\n\u001b[1;32m----> 7\u001b[1;33m \u001b[0mprint\u001b[0m\u001b[1;33m(\u001b[0m\u001b[0madd_number\u001b[0m\u001b[1;33m(\u001b[0m\u001b[1;36m10\u001b[0m\u001b[1;33m,\u001b[0m\u001b[1;36m20\u001b[0m\u001b[1;33m)\u001b[0m\u001b[1;33m)\u001b[0m \u001b[1;31m# 얘는 TypeError발생.\u001b[0m\u001b[1;33m\u001b[0m\u001b[1;33m\u001b[0m\u001b[0m\n\u001b[0m",
      "\u001b[1;31mTypeError\u001b[0m: add_number() takes 1 positional argument but 2 were given"
     ]
    }
   ],
   "source": [
    "def add_number(number1,*,number2 = 20): # 3.keyword only(number2는 keyword only 로 설정됨. *기준 오른쪽)\n",
    "    '''\n",
    "    숫자 number1 과 숫자 number2를 전달 받아 더한 값을 반환합니다.\n",
    "    '''\n",
    "    return number1 + number2\n",
    "print(add_number(10,number2 = 20)) #애는 정상실행\n",
    "print(add_number(10,20)) # 얘는 TypeError발생."
   ]
  },
  {
   "cell_type": "code",
   "execution_count": 29,
   "id": "e7145192-44e2-4b67-a9cd-60e29f8a3f15",
   "metadata": {},
   "outputs": [],
   "source": [
    "def add_number(number1,/,*,number2 = 20): # 3,4.왼쪽 positional only , 오른쪽keyword only\n",
    "    '''\n",
    "    숫자 number1 과 숫자 number2를 전달 받아 더한 값을 반환합니다.\n",
    "    '''\n",
    "    return number1 + number2\n",
    "print(add_number(10,number2 = 20)) #애는 정상실행\n",
    "print(add_number(10,20)) # 얘는 TypeError발생."
   ]
  },
  {
   "cell_type": "code",
   "execution_count": 30,
   "id": "14fe9f43-3c6a-48d6-8519-8121183c1401",
   "metadata": {},
   "outputs": [
    {
     "name": "stdout",
     "output_type": "stream",
     "text": [
      "************************구분************************\n"
     ]
    }
   ],
   "source": [
    "def string_line(str_value,/,str_len=70,*,sep=\"#\"):#3,4.왼쪽 positional only ,가운데 1.기본값 오른쪽keyword only\n",
    "    '''\n",
    "    str_value는 가운데 오는 텍스트입니다.\n",
    "    str_len은 텍스트의 설정할 길이입니다.\n",
    "    sep는 구분선을 그을 떄 쓰는 문자입니다.\n",
    "    '''\n",
    "    print(str_value.center(str_len, sep))\n",
    "          \n",
    "string_line('구분',str_len = 50, sep = \"*\")"
   ]
  },
  {
   "cell_type": "code",
   "execution_count": 23,
   "id": "bb234796-ee08-4c25-a659-0544be634430",
   "metadata": {},
   "outputs": [
    {
     "name": "stdout",
     "output_type": "stream",
     "text": [
      "1 2\n",
      "(3, 4, 5, 6, 7, 8, 9)\n",
      "\n",
      "    doc string 입니다.\n",
      "    \n"
     ]
    }
   ],
   "source": [
    "def hell(a,b,*lst): # 4.가변 positional 방식(*args로 사용)\n",
    "    '''\n",
    "    doc string 입니다.\n",
    "    '''\n",
    "    print(a,b)\n",
    "    print(lst)\n",
    "hell(1,2,3,4,5,6,7,8,9)\n",
    "\n",
    "print(hell.__doc__)\n",
    "\n",
    "def functional_name(positional, positional2,*arguments, keyword = 1, **keywordarguments):\n",
    "    pass"
   ]
  },
  {
   "cell_type": "code",
   "execution_count": 33,
   "id": "506b8c55-6e71-4046-964d-c8ecbb0eea73",
   "metadata": {},
   "outputs": [
    {
     "name": "stdout",
     "output_type": "stream",
     "text": [
      "ab bc\n",
      "<class 'dict'>\n",
      "{'key': 'value', 'key2': 'value2'}\n"
     ]
    }
   ],
   "source": [
    "def test_func2(a=\"a\",b=\"b\",**kargs): # 5.가변 keyword (**args로 사용)\n",
    "    print(a,b)\n",
    "    print(type(kargs))\n",
    "    print(kargs)\n",
    "    \n",
    "test_func2(a=\"ab\",b=\"bc\",key=\"value\",key2 = \"value2\")"
   ]
  },
  {
   "cell_type": "code",
   "execution_count": 34,
   "id": "2d983aa4-9ee9-4737-b6b4-416174c38fbc",
   "metadata": {},
   "outputs": [
    {
     "name": "stdout",
     "output_type": "stream",
     "text": [
      "80\n"
     ]
    }
   ],
   "source": [
    "def plus_ten(n):\n",
    "    return n+10\n",
    "print(plus_ten(70))"
   ]
  },
  {
   "cell_type": "code",
   "execution_count": 19,
   "id": "2b0b23c7-6063-423c-a47e-eb000b9e3eda",
   "metadata": {
    "tags": []
   },
   "outputs": [
    {
     "data": {
      "text/plain": [
       "21.11111111111111"
      ]
     },
     "execution_count": 19,
     "metadata": {},
     "output_type": "execute_result"
    }
   ],
   "source": [
    "def to_celsius(fahrenheit):\n",
    "    '''\n",
    "    화씨온도를 받으면 섭씨온도로 반환해줍니다\n",
    "    '''\n",
    "    return (fahrenheit-32)*5/9\n",
    "to_celsius(70)"
   ]
  },
  {
   "cell_type": "code",
   "execution_count": 28,
   "id": "9b8d7b26-0dd0-4983-87d9-10d73323853c",
   "metadata": {},
   "outputs": [
    {
     "name": "stdout",
     "output_type": "stream",
     "text": [
      "number가 짝수면 \"짝수\",홀수면 \"홀수\" 반환\n",
      "None\n",
      "홀수\n",
      "None\n"
     ]
    }
   ],
   "source": [
    "def odd_even(n):\n",
    "    '''number가 짝수면 \"짝수\",홀수면 \"홀수\" 반환'''\n",
    "    if type(n) == type(10) and n>0:\n",
    "        return \"짝수\" * (number%2 == 0) or \"홀수\"\n",
    "    else: \n",
    "        return None\n",
    "\n",
    "print(odd_even.__doc__)\n",
    "print(odd_even(-1))\n",
    "print(odd_even(9))\n",
    "print(odd_even(\"가\"))"
   ]
  },
  {
   "cell_type": "code",
   "execution_count": 32,
   "id": "4d91c726-de6f-42d8-ba13-b4b5b39f6125",
   "metadata": {},
   "outputs": [
    {
     "name": "stdout",
     "output_type": "stream",
     "text": [
      "윤년\n",
      "윤년\n",
      "평년\n"
     ]
    }
   ],
   "source": [
    "def check_leap_year(year):\n",
    "    #return \"평년\" * (year %100 == 0 and year%400 != 0) or \"윤년\" * (year%4==0) or \"평년\"\n",
    "    if year % 4 == 0 and (year %100 != 0 or y % 400 == 0):\n",
    "        return \"윤년\"\n",
    "    else:\n",
    "        return \"평년\"\n",
    "    \n",
    "print(check_leap_year(2004))\n",
    "print(check_leap_year(2000))\n",
    "print(check_leap_year(1900))"
   ]
  },
  {
   "cell_type": "code",
   "execution_count": 39,
   "id": "c0360cd8-588f-456f-9b32-4548c8538ad3",
   "metadata": {},
   "outputs": [
    {
     "name": "stdout",
     "output_type": "stream",
     "text": [
      "30\n",
      "31\n",
      "28\n",
      "29\n"
     ]
    }
   ],
   "source": [
    "def days(year,month):\n",
    "    \n",
    "    if month in [1,3,5,7,8,10,12]:\n",
    "        return 31\n",
    "    elif month in [4,6,9,11]:\n",
    "        return 30\n",
    "    else:\n",
    "        if year % 4 == 0 and (year %100 != 0 or year % 400 == 0):\n",
    "            return 29\n",
    "        else:\n",
    "            return 28\n",
    "\n",
    "\n",
    "print(days(1900,11))\n",
    "print(days(2004,10))\n",
    "print(days(1900,2))\n",
    "print(days(2000,2))"
   ]
  },
  {
   "cell_type": "code",
   "execution_count": 41,
   "id": "5a3ab188-e4dd-49f7-8c7d-2ecebdec0193",
   "metadata": {},
   "outputs": [
    {
     "name": "stdout",
     "output_type": "stream",
     "text": [
      "목:3, 나머지: 1\n"
     ]
    }
   ],
   "source": [
    "x = 10\n",
    "y = 3\n",
    "def get_quotient_remainder(x,y):\n",
    "    return x//y , x%y\n",
    "\n",
    "quitient,remainder = get_quotient_remainder(x,y)\n",
    "print(f'목: {quitient}, 나머지: {remainder}')"
   ]
  },
  {
   "cell_type": "markdown",
   "id": "c27dc1e8-4afe-4b5c-b941-0ef680d7d844",
   "metadata": {},
   "source": [
    "### 변수의 범위(Scope)\n",
    "1. 전역변수 = 가장 바깥 영역에서 선언한 변수(스크립트 전체에서 접근 가능하다.)\n",
    "- 지역범위 내에서 global 범위에 접근(단순조회x)(변경)하고 싶을때 global 키워드로 접근이 가능하다.\n",
    "2. 지역변수 = 함수 바디와 같이 지역내에서 선언된 변수(해당 지역 내에서만 접근이 가능하다.)\n",
    "- 안쪽 함수에서 바깥쪽 함수에 선언된 변수에 접근 하고 싶을때 nonlocal 키워드로 접근이 가능하다.\n",
    "- nonlocal은 제일 가까운 바깥 변수를 매칭한다.\n",
    "- 그렇기에 함수마다 다른 이름의 변수를 사용하는게 좋다(겹친다고 nonlocal로 다 가져올 수 있는게 아니기 때문)\n",
    "### 함수에서 변수를 호출하면!\n",
    "- 지역 영역 -> 전역 영역 -> 내장 영역 순으로 해당하는 변수를 확인한다. (내장영역 = 파이썬 자체에서 정의한 이름공간)"
   ]
  },
  {
   "cell_type": "code",
   "execution_count": 43,
   "id": "01ba6728-8eb8-4163-a753-8b56d274932a",
   "metadata": {},
   "outputs": [
    {
     "name": "stdout",
     "output_type": "stream",
     "text": [
      "Thsi is level 2.\n"
     ]
    }
   ],
   "source": [
    "def level1():\n",
    "    message = \"This is level 1.\"\n",
    "    def level2():\n",
    "        nonlocal message\n",
    "        message = \"Thsi is level 2.\"\n",
    "    level2()\n",
    "    print(message)\n",
    "level1() # level 2가 출력되는 것을 보아 nonlocal의 사용방식을 알 수 있다."
   ]
  },
  {
   "cell_type": "markdown",
   "id": "77aadcc4-f3d1-46b2-a894-0ca3494e2a9e",
   "metadata": {},
   "source": [
    "### 람다 Lambda\n",
    "- 호출될 때 값이 구해지는 하나의 표현식이다. (이름이 없는 인라인 함수이다)\n",
    "- 사용법 = lambda parameters : expression\n",
    "- 변수에 람다식을 저장(할당)할 수 있다.\n",
    "- 변수 없이 식 한 줄로 표현 가능(두줄로 쓰거나 ;로 줄을 늘리는게 불가능하다 = 새 변수를 만들 수 없다.)  \n",
    "  (lambda x,y=10 : x+y)(1)은 가능하다. 다만 변수가 필요한 경우는 def를 쓰는게 낫다.\n",
    "  \n",
    "### 조건 표현식과 람다\n",
    "- True일떄 값 if 조건식 else False일떄 값\n",
    "- if 와 else가 반드시 둘다 와야하며 중첩 가능하다.\n",
    "- 조건 표현식은 1줄이기 때문에 람다와 궁합이 좋다.\n",
    "- map또한 함수를 여러 인수들에게 적용해주므로 람다와 궁합이 좋다."
   ]
  },
  {
   "cell_type": "code",
   "execution_count": 53,
   "id": "c741edd4-0c88-4b46-912e-21fcd3e39ace",
   "metadata": {},
   "outputs": [
    {
     "name": "stdout",
     "output_type": "stream",
     "text": [
      "4\n",
      "11\n"
     ]
    }
   ],
   "source": [
    "# 람다 예제\n",
    "x = lambda a,b : a+b\n",
    "print(x(1,3))\n",
    "print((lambda a,b : a+b)(5,6))"
   ]
  },
  {
   "cell_type": "code",
   "execution_count": 55,
   "id": "3375aee9-2809-4abb-8788-594a33222e7b",
   "metadata": {},
   "outputs": [
    {
     "data": {
      "text/plain": [
       "'B'"
      ]
     },
     "execution_count": 55,
     "metadata": {},
     "output_type": "execute_result"
    }
   ],
   "source": [
    "#조건 표현식 예제 (조건 표현식 2번 사용한 예제)\n",
    "\n",
    "score = 90\n",
    "\"A\" if 90<score<=100 else \"B\" if 80<score else \"C\""
   ]
  },
  {
   "cell_type": "code",
   "execution_count": 57,
   "id": "58fa9138-b411-4f5a-a8c2-cc39fe310bfc",
   "metadata": {},
   "outputs": [
    {
     "name": "stdout",
     "output_type": "stream",
     "text": [
      "[2, 8, 18, 32, 50]\n"
     ]
    }
   ],
   "source": [
    "# 람다와 map의 조합\n",
    "a = [_ for _ in range(1,6)]\n",
    "b = [_ for _ in range(2,11,2)]\n",
    "print(list(map(lambda x,y : x*y, a, b))) #a의 5개 값과 b의 5개 값을 map으로묶어 lambda함수를 한번에 적용했다."
   ]
  },
  {
   "cell_type": "markdown",
   "id": "b79f9443-4ba6-46bd-8f9c-564572d4276d",
   "metadata": {},
   "source": [
    "### 람다 filter()\n",
    "- 람다와 filter() 함수를 같이 쓸 때 사용\n",
    "- 함수의 반환 값이 True 일때만 해당 요소르 ㄹ가져온다. list comprehension으로도 표현이 가능한 방식이다. \n",
    "- 사실 list comprehension이 더 보기 좋다."
   ]
  },
  {
   "cell_type": "code",
   "execution_count": null,
   "id": "ad1b888a-efa0-44f6-bfb0-3c60017d8869",
   "metadata": {},
   "outputs": [
    {
     "data": {
      "text/plain": [
       "[3, 9, 9]"
      ]
     },
     "execution_count": 59,
     "metadata": {},
     "output_type": "execute_result"
    }
   ],
   "source": [
    "a = [3,2,8,22,10,7,0,11,9,9]\n",
    "list(filter(lambda x: x%3 ==0 and 0<x<10,a))"
   ]
  }
 ],
 "metadata": {
  "kernelspec": {
   "display_name": "Python 3 (ipykernel)",
   "language": "python",
   "name": "python3"
  },
  "language_info": {
   "codemirror_mode": {
    "name": "ipython",
    "version": 3
   },
   "file_extension": ".py",
   "mimetype": "text/x-python",
   "name": "python",
   "nbconvert_exporter": "python",
   "pygments_lexer": "ipython3",
   "version": "3.9.13"
  }
 },
 "nbformat": 4,
 "nbformat_minor": 5
}
