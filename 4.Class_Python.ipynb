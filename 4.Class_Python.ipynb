{
 "cells": [
  {
   "cell_type": "markdown",
   "id": "bae535c1-a644-4557-989f-2d065283cadc",
   "metadata": {},
   "source": [
    "### 객체지향 프로그래밍\n",
    "- 객체지향 프로그래밍은 복잡한 문제를 잘게 나누어 객체로 만들고, 객체를 조합해서 문제를 해결한다.\n",
    "- 현실 세계의 복잡한 문제를 처리하는데 유용하며 기능을 개선하고 발전시킬 때도 해당 클래스만 수정하면 되므로 \n",
    "  큰 프로젝트의 유지복수에도 매우 효율적입니다.\n",
    "- 객체가 가진 데이터를 클래스의 속성(Attribute)이라 부르고 객체가 갖는 기능을 메서드(Method)라고 부릅니다.\n",
    "\n",
    "### 클래스\n",
    "- 클래스 명은 주로 PascalCase를 사용한다.\n",
    "- 클래스는 사용자 정의 객체를 만들기 위한 주형이라고 생각하면 된다.\n",
    "- 클래스 정의는 보통 클래스의 인스턴스를 대상으로 연산하는 메서드 정의를 포함하고 있습니다.\n",
    "- 클래스도 doc_string을 적어줄 수 있다.\n",
    "- int,list,dict 등도 클래스입니다.\n",
    "\n",
    "### 객체와 인스턴스\n",
    "- 객체와 인스턴스는 같은 말이라고 할 수 있는데, 객체는 단지 객체 라고 표현하지만 \n",
    "  인스턴스는 특정 클래스의~인스턴스다~라고 표기한다는 차이점이 있다.\n",
    "  \n",
    "### 메서드 Method\n",
    "- 클래스 바디 안에서 정의되는 함수이다.\n",
    "- 해당 클래스의 객체들이 각각 가질 수 있는 함수이다.\n",
    "- 메서드는 첫 번째 인자로 인스턴스 객체(self)를 받는다.\n",
    "- 첫 번째 인자를 설정 안 하면 에러가 발생한다.\n",
    "- 클래스 속성을 만들때 __init__메서드 안에 self.속성에 값을 할당하면 된다. \n",
    "  - init함수에 self를 인자로 넣지 않으면 오류가 발생한다.\n",
    "  - __=double under score = dunder (파이썬의 여러 기능들을 사용할 때 던더 메서드를 구현하여 사용한다. )\n"
   ]
  },
  {
   "cell_type": "code",
   "execution_count": 64,
   "id": "1bcf1ff7-dc90-4518-9b43-9ff0d37eb38b",
   "metadata": {},
   "outputs": [
    {
     "name": "stdout",
     "output_type": "stream",
     "text": [
      "<class '__main__.ClassName'>\n"
     ]
    }
   ],
   "source": [
    "class ClassName():\n",
    "    def method_name(self):\n",
    "        pass # method_body\n",
    "    pass # class_body\n",
    "instance_variable = ClassName()\n",
    "print(type(instance_variable))"
   ]
  },
  {
   "cell_type": "code",
   "execution_count": 81,
   "id": "0b564dd9-26fa-4641-be0b-770168678a62",
   "metadata": {},
   "outputs": [],
   "source": [
    "class Student():\n",
    "    def __init__(self):\n",
    "        self.hello = \"안녕하세요\"\n",
    "    def greeting(self):\n",
    "        print(self.hello)"
   ]
  },
  {
   "cell_type": "markdown",
   "id": "11cfac32-bdac-4c14-b4d5-1f3a057fd759",
   "metadata": {},
   "source": [
    "- self는 인스턴스 자기 자신을 의미한다.\n",
    "- self.hello 처럼 객체마다 자기 자신에 속성을 추가하여 사용할 수 있다.\n",
    "- __init__의 매개변수 self에 들어가는 값은 Student() 의 인스턴스라고 할 수 있다.\n",
    "- self 가 완성된 후에는 변수인 james에 할당되었다.\n",
    "- 이후 메서드를 호출하면 현재 인스턴스가 자동으로 매개변수 self에 들어옵니다. 그래서 "
   ]
  },
  {
   "cell_type": "code",
   "execution_count": 82,
   "id": "ff7a7e8d-6e85-455f-9f01-424b0b1d0cb0",
   "metadata": {},
   "outputs": [
    {
     "name": "stdout",
     "output_type": "stream",
     "text": [
      "안녕하세요\n",
      "안녕하세요\n"
     ]
    }
   ],
   "source": [
    "chang = Student() # 독립적인 값을 보장하는 instance로 생성됩니다.\n",
    "print(chang.hello)\n",
    "chang.greeting()"
   ]
  },
  {
   "cell_type": "code",
   "execution_count": 79,
   "id": "9c5c512e-5f88-4029-a015-8e75fcf8857a",
   "metadata": {},
   "outputs": [
    {
     "name": "stdout",
     "output_type": "stream",
     "text": [
      "안녕하세요\n"
     ]
    }
   ],
   "source": [
    "bebe = Student()\n",
    "print(bebe.hello)"
   ]
  },
  {
   "cell_type": "markdown",
   "id": "1bdc34d4-17ab-4dab-b2b7-d22c9850cd15",
   "metadata": {},
   "source": [
    "### self란\n",
    "- 인스턴스 자기자신을 가리킨다.\n",
    "### 클래스 속성\n",
    "- 인스턴스를 생성할때 만들어지는 값\n",
    "- 속성 값 할당을 위해서 __init__(self) 메서드안에 slef 다음에 값을 받을 매개변수를 지정해주어야 한다.\n",
    "- 그 후 매개변수를 self.속성에 할당한다.\n",
    "### 비공개 속성\n",
    "- 인스턴스 속성값을 변경하지 못하도록 만들기 위해서는 비공개 속성 사용가능\n",
    "- self.__attr2 = param2 # 비공개 속성은 클래스 영역 밖에서는 호출(출력)이 불가능하다.\n",
    "- method 또한 앞에 __ 를 붙여주면 클래스 영역 밖에서 호출이 불가능한 비공개 메서드로 사용가능하다.\n",
    "- 비공개 속성은 class 내부에서는 접근이 되기 때문에 method를 통해 간접적으로 사용가능하다.(자바의 private와 같다.)\n",
    "- 비공개 속성을 수정할 때도 method를 통해 클래스 내부에서 간접 접근한다면 수정도 가능하다."
   ]
  },
  {
   "cell_type": "code",
   "execution_count": 11,
   "id": "acb30722-8928-4bfc-9f16-4a319b76c9ab",
   "metadata": {},
   "outputs": [],
   "source": [
    "class Person:\n",
    "    org = 'korea'  # 얘는 class속성이다. 얘를 접근하여 바꾸면 해당 class로 만든 모든 instance의 org값이 바뀐다\n",
    "    def __init__(self,name,age,address,wallet):\n",
    "        self.hello = \"안녕하세요\"\n",
    "        self.name = name\n",
    "        self.age = age\n",
    "        self.address = address\n",
    "        self.__wallet = wallet\n",
    "    def greeting(self):\n",
    "        print(f\"{self.hello} 제 이름은 {self.name}입니다.\")\n",
    "    def get_wallet(self):\n",
    "        print(self.__wallet)\n",
    "    def set_wallet(self,n):\n",
    "        self.__wallet = n\n",
    "    def pay(self,amount):\n",
    "        if self.__wallet <amount:\n",
    "            print(\"돈이 모자랍니다.\")\n",
    "            return\n",
    "        self.__wallet -=amount\n",
    "        print(f\"이제 {self.__wallet}원 남았네요\")\n",
    "    @classmethod # self를 사용하지 않고, class 자체로 method만드는 방법\n",
    "    def from_string(cls,string):\n",
    "        name,age,address,__wallet = string.split(\",\")\n",
    "        return cls(name,age,address,__wallet)\n",
    "  #  @staticmethod #self도 cls(class)도 안쓰는 경우(인스턴스나 class 영향없이 자체로 method가 될때) "
   ]
  },
  {
   "cell_type": "code",
   "execution_count": 12,
   "id": "0535371a-c20d-46b3-8919-23c1aa9e0822",
   "metadata": {},
   "outputs": [
    {
     "name": "stdout",
     "output_type": "stream",
     "text": [
      "안녕하세요 제 이름은 james입니다.\n",
      "2000\n",
      "돈이 모자랍니다.\n",
      "2000\n",
      "이제 0원 남았네요\n",
      "korea\n"
     ]
    }
   ],
   "source": [
    "p1 = Person(\"james\",20,\"서울시 마포구\",2000)\n",
    "p2 = Person(\"tomas\",10,\"수원시 권선동\",30000)\n",
    "p1.greeting()\n",
    "p1.get_wallet() \n",
    "p1.pay(20000)\n",
    "p1.get_wallet() \n",
    "p1.set_wallet(20000)\n",
    "p1.pay(20000)"
   ]
  },
  {
   "cell_type": "code",
   "execution_count": 90,
   "id": "ac40dbe6-00cf-4c69-bc04-882e5f792e49",
   "metadata": {},
   "outputs": [
    {
     "name": "stdout",
     "output_type": "stream",
     "text": [
      "{'hello': '안녕하세요', 'name': 'james', 'age': 20, 'address': '서울시 마포구', '_Person__wallet': 0}\n",
      "{'hello': '안녕하세요', 'name': 'tomas', 'age': 10, 'address': '수원시 권선동', '_Person__wallet': 30000}\n"
     ]
    }
   ],
   "source": [
    "#__dict__를 통해 해당 인스턴스의 속성들을 볼 수 있다.\n",
    "print(p1.__dict__)\n",
    "print(p2.__dict__)"
   ]
  },
  {
   "cell_type": "code",
   "execution_count": 44,
   "id": "5783678f-e934-4622-bbec-478682912f94",
   "metadata": {},
   "outputs": [
    {
     "name": "stdin",
     "output_type": "stream",
     "text": [
      "이름은 무엇인가요? : 창\n",
      "나이는 무엇인가요? : 19\n",
      "주소는 무엇인가요? : 수원시\n",
      "이름은 무엇인가요? : 병\n",
      "나이는 무엇인가요? : 20\n",
      "주소는 무엇인가요? : 서울시\n"
     ]
    },
    {
     "name": "stdout",
     "output_type": "stream",
     "text": [
      "첫번째 이름:창\n",
      "첫번째 나이:19\n",
      "첫번째 주소:수원시\n",
      "두번째 이름:병\n",
      "두번째 나이:20\n",
      "두번째 주소:서울시\n"
     ]
    }
   ],
   "source": [
    "class Person():\n",
    "    def __init__(self):\n",
    "        self.name = input(\"이름은 무엇인가요? :\")\n",
    "        self.age = int(input(\"나이는 무엇인가요? :\"))\n",
    "        self.address = input(\"주소는 무엇인가요? :\")\n",
    "       \n",
    "    def Person_info(self,n):\n",
    "        print(f\"{n}번째 이름:{self.name}\\n{n}번째 나이:{self.age}\\n{n}번째 주소:{self.address}\")\n",
    "        \n",
    "p1 = Person()\n",
    "p2 = Person()\n",
    "p1.Person_info(\"첫\")\n",
    "p2.Person_info(\"두\")"
   ]
  },
  {
   "cell_type": "code",
   "execution_count": 45,
   "id": "e1e45108-1f71-4e24-9c6b-45209bdcb0b2",
   "metadata": {},
   "outputs": [
    {
     "name": "stdin",
     "output_type": "stream",
     "text": [
      "체력,마나,AP를 입력하세요 1 2 298\n"
     ]
    },
    {
     "name": "stdout",
     "output_type": "stream",
     "text": [
      "티버: 피해량 593.7\n"
     ]
    }
   ],
   "source": [
    "class Character():\n",
    "    def __init__(self):\n",
    "        HP,MP,AP = input(\"체력,마나,AP를 입력하세요\").split()\n",
    "        self.HP = float(HP)\n",
    "        self.MP = float(MP)\n",
    "        self.AP = int(AP)\n",
    "    def tibbers(self):\n",
    "        print(f'티버: 피해량 {self.AP*0.65+400}')\n",
    "        \n",
    "C1 = Character()\n",
    "C1.tibbers()"
   ]
  },
  {
   "cell_type": "code",
   "execution_count": 3,
   "id": "48a2180e-e3fd-4e03-b6e7-d4cde6835454",
   "metadata": {},
   "outputs": [
    {
     "name": "stdout",
     "output_type": "stream",
     "text": [
      "윤규헌님을 1팀에 추가했습니다.\n",
      "윤규헌님은 이미 팀에 있습니다.\n",
      "1\n",
      "이호진님을 1팀에 추가했습니다.\n",
      "2\n",
      "이기수님을 1팀에 추가했습니다.\n",
      "이기수님을 1팀에서 삭제했습니다.\n",
      "이기수님은 해당 팀에 없습니다.\n",
      "order: [2, 1]\n",
      "count: 2\n",
      "count: 3\n",
      "order: [2, 1, 3]\n"
     ]
    }
   ],
   "source": [
    "class Team:\n",
    "    '''팀 객체를 만듭니다.'''\n",
    "    count = 0\n",
    "    order = []\n",
    "    def __init__(self,number):\n",
    "        self.number = number\n",
    "        self.name = None\n",
    "        self.__member = set()\n",
    "        Team.count +=1\n",
    "                         \n",
    "    def __len__(self): # 내장 함수(Built-in function) len(Team())-->파이썬 __len__(self)를 찾아서 실행\n",
    "        return len(self.__member)\n",
    "        \n",
    "    def add_member(self,name):\n",
    "        if name in self.__member:\n",
    "            print(f\"{name}님은 이미 팀에 있습니다.\")\n",
    "        else:\n",
    "            self.__member.add(name)\n",
    "            print(f\"{name}님을 {self.number}팀에 추가했습니다.\")\n",
    "            \n",
    "    def rm_member(self,name):\n",
    "        if name in self.__member:\n",
    "            self.__member.remove(name)\n",
    "            print(f\"{name}님을 {self.number}팀에서 삭제했습니다.\")\n",
    "        else:\n",
    "            print(f\"{name}님은 해당 팀에 없습니다.\")\n",
    "    \n",
    "    def get_count(self):\n",
    "        print(f\"count: {Team.count}\")\n",
    "        \n",
    "    def get_order(self):\n",
    "        print(f\"order: {Team.order}\")\n",
    "    \n",
    "    def set_order(self,num):\n",
    "        if num in Team.order:\n",
    "            Team.order.remove(num)\n",
    "        Team.order.append(num)\n",
    "        \n",
    "    def print_teams(self):\n",
    "        for i in self.__member:\n",
    "            print(i,end=' ')\n",
    "        print()\n",
    "        \n",
    "t1 = Team(1)\n",
    "t1.add_member('윤규헌')\n",
    "t1.add_member('윤규헌')\n",
    "print(len(t1))\n",
    "t1.add_member('이호진')\n",
    "print(len(t1))\n",
    "t1.add_member(\"이기수\")\n",
    "t1.rm_member('이기수')\n",
    "t1.rm_member('이기수')\n",
    "\n",
    "t2 = Team(2)\n",
    "t2.set_order(t2.number)\n",
    "t1.set_order(t1.number)\n",
    "t1.get_order()\n",
    "t1.get_count()\n",
    "t3 = Team(3)\n",
    "t3.get_count()\n",
    "t3.set_order(t3.number)\n",
    "t3.get_order()"
   ]
  },
  {
   "cell_type": "code",
   "execution_count": 27,
   "id": "e6139c9e-df57-4024-bfa4-7030058f306e",
   "metadata": {},
   "outputs": [
    {
     "name": "stdout",
     "output_type": "stream",
     "text": [
      "황도희님을 0팀에 추가했습니다.\n",
      "서영호님을 1팀에 추가했습니다.\n",
      "김호영님을 2팀에 추가했습니다.\n",
      "우상욱님을 3팀에 추가했습니다.\n",
      "이민호님을 4팀에 추가했습니다.\n",
      "김유림님을 0팀에 추가했습니다.\n",
      "도강현님을 1팀에 추가했습니다.\n",
      "신제우님을 2팀에 추가했습니다.\n",
      "허경모님을 3팀에 추가했습니다.\n",
      "윤규헌님을 4팀에 추가했습니다.\n",
      "민병창님을 0팀에 추가했습니다.\n",
      "김기훈님을 1팀에 추가했습니다.\n",
      "맹지호님을 2팀에 추가했습니다.\n",
      "강지인님을 3팀에 추가했습니다.\n",
      "이병호님을 4팀에 추가했습니다.\n",
      "김민수님을 0팀에 추가했습니다.\n",
      "김예린님을 1팀에 추가했습니다.\n",
      "이선주님을 2팀에 추가했습니다.\n",
      "김강직님을 3팀에 추가했습니다.\n",
      "김경목님을 4팀에 추가했습니다.\n",
      "이호진님을 0팀에 추가했습니다.\n",
      "Team : 1  이호진 김유림 민병창 김민수 황도희 \n",
      "Team : 2  김기훈 김예린 서영호 도강현 \n",
      "Team : 3  김호영 신제우 맹지호 이선주 \n",
      "Team : 4  우상욱 강지인 허경모 김강직 \n",
      "Team : 5  이병호 이민호 윤규헌 김경목 \n"
     ]
    }
   ],
   "source": [
    "import numpy as np\n",
    "class TeamBuilder:\n",
    "    has_team = False\n",
    "    teams = []\n",
    "    \n",
    "    def __init__(self,members,team_count):\n",
    "        self.members = members\n",
    "        self.team_count = team_count\n",
    "        self.create_team()\n",
    "        \n",
    "    def create_team(self):\n",
    "        nums = np.arange(len(self.members))\n",
    "        np.random.shuffle(nums)\n",
    "        count =0\n",
    "        if TeamBuilder.has_team:\n",
    "            TeamBuilder.teams = []\n",
    "            \n",
    "        for i in range(self.team_count):\n",
    "            TeamBuilder.teams.append(Team(i))\n",
    "        \n",
    "        for i in nums:\n",
    "            if count == self.team_count:\n",
    "                count = 0\n",
    "            \n",
    "            TeamBuilder.teams[count].add_member(self.members[i])\n",
    "            count+=1\n",
    "        has_team = True\n",
    "                \n",
    "    def show_team_info(self):\n",
    "        for i in range(self.team_count):\n",
    "            print('Team :',i+1,' ',end='')\n",
    "            TeamBuilder.teams[i].print_teams()\n",
    "        \n",
    "members =list(\"강지인 김강직 김경목 김기훈 김민수 김예린 김유림 김호영 도강현 맹지호 민병창 서영호 신제우 우상욱 윤규헌 이민호 이병호 이선주 이호진 허경모 황도희\".split())\n",
    "builder1 = TeamBuilder(members,5)\n",
    "builder1.show_team_info()"
   ]
  }
 ],
 "metadata": {
  "kernelspec": {
   "display_name": "Python 3 (ipykernel)",
   "language": "python",
   "name": "python3"
  },
  "language_info": {
   "codemirror_mode": {
    "name": "ipython",
    "version": 3
   },
   "file_extension": ".py",
   "mimetype": "text/x-python",
   "name": "python",
   "nbconvert_exporter": "python",
   "pygments_lexer": "ipython3",
   "version": "3.9.13"
  }
 },
 "nbformat": 4,
 "nbformat_minor": 5
}
