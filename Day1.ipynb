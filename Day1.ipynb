{
 "cells": [
  {
   "cell_type": "code",
   "execution_count": 44,
   "id": "83541ade-4ca7-4210-b3f6-c7b7c3c47171",
   "metadata": {},
   "outputs": [
    {
     "ename": "SyntaxError",
     "evalue": "EOL while scanning string literal (2040392530.py, line 8)",
     "output_type": "error",
     "traceback": [
      "\u001b[1;36m  File \u001b[1;32m\"C:\\Users\\민병창\\AppData\\Local\\Temp\\ipykernel_7428\\2040392530.py\"\u001b[1;36m, line \u001b[1;32m8\u001b[0m\n\u001b[1;33m    \"\"\"\"\u001b[0m\n\u001b[1;37m        \n^\u001b[0m\n\u001b[1;31mSyntaxError\u001b[0m\u001b[1;31m:\u001b[0m EOL while scanning string literal\n"
     ]
    }
   ],
   "source": [
    "\"\"\"\n",
    "사칙연산\n",
    "//  몫만 구하기\n",
    "/   나누기(소수점도 구함)\n",
    "%   나머지만 구하기\n",
    "**  제곱\n",
    "\n",
    "\"\"\"\""
   ]
  },
  {
   "cell_type": "code",
   "execution_count": 45,
   "id": "cc157073-5a74-416b-b840-13f88d0d4ede",
   "metadata": {},
   "outputs": [
    {
     "name": "stdout",
     "output_type": "stream",
     "text": [
      "Hello, world!\n",
      "Hello, world!\n",
      "Python Programming\n",
      "89\n",
      "28.2\n",
      "3.605551275463989\n",
      "\"가장 시끄러운 층은 = 7층\"\n",
      "\n",
      "냉장고 가격은 1272000 원 입니다.\n"
     ]
    }
   ],
   "source": [
    "#문자열 출력부분\n",
    "text1 = \"Hello, world!\"\n",
    "text2 = \"Python Programming\"\n",
    "print(\"{}\\n{}\\n{}\".format(text1,text1,text2))\n",
    "\n",
    "print(13+(22-3)*4)\n",
    "print(13+((22-3)*4)/5)\n",
    "print(13**(1/2))\n",
    "\n",
    "print(\"\\\"가장 시끄러운 층은 = {}층\\\"\".format(round(0.2467*12+4.159)))\n"
   ]
  },
  {
   "cell_type": "code",
   "execution_count": 65,
   "id": "1d18c1cf-eb6b-4c10-9ca9-ccf56efacec0",
   "metadata": {},
   "outputs": [
    {
     "name": "stdout",
     "output_type": "stream",
     "text": [
      "11234000000.0 \t 0.00012345\n",
      "17 \t 0b10001\n",
      "17 \t 0o21\n",
      "31 \t 0x1f\n"
     ]
    }
   ],
   "source": [
    "#지수 표기법\n",
    "#ex) 1.1234e10 = 1.1234*10^10\n",
    "print(1.1234e10,\"\\t\",1.2345e-4)\n",
    "#2진법 표기법 0b10001 = 17로 출력, bin(17) = 0b10110으로 출력\n",
    "print(0b10001,\"\\t\",bin(17))\n",
    "#8진수 표기법 0o21 = 17 로 출력,oct(17) = 0o21로 출력\n",
    "print(0o21,\"\\t\",oct(17))\n",
    "#16진수 표기법 0x1f = 31 로 출력, hex(31) = ox1f로 출력\n",
    "print(0x1f,\"\\t\",hex(31))\n",
    "#복소수형은 complex()로 변수할당 가능."
   ]
  },
  {
   "cell_type": "code",
   "execution_count": 67,
   "id": "0d94775b-30b8-4aba-85a7-4841d28b18d3",
   "metadata": {},
   "outputs": [
    {
     "name": "stdout",
     "output_type": "stream",
     "text": [
      "30\n"
     ]
    },
    {
     "ename": "NameError",
     "evalue": "name 'a' is not defined",
     "output_type": "error",
     "traceback": [
      "\u001b[1;31m---------------------------------------------------------------------------\u001b[0m",
      "\u001b[1;31mNameError\u001b[0m                                 Traceback (most recent call last)",
      "\u001b[1;32m~\\AppData\\Local\\Temp\\ipykernel_9860\\2908042196.py\u001b[0m in \u001b[0;36m<module>\u001b[1;34m\u001b[0m\n\u001b[0;32m      4\u001b[0m \u001b[0mprint\u001b[0m\u001b[1;33m(\u001b[0m\u001b[0ma\u001b[0m\u001b[1;33m)\u001b[0m\u001b[1;33m\u001b[0m\u001b[1;33m\u001b[0m\u001b[0m\n\u001b[0;32m      5\u001b[0m \u001b[1;32mdel\u001b[0m \u001b[0ma\u001b[0m\u001b[1;33m\u001b[0m\u001b[1;33m\u001b[0m\u001b[0m\n\u001b[1;32m----> 6\u001b[1;33m \u001b[0mprint\u001b[0m\u001b[1;33m(\u001b[0m\u001b[0ma\u001b[0m\u001b[1;33m)\u001b[0m\u001b[1;33m\u001b[0m\u001b[1;33m\u001b[0m\u001b[0m\n\u001b[0m",
      "\u001b[1;31mNameError\u001b[0m: name 'a' is not defined"
     ]
    }
   ],
   "source": [
    "# del 명령어 = 변수를 삭제하는데 사용함.\n",
    "a = 10\n",
    "a = a+20\n",
    "print(a)\n",
    "del a \n",
    "print(a)"
   ]
  },
  {
   "cell_type": "code",
   "execution_count": null,
   "id": "7a69e3f4-23a2-4d1c-90f0-050b46b7bfdd",
   "metadata": {},
   "outputs": [],
   "source": [
    "#변수에 빈 값 할당하기 = 파이썬은 None이 빈 값임.\n",
    "a = None\n",
    "print(a)\n",
    "#상수 - 파이썬에서 따로 상수 만드는 방법은 없지만 대문자로만된 SNAKE_CASE를 활용하여 상수명을 만들어 쓰긴 함.(클래스를 통해 따로 구현이 가능함.)\n",
    "#bool literal -파이썬의 bool type -True , False 존재\n",
    "type(True)"
   ]
  },
  {
   "cell_type": "code",
   "execution_count": null,
   "id": "29d9e7af-5af2-4c77-88ea-46958fc15860",
   "metadata": {},
   "outputs": [],
   "source": [
    "#논리 연산자 and = & ,or = | ,not = ~"
   ]
  },
  {
   "cell_type": "code",
   "execution_count": 82,
   "id": "954491dd-5948-4b44-912b-43a4e8a4f5e5",
   "metadata": {},
   "outputs": [
    {
     "name": "stdout",
     "output_type": "stream",
     "text": [
      "이것은 문자열 입니다\n",
      "'이것은 따옴표가 추가된 문자열 입니다.'\n",
      "1\n",
      "2\\3\n",
      "\n",
      "안\n",
      "녕\n",
      "하\n",
      "세\n",
      "요\n",
      "안\n",
      "\"안녕\"\n",
      "녕\n"
     ]
    }
   ],
   "source": [
    "#문자열 리터럴 - 작은 따옴표, 큰 따옴표를 사용하여 표현할 수 있다.(둘은 같은 결과를 가짐)\n",
    "text = \"이것은 문자열 입니다\"\n",
    "print(text)\n",
    "# ' \" 와 같은 문자를 문자열안에 포함하고 싶을때 \\사용하면 된다.\n",
    "text2 = \"\\'이것은 따옴표가 추가된 문자열 입니다.\\'\"\n",
    "print(text2)\n",
    "# \\ 도 마찬가지\n",
    "text3 = \"1\\n2\\\\3\"\n",
    "print(text3)\n",
    "#\\n없이 줄바꿈이 되도록 가능하다.\n",
    "text4 = \"\"\"\n",
    "안\n",
    "녕\n",
    "하\n",
    "세\n",
    "요\"\"\"\n",
    "print(text4)\n",
    "#첫줄에 줄바꿈을 원치 않을 때 아래와 같이 사용 가능하다 , 또한 삼중따옴표 안에서는 따옴표를 그냥 사용되어도 된다.\n",
    "text5 = '''\\\n",
    "안\n",
    "\"안녕\"\n",
    "녕'''\n",
    "print(text5)"
   ]
  },
  {
   "cell_type": "code",
   "execution_count": 25,
   "id": "1b2e62fd-a0e6-4395-bbc0-a2198dac258b",
   "metadata": {},
   "outputs": [
    {
     "name": "stdout",
     "output_type": "stream",
     "text": [
      "꺽\n",
      "꺽이지 않는 마음\n",
      "중한것 이 는\n",
      "중요한 것은 꺽이지 않는 마음\n",
      "한요중\n"
     ]
    }
   ],
   "source": [
    "#시퀀스 자료형에 사용가능한 인덱싱\n",
    "sentence = \"중요한 것은 꺽이지 않는 마음\"\n",
    "print(sentence[7])\n",
    "\n",
    "#시퀀스 자료형에 사용가능한 슬라이싱, 비어있다면 끝까지를 의미함. \n",
    "print(sentence[7:])\n",
    "#슬라이싱 추가 정보\n",
    "print(sentence[0:14:2]) # 2가 증감 크기임(2칸씩 건너 뛰어간다는 이야기.)\n",
    "#슬라이싱은 범위를 넘어가는 것에 대해 너그러움\n",
    "#(슬라이싱 뒷부분은(여기선144)미만 처리이기 때문에 결국 index보다 큰 숫자를 넣어야 모두 출력 가능하다. 그렇기에 발생하는 너그러움임.)\n",
    "print(sentence[0:144])\n",
    "#증감 부분에 -를 넣음으로써 역순으로 읽는것도 가능함.\n",
    "print(sentence[2::-1])"
   ]
  },
  {
   "cell_type": "code",
   "execution_count": 43,
   "id": "e6ee457d-d2b7-4c44-b63c-3384f026894a",
   "metadata": {},
   "outputs": [
    {
     "name": "stdout",
     "output_type": "stream",
     "text": [
      "[1, 2, 3, 1, 2, 3]\n",
      "[[1, 2, 3, 1, 2, 3], ['a', 'b', 'c']]\n",
      "1\n",
      "['b', 'c']\n",
      "False\n",
      "True\n",
      "True\n"
     ]
    }
   ],
   "source": [
    "#list =파이썬 언어에서 가장 융튱성 있는 자료형으로 서로 다른 형의 항목들이 포함 가능하며 mutable한 특성을 가짐\n",
    "#리스트 또한 시퀀스 자료형이기에 인덱싱과 슬라이싱 사용가능.\n",
    "list_x = [1,2,3]\n",
    "list_x = list_x*2\n",
    "#리스트안의 리스트도 존재 가능하며 인덱싱과 슬라이싱 사용가능.\n",
    "list_z = ['a','b','c']\n",
    "list_y = [list_x,list_z]\n",
    "print(list_x)\n",
    "print(list_y)\n",
    "print(list_y[0][3])\n",
    "print(list_y[1][1:])\n",
    "#리스트에 특정 요소가 있는지 확인하는 키워드 = in\n",
    "print('a' in list_y) # 얘는 안되는 것을 보면 리스트안의 리스트까지 읽지는 못하는것으로 보임\n",
    "print('a' in list_y[1])"
   ]
  }
 ],
 "metadata": {
  "kernelspec": {
   "display_name": "Python 3 (ipykernel)",
   "language": "python",
   "name": "python3"
  },
  "language_info": {
   "codemirror_mode": {
    "name": "ipython",
    "version": 3
   },
   "file_extension": ".py",
   "mimetype": "text/x-python",
   "name": "python",
   "nbconvert_exporter": "python",
   "pygments_lexer": "ipython3",
   "version": "3.9.13"
  }
 },
 "nbformat": 4,
 "nbformat_minor": 5
}
